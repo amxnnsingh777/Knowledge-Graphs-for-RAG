{
  "nbformat": 4,
  "nbformat_minor": 0,
  "metadata": {
    "colab": {
      "provenance": []
    },
    "kernelspec": {
      "name": "python3",
      "display_name": "Python 3"
    },
    "language_info": {
      "name": "python"
    }
  },
  "cells": [
    {
      "cell_type": "code",
      "source": [
        "# 🔐 Create .env file with your credentials\n",
        "env_data = \"\"\"\n",
        "\n",
        "\"\"\"\n",
        "\n",
        "# Write to .env file\n",
        "with open(\".env\", \"w\") as f:\n",
        "    f.write(env_data)\n",
        "\n",
        "print(\"✅ .env file created successfully\")\n"
      ],
      "metadata": {
        "colab": {
          "base_uri": "https://localhost:8080/",
          "height": 0
        },
        "id": "oh25iRoboV53",
        "outputId": "723c446a-f6da-485e-9326-a2706e0639f2"
      },
      "execution_count": 1,
      "outputs": [
        {
          "output_type": "stream",
          "name": "stdout",
          "text": [
            "✅ .env file created successfully\n"
          ]
        }
      ]
    },
    {
      "cell_type": "markdown",
      "metadata": {
        "id": "0151deab-ec4e-4738-b9b0-fec2424b2da3"
      },
      "source": [
        "\n",
        "\n",
        "# Querying Knowledge Graphs with Cypher"
      ]
    },
    {
      "cell_type": "markdown",
      "metadata": {
        "id": "74b00a43-df0b-4ead-8de6-2365e8a26f53"
      },
      "source": [
        "### Import packages and set up Neo4"
      ]
    },
    {
      "cell_type": "code",
      "source": [
        "!pip install -U langchain langchain-community"
      ],
      "metadata": {
        "colab": {
          "base_uri": "https://localhost:8080/",
          "height": 0
        },
        "id": "TkTtxmohyJ0V",
        "outputId": "7eacb626-02d4-4a79-81b7-b4e59c9e04dc"
      },
      "execution_count": 2,
      "outputs": [
        {
          "output_type": "stream",
          "name": "stdout",
          "text": [
            "Requirement already satisfied: langchain in /usr/local/lib/python3.11/dist-packages (0.3.26)\n",
            "Requirement already satisfied: langchain-community in /usr/local/lib/python3.11/dist-packages (0.3.27)\n",
            "Requirement already satisfied: langchain-core<1.0.0,>=0.3.66 in /usr/local/lib/python3.11/dist-packages (from langchain) (0.3.68)\n",
            "Requirement already satisfied: langchain-text-splitters<1.0.0,>=0.3.8 in /usr/local/lib/python3.11/dist-packages (from langchain) (0.3.8)\n",
            "Requirement already satisfied: langsmith>=0.1.17 in /usr/local/lib/python3.11/dist-packages (from langchain) (0.4.4)\n",
            "Requirement already satisfied: pydantic<3.0.0,>=2.7.4 in /usr/local/lib/python3.11/dist-packages (from langchain) (2.11.7)\n",
            "Requirement already satisfied: SQLAlchemy<3,>=1.4 in /usr/local/lib/python3.11/dist-packages (from langchain) (2.0.41)\n",
            "Requirement already satisfied: requests<3,>=2 in /usr/local/lib/python3.11/dist-packages (from langchain) (2.32.3)\n",
            "Requirement already satisfied: PyYAML>=5.3 in /usr/local/lib/python3.11/dist-packages (from langchain) (6.0.2)\n",
            "Requirement already satisfied: aiohttp<4.0.0,>=3.8.3 in /usr/local/lib/python3.11/dist-packages (from langchain-community) (3.11.15)\n",
            "Requirement already satisfied: tenacity!=8.4.0,<10,>=8.1.0 in /usr/local/lib/python3.11/dist-packages (from langchain-community) (9.1.2)\n",
            "Requirement already satisfied: dataclasses-json<0.7,>=0.5.7 in /usr/local/lib/python3.11/dist-packages (from langchain-community) (0.6.7)\n",
            "Requirement already satisfied: pydantic-settings<3.0.0,>=2.4.0 in /usr/local/lib/python3.11/dist-packages (from langchain-community) (2.10.1)\n",
            "Requirement already satisfied: httpx-sse<1.0.0,>=0.4.0 in /usr/local/lib/python3.11/dist-packages (from langchain-community) (0.4.1)\n",
            "Requirement already satisfied: numpy>=1.26.2 in /usr/local/lib/python3.11/dist-packages (from langchain-community) (2.0.2)\n",
            "Requirement already satisfied: aiohappyeyeballs>=2.3.0 in /usr/local/lib/python3.11/dist-packages (from aiohttp<4.0.0,>=3.8.3->langchain-community) (2.6.1)\n",
            "Requirement already satisfied: aiosignal>=1.1.2 in /usr/local/lib/python3.11/dist-packages (from aiohttp<4.0.0,>=3.8.3->langchain-community) (1.4.0)\n",
            "Requirement already satisfied: attrs>=17.3.0 in /usr/local/lib/python3.11/dist-packages (from aiohttp<4.0.0,>=3.8.3->langchain-community) (25.3.0)\n",
            "Requirement already satisfied: frozenlist>=1.1.1 in /usr/local/lib/python3.11/dist-packages (from aiohttp<4.0.0,>=3.8.3->langchain-community) (1.7.0)\n",
            "Requirement already satisfied: multidict<7.0,>=4.5 in /usr/local/lib/python3.11/dist-packages (from aiohttp<4.0.0,>=3.8.3->langchain-community) (6.6.3)\n",
            "Requirement already satisfied: propcache>=0.2.0 in /usr/local/lib/python3.11/dist-packages (from aiohttp<4.0.0,>=3.8.3->langchain-community) (0.3.2)\n",
            "Requirement already satisfied: yarl<2.0,>=1.17.0 in /usr/local/lib/python3.11/dist-packages (from aiohttp<4.0.0,>=3.8.3->langchain-community) (1.20.1)\n",
            "Requirement already satisfied: marshmallow<4.0.0,>=3.18.0 in /usr/local/lib/python3.11/dist-packages (from dataclasses-json<0.7,>=0.5.7->langchain-community) (3.26.1)\n",
            "Requirement already satisfied: typing-inspect<1,>=0.4.0 in /usr/local/lib/python3.11/dist-packages (from dataclasses-json<0.7,>=0.5.7->langchain-community) (0.9.0)\n",
            "Requirement already satisfied: jsonpatch<2.0,>=1.33 in /usr/local/lib/python3.11/dist-packages (from langchain-core<1.0.0,>=0.3.66->langchain) (1.33)\n",
            "Requirement already satisfied: packaging<25,>=23.2 in /usr/local/lib/python3.11/dist-packages (from langchain-core<1.0.0,>=0.3.66->langchain) (24.2)\n",
            "Requirement already satisfied: typing-extensions>=4.7 in /usr/local/lib/python3.11/dist-packages (from langchain-core<1.0.0,>=0.3.66->langchain) (4.14.1)\n",
            "Requirement already satisfied: httpx<1,>=0.23.0 in /usr/local/lib/python3.11/dist-packages (from langsmith>=0.1.17->langchain) (0.28.1)\n",
            "Requirement already satisfied: orjson<4.0.0,>=3.9.14 in /usr/local/lib/python3.11/dist-packages (from langsmith>=0.1.17->langchain) (3.10.18)\n",
            "Requirement already satisfied: requests-toolbelt<2.0.0,>=1.0.0 in /usr/local/lib/python3.11/dist-packages (from langsmith>=0.1.17->langchain) (1.0.0)\n",
            "Requirement already satisfied: zstandard<0.24.0,>=0.23.0 in /usr/local/lib/python3.11/dist-packages (from langsmith>=0.1.17->langchain) (0.23.0)\n",
            "Requirement already satisfied: annotated-types>=0.6.0 in /usr/local/lib/python3.11/dist-packages (from pydantic<3.0.0,>=2.7.4->langchain) (0.7.0)\n",
            "Requirement already satisfied: pydantic-core==2.33.2 in /usr/local/lib/python3.11/dist-packages (from pydantic<3.0.0,>=2.7.4->langchain) (2.33.2)\n",
            "Requirement already satisfied: typing-inspection>=0.4.0 in /usr/local/lib/python3.11/dist-packages (from pydantic<3.0.0,>=2.7.4->langchain) (0.4.1)\n",
            "Requirement already satisfied: python-dotenv>=0.21.0 in /usr/local/lib/python3.11/dist-packages (from pydantic-settings<3.0.0,>=2.4.0->langchain-community) (1.1.1)\n",
            "Requirement already satisfied: charset-normalizer<4,>=2 in /usr/local/lib/python3.11/dist-packages (from requests<3,>=2->langchain) (3.4.2)\n",
            "Requirement already satisfied: idna<4,>=2.5 in /usr/local/lib/python3.11/dist-packages (from requests<3,>=2->langchain) (3.10)\n",
            "Requirement already satisfied: urllib3<3,>=1.21.1 in /usr/local/lib/python3.11/dist-packages (from requests<3,>=2->langchain) (2.4.0)\n",
            "Requirement already satisfied: certifi>=2017.4.17 in /usr/local/lib/python3.11/dist-packages (from requests<3,>=2->langchain) (2025.6.15)\n",
            "Requirement already satisfied: greenlet>=1 in /usr/local/lib/python3.11/dist-packages (from SQLAlchemy<3,>=1.4->langchain) (3.2.3)\n",
            "Requirement already satisfied: anyio in /usr/local/lib/python3.11/dist-packages (from httpx<1,>=0.23.0->langsmith>=0.1.17->langchain) (4.9.0)\n",
            "Requirement already satisfied: httpcore==1.* in /usr/local/lib/python3.11/dist-packages (from httpx<1,>=0.23.0->langsmith>=0.1.17->langchain) (1.0.9)\n",
            "Requirement already satisfied: h11>=0.16 in /usr/local/lib/python3.11/dist-packages (from httpcore==1.*->httpx<1,>=0.23.0->langsmith>=0.1.17->langchain) (0.16.0)\n",
            "Requirement already satisfied: jsonpointer>=1.9 in /usr/local/lib/python3.11/dist-packages (from jsonpatch<2.0,>=1.33->langchain-core<1.0.0,>=0.3.66->langchain) (3.0.0)\n",
            "Requirement already satisfied: mypy-extensions>=0.3.0 in /usr/local/lib/python3.11/dist-packages (from typing-inspect<1,>=0.4.0->dataclasses-json<0.7,>=0.5.7->langchain-community) (1.1.0)\n",
            "Requirement already satisfied: sniffio>=1.1 in /usr/local/lib/python3.11/dist-packages (from anyio->httpx<1,>=0.23.0->langsmith>=0.1.17->langchain) (1.3.1)\n"
          ]
        }
      ]
    },
    {
      "cell_type": "code",
      "source": [
        "!pip install python-dotenv\n",
        "!pip install neo4j"
      ],
      "metadata": {
        "colab": {
          "base_uri": "https://localhost:8080/",
          "height": 0
        },
        "id": "uc5EzxVyyN-N",
        "outputId": "68b797c4-3868-49ec-d2c9-f35ab49258a4"
      },
      "execution_count": 3,
      "outputs": [
        {
          "output_type": "stream",
          "name": "stdout",
          "text": [
            "Requirement already satisfied: python-dotenv in /usr/local/lib/python3.11/dist-packages (1.1.1)\n",
            "Requirement already satisfied: neo4j in /usr/local/lib/python3.11/dist-packages (5.28.1)\n",
            "Requirement already satisfied: pytz in /usr/local/lib/python3.11/dist-packages (from neo4j) (2025.2)\n"
          ]
        }
      ]
    },
    {
      "cell_type": "code",
      "source": [
        "!pip install --quiet \"google-generativeai<1.24\""
      ],
      "metadata": {
        "id": "Pdaw__1Mz_pC"
      },
      "execution_count": 4,
      "outputs": []
    },
    {
      "cell_type": "code",
      "execution_count": 5,
      "metadata": {
        "height": 149,
        "id": "bc780563-88e7-4c75-92c7-eb34def44a9f"
      },
      "outputs": [],
      "source": [
        "from dotenv import load_dotenv\n",
        "import os\n",
        "\n",
        "from langchain_community.graphs import Neo4jGraph\n",
        "\n",
        "# Warning control\n",
        "import warnings\n",
        "warnings.filterwarnings(\"ignore\")"
      ]
    },
    {
      "cell_type": "code",
      "source": [
        "!pip install --quiet neo4j graphdatascience  # run once\n",
        "\n",
        "from neo4j import GraphDatabase\n",
        "\n",
        "NEO4J_URI = \"bolt://44.204.121.187\"\n",
        "NEO4J_USERNAME = \"neo4j\"\n",
        "NEO4J_PASSWORD = \"blur-courtesies-guesses\"\n",
        "NEO4J_DATABASE = \"neo4j\"\n",
        "\n",
        "\n",
        "\n",
        "driver = GraphDatabase.driver(NEO4J_URI,\n",
        "                              auth=(NEO4J_USERNAME, NEO4J_PASSWORD))\n",
        "\n",
        "with driver.session(database=NEO4J_DATABASE) as session:\n",
        "    nodes = session.run(\"MATCH (n) RETURN count(n)\").single().value()\n",
        "    print(f\"Connected! Graph has {nodes} nodes.\")\n"
      ],
      "metadata": {
        "colab": {
          "base_uri": "https://localhost:8080/",
          "height": 0
        },
        "id": "8FqrB3uSy5eD",
        "outputId": "0bc767ad-80f4-427e-e966-c778143dcafd"
      },
      "execution_count": 6,
      "outputs": [
        {
          "output_type": "stream",
          "name": "stdout",
          "text": [
            "Connected! Graph has 177 nodes.\n"
          ]
        }
      ]
    },
    {
      "cell_type": "code",
      "execution_count": 7,
      "metadata": {
        "height": 98,
        "id": "186948fd-da5e-49d5-abf4-ad21aed3271f"
      },
      "outputs": [],
      "source": [
        "load_dotenv('.env', override=True)\n",
        "NEO4J_URI = os.getenv('NEO4J_URI')\n",
        "NEO4J_USERNAME = os.getenv('NEO4J_USERNAME')\n",
        "NEO4J_PASSWORD = os.getenv('NEO4J_PASSWORD')\n",
        "NEO4J_DATABASE = os.getenv('NEO4J_DATABASE')"
      ]
    },
    {
      "cell_type": "code",
      "source": [
        "\n",
        "!pip install --quiet neo4j graphdatascience\n",
        "\n",
        "# ───  Your database details ───────────────────────────────────\n",
        "NEO4J_URI = \"bolt://44.204.121.187\"\n",
        "NEO4J_USERNAME = \"neo4j\"\n",
        "NEO4J_PASSWORD = \"blur-courtesies-guesses\"\n",
        "NEO4J_DATABASE = \"neo4j\"\n",
        "# --------------------------------------------------------------\n",
        "\n",
        "from neo4j import GraphDatabase\n",
        "from graphdatascience import GraphDataScience\n",
        "\n",
        "# Low-level Bolt driver\n",
        "driver = GraphDatabase.driver(\n",
        "    NEO4J_URI,\n",
        "    auth=(NEO4J_USERNAME, NEO4J_PASSWORD)\n",
        ")\n",
        "\n",
        "# High-level GDS / Cypher client\n",
        "gds = GraphDataScience(\n",
        "    NEO4J_URI,\n",
        "    auth=(NEO4J_USERNAME, NEO4J_PASSWORD),\n",
        "    database=NEO4J_DATABASE\n",
        ")\n",
        "\n",
        "# Lightweight helper so every cell can do kg.query(...)\n",
        "class KG:\n",
        "    def __init__(self, driver, database=\"neo4j\"):\n",
        "        self._driver = driver\n",
        "        self._db     = database\n",
        "    def query(self, cypher, **params):\n",
        "        with self._driver.session(database=self._db) as s:\n",
        "            return s.run(cypher, **params).data()\n",
        "\n",
        "kg = KG(driver, NEO4J_DATABASE)\n",
        "\n",
        "# Sanity-check\n",
        "with driver.session(database=NEO4J_DATABASE) as session:\n",
        "    nodes = session.run(\"MATCH (n) RETURN count(n)\").single().value()\n",
        "print(f\"✅ Connected! Graph has {nodes} nodes.  Use kg.query('<cypher>') or gds.run_cypher('<cypher>')\")\n"
      ],
      "metadata": {
        "colab": {
          "base_uri": "https://localhost:8080/",
          "height": 0
        },
        "id": "2M5i0zsCfqG_",
        "outputId": "c8c0b98a-119b-4187-e554-bd8a1d39d679"
      },
      "execution_count": 8,
      "outputs": [
        {
          "output_type": "stream",
          "name": "stdout",
          "text": [
            "✅ Connected! Graph has 177 nodes.  Use kg.query('<cypher>') or gds.run_cypher('<cypher>')\n"
          ]
        }
      ]
    },
    {
      "cell_type": "markdown",
      "metadata": {
        "id": "7a8affe7-9424-47d4-97c7-0a675fc2398f"
      },
      "source": [
        "- Initialize a knowledge graph instance using LangChain's Neo4j integration"
      ]
    },
    {
      "cell_type": "markdown",
      "metadata": {
        "id": "a703052f-c74e-4933-8e62-7e3ec9b12986"
      },
      "source": [
        "### Querying the movie knowledge graph\n",
        "- Match all nodes in the graph"
      ]
    },
    {
      "cell_type": "code",
      "execution_count": 9,
      "metadata": {
        "height": 81,
        "scrolled": true,
        "id": "b12cfece-6188-4fa4-8ba6-f0eff39c6546"
      },
      "outputs": [],
      "source": [
        "cypher = \"\"\"\n",
        "  MATCH (n)\n",
        "  RETURN count(n)\n",
        "  \"\"\""
      ]
    },
    {
      "cell_type": "code",
      "execution_count": 10,
      "metadata": {
        "height": 47,
        "scrolled": true,
        "id": "edef9911-c436-4159-ae6b-412557448b94",
        "colab": {
          "base_uri": "https://localhost:8080/",
          "height": 0
        },
        "outputId": "1e7a7f08-7c42-43e8-8829-c12d5d516351"
      },
      "outputs": [
        {
          "output_type": "execute_result",
          "data": {
            "text/plain": [
              "[{'count(n)': 177}]"
            ]
          },
          "metadata": {},
          "execution_count": 10
        }
      ],
      "source": [
        "result = kg.query(cypher)\n",
        "result"
      ]
    },
    {
      "cell_type": "code",
      "execution_count": 11,
      "metadata": {
        "height": 81,
        "id": "751a9532-114d-4f72-8956-da41aa7eae8d"
      },
      "outputs": [],
      "source": [
        "cypher = \"\"\"\n",
        "  MATCH (n)\n",
        "  RETURN count(n) AS numberOfNodes\n",
        "  \"\"\""
      ]
    },
    {
      "cell_type": "code",
      "execution_count": 12,
      "metadata": {
        "height": 47,
        "id": "4fd44fea-11ab-4828-b475-71bc450ee900",
        "colab": {
          "base_uri": "https://localhost:8080/",
          "height": 0
        },
        "outputId": "b1ef9444-dae3-46d1-fb90-091581b8c11a"
      },
      "outputs": [
        {
          "output_type": "execute_result",
          "data": {
            "text/plain": [
              "[{'numberOfNodes': 177}]"
            ]
          },
          "metadata": {},
          "execution_count": 12
        }
      ],
      "source": [
        "result = kg.query(cypher)\n",
        "result"
      ]
    },
    {
      "cell_type": "code",
      "execution_count": 13,
      "metadata": {
        "height": 30,
        "id": "4ae04daa-bc4c-42ca-864a-79b3915a234e",
        "colab": {
          "base_uri": "https://localhost:8080/",
          "height": 0
        },
        "outputId": "0e8d7a6c-6c45-4c29-eb7e-7d4cf50b9edc"
      },
      "outputs": [
        {
          "output_type": "stream",
          "name": "stdout",
          "text": [
            "There are 177 nodes in this graph.\n"
          ]
        }
      ],
      "source": [
        "print(f\"There are {result[0]['numberOfNodes']} nodes in this graph.\")"
      ]
    },
    {
      "cell_type": "markdown",
      "metadata": {
        "id": "ef33d57e-7f3a-4d66-b4d0-325973604906"
      },
      "source": [
        "- Match only the `Movie` nodes by specifying the node label"
      ]
    },
    {
      "cell_type": "code",
      "execution_count": 14,
      "metadata": {
        "height": 98,
        "id": "7ebd1092-e6d4-4112-aac9-ce2af1eaa737",
        "colab": {
          "base_uri": "https://localhost:8080/",
          "height": 0
        },
        "outputId": "72a8c607-153c-4567-f8fa-fdc709c526c5"
      },
      "outputs": [
        {
          "output_type": "execute_result",
          "data": {
            "text/plain": [
              "[{'numberOfMovies': 38}]"
            ]
          },
          "metadata": {},
          "execution_count": 14
        }
      ],
      "source": [
        "cypher = \"\"\"\n",
        "  MATCH (n:Movie)\n",
        "  RETURN count(n) AS numberOfMovies\n",
        "  \"\"\"\n",
        "kg.query(cypher)"
      ]
    },
    {
      "cell_type": "markdown",
      "metadata": {
        "id": "78ca792e-831f-4f1a-b728-92928d41e9b6"
      },
      "source": [
        "- Change the variable name in the node pattern match for improved readability"
      ]
    },
    {
      "cell_type": "code",
      "execution_count": 15,
      "metadata": {
        "height": 98,
        "id": "26b1ed1f-c780-4de8-8c96-5594bc8b63af",
        "colab": {
          "base_uri": "https://localhost:8080/",
          "height": 0
        },
        "outputId": "570a0b8c-47c1-4731-bb72-1a78d1124b45"
      },
      "outputs": [
        {
          "output_type": "execute_result",
          "data": {
            "text/plain": [
              "[{'numberOfMovies': 38}]"
            ]
          },
          "metadata": {},
          "execution_count": 15
        }
      ],
      "source": [
        "cypher = \"\"\"\n",
        "  MATCH (m:Movie)\n",
        "  RETURN count(m) AS numberOfMovies\n",
        "  \"\"\"\n",
        "kg.query(cypher)"
      ]
    },
    {
      "cell_type": "markdown",
      "metadata": {
        "id": "b0534a64-f4c0-4e22-a79d-cce5ef595aa3"
      },
      "source": [
        "- Match only the `Person` nodes"
      ]
    },
    {
      "cell_type": "code",
      "execution_count": 16,
      "metadata": {
        "height": 98,
        "scrolled": true,
        "id": "5b7d6465-19a7-4f0c-b2a3-f32fd5991c46",
        "colab": {
          "base_uri": "https://localhost:8080/",
          "height": 0
        },
        "outputId": "8cd89357-bf28-4c25-8d46-20a163c5cf67"
      },
      "outputs": [
        {
          "output_type": "execute_result",
          "data": {
            "text/plain": [
              "[{'numberOfPeople': 134}]"
            ]
          },
          "metadata": {},
          "execution_count": 16
        }
      ],
      "source": [
        "cypher = \"\"\"\n",
        "  MATCH (people:Person)\n",
        "  RETURN count(people) AS numberOfPeople\n",
        "  \"\"\"\n",
        "kg.query(cypher)"
      ]
    },
    {
      "cell_type": "markdown",
      "metadata": {
        "id": "209a950f-3335-4a47-801c-53a821529cc7"
      },
      "source": [
        "- Match a single person by specifying the value of the `name` property on the `Person` node"
      ]
    },
    {
      "cell_type": "code",
      "execution_count": 17,
      "metadata": {
        "height": 98,
        "id": "1c1f5e93-39dc-4585-ba3a-2cd492cbf665",
        "colab": {
          "base_uri": "https://localhost:8080/",
          "height": 0
        },
        "outputId": "983d2c86-0dfc-4c51-d49d-878866f680b4"
      },
      "outputs": [
        {
          "output_type": "execute_result",
          "data": {
            "text/plain": [
              "[{'tom': {'born': 1956, 'name': 'Tom Hanks'}}]"
            ]
          },
          "metadata": {},
          "execution_count": 17
        }
      ],
      "source": [
        "cypher = \"\"\"\n",
        "  MATCH (tom:Person {name:\"Tom Hanks\"})\n",
        "  RETURN tom\n",
        "  \"\"\"\n",
        "kg.query(cypher)"
      ]
    },
    {
      "cell_type": "markdown",
      "metadata": {
        "id": "936ee283-90ba-4ada-92b2-dd7c6bccfdc9"
      },
      "source": [
        "- Match a single `Movie` by specifying the value of the `title` property"
      ]
    },
    {
      "cell_type": "code",
      "execution_count": 18,
      "metadata": {
        "height": 98,
        "id": "d952bf0c-d2c0-4b64-86b5-29e2521f543e",
        "colab": {
          "base_uri": "https://localhost:8080/",
          "height": 0
        },
        "outputId": "62258ef0-e76c-47e3-8b05-36ad430f6aae"
      },
      "outputs": [
        {
          "output_type": "execute_result",
          "data": {
            "text/plain": [
              "[{'cloudAtlas': {'taglineEmbedding': [-0.008234365843236446,\n",
              "    -0.010291384533047676,\n",
              "    0.02180314064025879,\n",
              "    -0.012015002779662609,\n",
              "    -0.026546236127614975,\n",
              "    -0.005642647854983807,\n",
              "    -0.002201701980084181,\n",
              "    -0.01689649000763893,\n",
              "    0.01855720393359661,\n",
              "    -0.029917985200881958,\n",
              "    -0.01368829607963562,\n",
              "    0.006485585123300552,\n",
              "    0.009593130089342594,\n",
              "    -0.005312392488121986,\n",
              "    -0.012335821986198425,\n",
              "    -0.017173275351524353,\n",
              "    0.029389576986432076,\n",
              "    -0.00304149417206645,\n",
              "    0.02321222983300686,\n",
              "    -0.016430987045168877,\n",
              "    0.00015746100689284503,\n",
              "    0.007718538399785757,\n",
              "    0.005346990656107664,\n",
              "    -0.03537820652127266,\n",
              "    -0.002492641331627965,\n",
              "    0.011939515359699726,\n",
              "    -0.0015010889619588852,\n",
              "    -0.023224812000989914,\n",
              "    0.011775961145758629,\n",
              "    -0.02946506440639496,\n",
              "    0.015437076799571514,\n",
              "    -0.004802855663001537,\n",
              "    -0.023161904886364937,\n",
              "    -0.020519863814115524,\n",
              "    -0.012971170246601105,\n",
              "    0.009775557555258274,\n",
              "    0.0029219731222838163,\n",
              "    -0.01594032347202301,\n",
              "    -0.013650552369654179,\n",
              "    -0.0021592406556010246,\n",
              "    0.0054728020913898945,\n",
              "    0.0039033032953739166,\n",
              "    -0.0024533250834792852,\n",
              "    0.019538532942533493,\n",
              "    -0.02574104256927967,\n",
              "    0.005397315137088299,\n",
              "    0.002107343403622508,\n",
              "    -0.02391677536070347,\n",
              "    -0.023879030719399452,\n",
              "    0.01732425019145012,\n",
              "    0.001641840673983097,\n",
              "    0.007127224002033472,\n",
              "    -0.03117610141634941,\n",
              "    -0.04244881495833397,\n",
              "    0.0028810843359678984,\n",
              "    0.01709778979420662,\n",
              "    -0.006145894061774015,\n",
              "    0.013008913956582546,\n",
              "    0.0035290138330310583,\n",
              "    -0.02025565877556801,\n",
              "    0.004494617693126202,\n",
              "    -0.013713458552956581,\n",
              "    -0.024822618812322617,\n",
              "    0.007454334292560816,\n",
              "    -0.004969555884599686,\n",
              "    0.005035607144236565,\n",
              "    -0.0007407154771499336,\n",
              "    0.013512159697711468,\n",
              "    0.019890805706381798,\n",
              "    0.02898697927594185,\n",
              "    0.04526699334383011,\n",
              "    0.028735356405377388,\n",
              "    0.0077311196364462376,\n",
              "    -0.0028574946336448193,\n",
              "    -0.015525144524872303,\n",
              "    0.00043640879448503256,\n",
              "    -0.02855922095477581,\n",
              "    -0.006356628146022558,\n",
              "    0.00575902359560132,\n",
              "    0.0164813119918108,\n",
              "    0.017588453367352486,\n",
              "    -0.016770679503679276,\n",
              "    -0.0007646983140148222,\n",
              "    0.0329626239836216,\n",
              "    0.002774144522845745,\n",
              "    -0.03399427980184555,\n",
              "    -0.017223600298166275,\n",
              "    0.018594946712255478,\n",
              "    0.0053910245187580585,\n",
              "    -0.02599266543984413,\n",
              "    0.0060829883441329,\n",
              "    0.016682611778378487,\n",
              "    -0.02292286418378353,\n",
              "    -0.00024946071789599955,\n",
              "    0.002978588454425335,\n",
              "    0.0018793100025504827,\n",
              "    -0.006479294504970312,\n",
              "    0.005510545801371336,\n",
              "    0.01991596817970276,\n",
              "    -0.017928145825862885,\n",
              "    0.0030100413132458925,\n",
              "    0.028836006298661232,\n",
              "    -0.03442203998565674,\n",
              "    -0.008228074759244919,\n",
              "    -0.002110488712787628,\n",
              "    -0.009347798302769661,\n",
              "    -0.0032931172754615545,\n",
              "    0.0043404982425272465,\n",
              "    0.005123675335198641,\n",
              "    -0.011763379909098148,\n",
              "    -0.0008853987674228847,\n",
              "    0.020658256486058235,\n",
              "    0.011115450412034988,\n",
              "    -0.04488955810666084,\n",
              "    0.014141217805445194,\n",
              "    0.008762774057686329,\n",
              "    -0.0008971935603767633,\n",
              "    0.0015065933112055063,\n",
              "    -0.013663133606314659,\n",
              "    -0.008907457813620567,\n",
              "    0.021387962624430656,\n",
              "    0.0010363726178184152,\n",
              "    -0.012486795894801617,\n",
              "    -0.003953627776354551,\n",
              "    0.015474820509552956,\n",
              "    0.02332546003162861,\n",
              "    -0.044713422656059265,\n",
              "    0.0005850236630067229,\n",
              "    -0.01499673631042242,\n",
              "    -0.004758821800351143,\n",
              "    0.022004438564181328,\n",
              "    0.013260536827147007,\n",
              "    -0.0002931015915237367,\n",
              "    0.03311359882354736,\n",
              "    0.001092201448045671,\n",
              "    0.008228074759244919,\n",
              "    -0.017525548115372658,\n",
              "    0.013185050338506699,\n",
              "    -0.009133918210864067,\n",
              "    -0.00749207753688097,\n",
              "    0.009291182272136211,\n",
              "    -0.007347394246608019,\n",
              "    -0.016682611778378487,\n",
              "    -0.00563321216031909,\n",
              "    0.01721101999282837,\n",
              "    0.02833276055753231,\n",
              "    0.005340700037777424,\n",
              "    0.01497157383710146,\n",
              "    0.019525952637195587,\n",
              "    -0.010467520914971828,\n",
              "    0.015575469471514225,\n",
              "    -0.0007017925381660461,\n",
              "    0.016015809029340744,\n",
              "    -0.022948026657104492,\n",
              "    0.014795437455177307,\n",
              "    0.016342919319868088,\n",
              "    -0.0010175008792430162,\n",
              "    0.0005209384253248572,\n",
              "    -0.00812742579728365,\n",
              "    0.003645389573648572,\n",
              "    -0.022067345678806305,\n",
              "    0.008599218912422657,\n",
              "    -0.005054478999227285,\n",
              "    -0.01074430625885725,\n",
              "    0.02143828757107258,\n",
              "    0.03492528572678566,\n",
              "    0.011039962992072105,\n",
              "    -0.0042587206698954105,\n",
              "    -0.00914020836353302,\n",
              "    0.00401338841766119,\n",
              "    -0.005828219931572676,\n",
              "    0.024369696155190468,\n",
              "    -0.056061625480651855,\n",
              "    0.012272916734218597,\n",
              "    -0.014682207256555557,\n",
              "    0.003601355478167534,\n",
              "    -0.00627485103905201,\n",
              "    0.029616037383675575,\n",
              "    -0.034573011100292206,\n",
              "    -0.031251586973667145,\n",
              "    -0.007542402017861605,\n",
              "    -0.00035934921470470726,\n",
              "    0.029213441535830498,\n",
              "    0.01757587306201458,\n",
              "    -0.0017110370099544525,\n",
              "    0.0010009880643337965,\n",
              "    0.003642244264483452,\n",
              "    -0.011662730015814304,\n",
              "    0.018381066620349884,\n",
              "    -0.011939515359699726,\n",
              "    -0.005692972335964441,\n",
              "    0.0060798428021371365,\n",
              "    -0.012128232978284359,\n",
              "    -0.011329329572618008,\n",
              "    -0.6852200031280518,\n",
              "    -0.016795841977000237,\n",
              "    0.02858438342809677,\n",
              "    -0.013977662660181522,\n",
              "    0.009416994638741016,\n",
              "    0.0068567292764782906,\n",
              "    0.008920039050281048,\n",
              "    0.01723618246614933,\n",
              "    0.0134744169190526,\n",
              "    -0.0072781979106366634,\n",
              "    -0.0021749672014266253,\n",
              "    0.015273521654307842,\n",
              "    -0.003749184077605605,\n",
              "    -0.002181257586926222,\n",
              "    -0.004950684495270252,\n",
              "    -0.010920442640781403,\n",
              "    0.014782856218516827,\n",
              "    -0.032711002975702286,\n",
              "    -0.00046235742047429085,\n",
              "    0.005007299594581127,\n",
              "    -0.015739023685455322,\n",
              "    -0.0017063190462067723,\n",
              "    0.000526835850905627,\n",
              "    0.007246744818985462,\n",
              "    0.0025791367515921593,\n",
              "    0.011826285161077976,\n",
              "    0.017387155443429947,\n",
              "    -0.022771889343857765,\n",
              "    -0.012247754260897636,\n",
              "    0.009750395081937313,\n",
              "    -0.010052342899143696,\n",
              "    -0.0026845037937164307,\n",
              "    0.019865643233060837,\n",
              "    0.009316344745457172,\n",
              "    0.03988226130604744,\n",
              "    0.006586234550923109,\n",
              "    0.002588572446256876,\n",
              "    0.029817337170243263,\n",
              "    0.007548692636191845,\n",
              "    0.021249569952487946,\n",
              "    0.009008106775581837,\n",
              "    -0.005126820411533117,\n",
              "    0.022344131022691727,\n",
              "    0.01042348612099886,\n",
              "    -0.00457639480009675,\n",
              "    0.0031846046913415194,\n",
              "    0.027678539976477623,\n",
              "    -0.02735142968595028,\n",
              "    0.008146297186613083,\n",
              "    0.004815436899662018,\n",
              "    -0.0005850236630067229,\n",
              "    -0.015437076799571514,\n",
              "    -0.01071914378553629,\n",
              "    0.0322832427918911,\n",
              "    -0.01097076665610075,\n",
              "    0.00111107318662107,\n",
              "    0.012103070504963398,\n",
              "    0.009473609738051891,\n",
              "    -0.005850236862897873,\n",
              "    -0.004724223632365465,\n",
              "    0.007441753055900335,\n",
              "    0.0024234449956566095,\n",
              "    -0.027074644342064857,\n",
              "    0.008165169507265091,\n",
              "    -0.0034346552565693855,\n",
              "    -0.005831365007907152,\n",
              "    -0.03678729757666588,\n",
              "    0.01616678386926651,\n",
              "    0.016607124358415604,\n",
              "    -0.007083190139383078,\n",
              "    0.028005650267004967,\n",
              "    0.017160695046186447,\n",
              "    0.008196622133255005,\n",
              "    0.005919433198869228,\n",
              "    0.01805395632982254,\n",
              "    0.04126618802547455,\n",
              "    0.029112791642546654,\n",
              "    0.011970968917012215,\n",
              "    -0.009995726868510246,\n",
              "    0.012612607330083847,\n",
              "    -0.02207992598414421,\n",
              "    -0.025841690599918365,\n",
              "    -0.0278546754270792,\n",
              "    0.003425219329074025,\n",
              "    0.030370907858014107,\n",
              "    0.010964476503431797,\n",
              "    -0.01737457513809204,\n",
              "    -0.0017645069165155292,\n",
              "    0.01049268338829279,\n",
              "    -0.011140611954033375,\n",
              "    0.01367571484297514,\n",
              "    -0.015927741304039955,\n",
              "    -0.01354990340769291,\n",
              "    -0.002811887999996543,\n",
              "    0.024067748337984085,\n",
              "    0.0011724063660949469,\n",
              "    -0.01850687898695469,\n",
              "    0.020041778683662415,\n",
              "    0.015764186158776283,\n",
              "    -0.00901439692825079,\n",
              "    0.009825881570577621,\n",
              "    -0.01508480403572321,\n",
              "    0.005567160900682211,\n",
              "    0.002896810881793499,\n",
              "    0.016456149518489838,\n",
              "    0.0021356509532779455,\n",
              "    -0.007649342063814402,\n",
              "    0.026244288310408592,\n",
              "    0.03142772242426872,\n",
              "    -0.0063471924513578415,\n",
              "    -0.015751605853438377,\n",
              "    -0.00434364378452301,\n",
              "    -0.006460422649979591,\n",
              "    -3.970926991314627e-05,\n",
              "    -0.016821004450321198,\n",
              "    -0.016229689121246338,\n",
              "    0.02467164397239685,\n",
              "    -0.0043499344028532505,\n",
              "    0.0023149324115365744,\n",
              "    -0.009599421173334122,\n",
              "    0.020796649158000946,\n",
              "    0.012084199115633965,\n",
              "    -0.01280132494866848,\n",
              "    -0.011279004625976086,\n",
              "    0.0007878948235884309,\n",
              "    0.00984475389122963,\n",
              "    -0.013109562918543816,\n",
              "    -0.015424495562911034,\n",
              "    -0.020708579570055008,\n",
              "    0.0009876206750050187,\n",
              "    0.017110370099544525,\n",
              "    -0.001050526392646134,\n",
              "    0.019224004819989204,\n",
              "    0.011121740564703941,\n",
              "    -0.004812291823327541,\n",
              "    -0.0013532604789361358,\n",
              "    -0.0005362717201933265,\n",
              "    -0.004938103258609772,\n",
              "    0.008964072912931442,\n",
              "    -0.02835792303085327,\n",
              "    -0.008322433568537235,\n",
              "    -0.0034378005657345057,\n",
              "    -0.006004355847835541,\n",
              "    0.013361185789108276,\n",
              "    0.0011252269614487886,\n",
              "    -0.03298778831958771,\n",
              "    -0.011052544228732586,\n",
              "    -0.024243885651230812,\n",
              "    -0.02467164397239685,\n",
              "    -0.03935385122895241,\n",
              "    -0.004047986585646868,\n",
              "    -0.014002825133502483,\n",
              "    -0.026319775730371475,\n",
              "    0.020456956699490547,\n",
              "    0.01687132753431797,\n",
              "    0.002635751850903034,\n",
              "    -0.0028024520725011826,\n",
              "    -0.002464333549141884,\n",
              "    -0.017928145825862885,\n",
              "    -0.03016960807144642,\n",
              "    6.757456139894202e-05,\n",
              "    0.014053150080144405,\n",
              "    -0.0186452716588974,\n",
              "    0.0019705232698470354,\n",
              "    -0.00466760853305459,\n",
              "    -0.012008711695671082,\n",
              "    -0.008712449111044407,\n",
              "    0.015588050708174706,\n",
              "    -0.004903505090624094,\n",
              "    -0.006894472520798445,\n",
              "    0.009693779982626438,\n",
              "    -0.03135223686695099,\n",
              "    -0.003227066248655319,\n",
              "    0.0006243397947400808,\n",
              "    -0.0008641680469736457,\n",
              "    0.01901012472808361,\n",
              "    0.0013611236354336143,\n",
              "    -0.0014429012080654502,\n",
              "    0.02492326684296131,\n",
              "    -0.007718538399785757,\n",
              "    -0.004752531182020903,\n",
              "    -0.012015002779662609,\n",
              "    0.00043994723819196224,\n",
              "    -0.0030871008057147264,\n",
              "    0.017361992970108986,\n",
              "    0.0038970126770436764,\n",
              "    0.04808517172932625,\n",
              "    0.0002653837436810136,\n",
              "    -0.01802879385650158,\n",
              "    0.010127829387784004,\n",
              "    -0.0034378005657345057,\n",
              "    0.038598980754613876,\n",
              "    -0.01994113065302372,\n",
              "    -0.009052140638232231,\n",
              "    0.013663133606314659,\n",
              "    0.004428566433489323,\n",
              "    -0.007743700873106718,\n",
              "    -0.005186581052839756,\n",
              "    0.00888858549296856,\n",
              "    0.01732425019145012,\n",
              "    0.011889191344380379,\n",
              "    -0.02275930903851986,\n",
              "    -0.0013052948052063584,\n",
              "    -0.024721968919038773,\n",
              "    -0.00031787072657607496,\n",
              "    -0.008372758515179157,\n",
              "    -0.0068315668031573296,\n",
              "    -0.026470748707652092,\n",
              "    0.007674504071474075,\n",
              "    0.026999156922101974,\n",
              "    0.014040568843483925,\n",
              "    -0.012706966139376163,\n",
              "    -0.008467117324471474,\n",
              "    -0.004400258883833885,\n",
              "    0.005400460679084063,\n",
              "    0.02280963398516178,\n",
              "    -0.00837904866784811,\n",
              "    0.024948429316282272,\n",
              "    -0.018469134345650673,\n",
              "    0.0074480436742305756,\n",
              "    0.0010002017952501774,\n",
              "    -0.011958387680351734,\n",
              "    0.011939515359699726,\n",
              "    -0.005041897762566805,\n",
              "    0.011090287938714027,\n",
              "    0.012084199115633965,\n",
              "    0.013990243896842003,\n",
              "    0.0271752942353487,\n",
              "    -0.004743095487356186,\n",
              "    -0.018494296818971634,\n",
              "    -0.01510996650904417,\n",
              "    0.01734941266477108,\n",
              "    0.0023794109001755714,\n",
              "    0.004928667098283768,\n",
              "    -0.0034944156650453806,\n",
              "    0.008511151187121868,\n",
              "    0.003406347706913948,\n",
              "    -0.005123675335198641,\n",
              "    0.02621912583708763,\n",
              "    -0.00336545892059803,\n",
              "    -0.0011574662057682872,\n",
              "    0.018091700971126556,\n",
              "    0.006359773688018322,\n",
              "    0.006869310513138771,\n",
              "    0.016883909702301025,\n",
              "    0.007322231773287058,\n",
              "    0.030874153599143028,\n",
              "    -0.02214283123612404,\n",
              "    -0.03585629165172577,\n",
              "    0.010863826610147953,\n",
              "    0.005963467061519623,\n",
              "    0.0024171543773263693,\n",
              "    -0.01474511343985796,\n",
              "    0.002646760316565633,\n",
              "    0.019060449674725533,\n",
              "    -0.012342113070189953,\n",
              "    -0.00992653053253889,\n",
              "    0.00368313305079937,\n",
              "    0.026068152859807014,\n",
              "    0.019047867506742477,\n",
              "    0.006705755367875099,\n",
              "    -0.0046644629910588264,\n",
              "    -0.004265011288225651,\n",
              "    0.003749184077605605,\n",
              "    -0.002829187083989382,\n",
              "    0.004651881754398346,\n",
              "    -0.014254448004066944,\n",
              "    0.0036957140546292067,\n",
              "    -0.015449658036231995,\n",
              "    -0.00011794832244049758,\n",
              "    0.0106310760602355,\n",
              "    -0.004104601684957743,\n",
              "    -0.008511151187121868,\n",
              "    -0.03653567284345627,\n",
              "    0.020922459661960602,\n",
              "    0.0073977187275886536,\n",
              "    -0.007976451888680458,\n",
              "    0.008215493522584438,\n",
              "    0.0038215257227420807,\n",
              "    0.009259729646146297,\n",
              "    -0.013172469101846218,\n",
              "    0.0013013632269576192,\n",
              "    -0.007863221690058708,\n",
              "    0.025816529989242554,\n",
              "    -0.015990646556019783,\n",
              "    -0.022973189130425453,\n",
              "    -0.01782749593257904,\n",
              "    0.022318968549370766,\n",
              "    0.008743902668356895,\n",
              "    0.002837050473317504,\n",
              "    0.005906851962208748,\n",
              "    0.004205251112580299,\n",
              "    0.020972784608602524,\n",
              "    -0.013285699300467968,\n",
              "    -0.006473003886640072,\n",
              "    0.005356426350772381,\n",
              "    0.004346788860857487,\n",
              "    -0.012713256292045116,\n",
              "    0.022683821618556976,\n",
              "    -0.009700070135295391,\n",
              "    -0.020683418959379196,\n",
              "    0.011920643970370293,\n",
              "    -0.011738217435777187,\n",
              "    -0.002027138601988554,\n",
              "    0.026495911180973053,\n",
              "    0.017110370099544525,\n",
              "    0.0027426916640251875,\n",
              "    -0.004831163212656975,\n",
              "    -0.004856325685977936,\n",
              "    -0.009171661920845509,\n",
              "    0.0009797574020922184,\n",
              "    -0.010467520914971828,\n",
              "    -0.010945604182779789,\n",
              "    -0.017085207626223564,\n",
              "    0.008605509996414185,\n",
              "    -0.004912940785288811,\n",
              "    -0.026269450783729553,\n",
              "    0.012845358811318874,\n",
              "    0.036485347896814346,\n",
              "    -0.008636962622404099,\n",
              "    -0.014455746859312057,\n",
              "    -0.026319775730371475,\n",
              "    -0.03145288676023483,\n",
              "    0.004110892303287983,\n",
              "    0.0852499008178711,\n",
              "    0.011480303481221199,\n",
              "    -0.017135532572865486,\n",
              "    0.02233154885470867,\n",
              "    -0.006180492229759693,\n",
              "    -0.025049079209566116,\n",
              "    -0.0447889119386673,\n",
              "    -0.022973189130425453,\n",
              "    -0.0021403690334409475,\n",
              "    -0.002354248659685254,\n",
              "    0.014958992600440979,\n",
              "    -0.0019563694950193167,\n",
              "    0.006171056535094976,\n",
              "    -0.0036736971233040094,\n",
              "    -0.012908264994621277,\n",
              "    0.013914757408201694,\n",
              "    -0.008441954851150513,\n",
              "    -0.008171459659934044,\n",
              "    -0.0015844391891732812,\n",
              "    -0.01008379552513361,\n",
              "    -0.02546425722539425,\n",
              "    -0.014090892858803272,\n",
              "    0.0074794963002204895,\n",
              "    0.027502404525876045,\n",
              "    0.006127022206783295,\n",
              "    0.00998314656317234,\n",
              "    0.006123877130448818,\n",
              "    0.01616678386926651,\n",
              "    0.0018195494776591659,\n",
              "    -0.015386751852929592,\n",
              "    0.0031342802103608847,\n",
              "    0.027678539976477623,\n",
              "    -0.0007855358417145908,\n",
              "    0.02196669578552246,\n",
              "    -0.03286197409033775,\n",
              "    0.006293722428381443,\n",
              "    0.002929836278781295,\n",
              "    0.018355904147028923,\n",
              "    0.02262091636657715,\n",
              "    0.007580145727843046,\n",
              "    0.016657449305057526,\n",
              "    -0.004154926165938377,\n",
              "    0.007951289415359497,\n",
              "    -0.027452079579234123,\n",
              "    -0.002832332393154502,\n",
              "    -0.019161097705364227,\n",
              "    -0.00803935807198286,\n",
              "    0.006167910993099213,\n",
              "    0.0193246528506279,\n",
              "    -0.0047745481133461,\n",
              "    0.014279610477387905,\n",
              "    -0.010706562548875809,\n",
              "    -0.00640695309266448,\n",
              "    -0.012751000002026558,\n",
              "    0.010530426166951656,\n",
              "    0.009008106775581837,\n",
              "    -0.006756079848855734,\n",
              "    -0.020570186898112297,\n",
              "    -0.018431391566991806,\n",
              "    -0.02596750296652317,\n",
              "    -0.013008913956582546,\n",
              "    -0.004903505090624094,\n",
              "    0.020545026287436485,\n",
              "    -0.02616880089044571,\n",
              "    -0.0009860480204224586,\n",
              "    -0.014116055332124233,\n",
              "    -0.026093315333127975,\n",
              "    0.0008122707949951291,\n",
              "    -0.009511352516710758,\n",
              "    -0.025363607332110405,\n",
              "    0.009454737417399883,\n",
              "    -0.02157668024301529,\n",
              "    -0.01878366433084011,\n",
              "    -0.002467478858307004,\n",
              "    0.035755641758441925,\n",
              "    0.033843304961919785,\n",
              "    0.0023762655910104513,\n",
              "    -0.007171258330345154,\n",
              "    0.003944192081689835,\n",
              "    0.031226426362991333,\n",
              "    -0.01151804719120264,\n",
              "    -0.013235374353826046,\n",
              "    -0.014178961515426636,\n",
              "    0.0075864363461732864,\n",
              "    -0.017135532572865486,\n",
              "    0.006473003886640072,\n",
              "    0.007460624445229769,\n",
              "    -0.009071012027561665,\n",
              "    -0.013210211880505085,\n",
              "    0.016745517030358315,\n",
              "    0.016405826434493065,\n",
              "    0.00401338841766119,\n",
              "    0.021765397861599922,\n",
              "    -0.017902983352541924,\n",
              "    0.011687892489135265,\n",
              "    0.009177952073514462,\n",
              "    0.01855720393359661,\n",
              "    0.011190936900675297,\n",
              "    -0.005038752220571041,\n",
              "    -0.012908264994621277,\n",
              "    0.019626600667834282,\n",
              "    -0.034069765359163284,\n",
              "    -0.012857940047979355,\n",
              "    -0.005938305053859949,\n",
              "    0.012669222429394722,\n",
              "    -0.008945200592279434,\n",
              "    0.009599421173334122,\n",
              "    0.007190129719674587,\n",
              "    -0.010920442640781403,\n",
              "    -0.014380259439349174,\n",
              "    0.022117670625448227,\n",
              "    -0.04667608439922333,\n",
              "    0.0075298212468624115,\n",
              "    -0.012587444856762886,\n",
              "    -0.019790155813097954,\n",
              "    0.025866853073239326,\n",
              "    0.023652570322155952,\n",
              "    0.02132505737245083,\n",
              "    -0.01867043413221836,\n",
              "    -0.014694788493216038,\n",
              "    -0.013851851224899292,\n",
              "    -0.02974184975028038,\n",
              "    -0.00956167746335268,\n",
              "    0.01229178812354803,\n",
              "    0.008938910439610481,\n",
              "    -0.016632286831736565,\n",
              "    0.030496718361973763,\n",
              "    0.010297674685716629,\n",
              "    -0.004239849280565977,\n",
              "    0.00509851286187768,\n",
              "    -0.008108554407954216,\n",
              "    0.03349103406071663,\n",
              "    -0.0043090456165373325,\n",
              "    -0.025200052186846733,\n",
              "    -0.014128636568784714,\n",
              "    0.010662528686225414,\n",
              "    -0.023841287940740585,\n",
              "    0.004670753609389067,\n",
              "    -0.03970612213015556,\n",
              "    -0.00671833660453558,\n",
              "    -0.01497157383710146,\n",
              "    -0.012423889711499214,\n",
              "    0.002934554358944297,\n",
              "    -0.03326457366347313,\n",
              "    -0.009530224837362766,\n",
              "    -0.03578080236911774,\n",
              "    0.0007234163931570947,\n",
              "    -0.009190533310174942,\n",
              "    0.012235173024237156,\n",
              "    0.03557950630784035,\n",
              "    -0.004466309677809477,\n",
              "    -0.006825276184827089,\n",
              "    -0.023073837161064148,\n",
              "    -0.004261866211891174,\n",
              "    -0.014556395821273327,\n",
              "    -0.025111984461545944,\n",
              "    -0.008725030347704887,\n",
              "    -0.018456554040312767,\n",
              "    0.046625759452581406,\n",
              "    0.03303811326622963,\n",
              "    0.03542853146791458,\n",
              "    0.0028228964656591415,\n",
              "    0.016217108815908432,\n",
              "    0.018934637308120728,\n",
              "    0.005526272114366293,\n",
              "    -0.0080141955986619,\n",
              "    0.0032899719662964344,\n",
              "    -0.0011708337115123868,\n",
              "    -0.008083391934633255,\n",
              "    0.032912299036979675,\n",
              "    -0.0037397481501102448,\n",
              "    0.01150546595454216,\n",
              "    0.013222793117165565,\n",
              "    0.014707369729876518,\n",
              "    0.005692972335964441,\n",
              "    0.025325864553451538,\n",
              "    0.00380579917691648,\n",
              "    -0.004815436899662018,\n",
              "    -0.014606720767915249,\n",
              "    -0.0320567823946476,\n",
              "    -0.0037586200051009655,\n",
              "    0.008309852331876755,\n",
              "    0.005784185603260994,\n",
              "    0.02143828757107258,\n",
              "    -0.009171661920845509,\n",
              "    -0.003239647252485156,\n",
              "    -0.0005354853929020464,\n",
              "    0.013310861773788929,\n",
              "    0.0064132437109947205,\n",
              "    -0.00790096540004015,\n",
              "    0.019525952637195587,\n",
              "    -0.015449658036231995,\n",
              "    0.03827187046408653,\n",
              "    0.001843139179982245,\n",
              "    0.002333804266527295,\n",
              "    -0.017726846039295197,\n",
              "    -0.00791354663670063,\n",
              "    -0.0004434857110027224,\n",
              "    0.003324570134282112,\n",
              "    0.027074644342064857,\n",
              "    -0.012241463176906109,\n",
              "    0.018104281276464462,\n",
              "    -0.023539340123534203,\n",
              "    0.026244288310408592,\n",
              "    -0.008309852331876755,\n",
              "    -0.00174091721419245,\n",
              "    -0.0063880812376737595,\n",
              "    -0.011014800518751144,\n",
              "    -0.001638695364817977,\n",
              "    -0.03890093043446541,\n",
              "    -0.011279004625976086,\n",
              "    -0.027728864923119545,\n",
              "    -0.037416353821754456,\n",
              "    -0.020431794226169586,\n",
              "    0.01982790045440197,\n",
              "    -0.0030131866224110126,\n",
              "    -0.024180978536605835,\n",
              "    0.0243319533765316,\n",
              "    0.0014389695134013891,\n",
              "    -0.022004438564181328,\n",
              "    0.0013115854235365987,\n",
              "    0.014405421912670135,\n",
              "    0.027653377503156662,\n",
              "    -0.006756079848855734,\n",
              "    0.0190981924533844,\n",
              "    0.01943788304924965,\n",
              "    0.006674302741885185,\n",
              "    -0.015449658036231995,\n",
              "    0.005038752220571041,\n",
              "    -0.01712295226752758,\n",
              "    -0.02669721096754074,\n",
              "    0.018443971872329712,\n",
              "    -0.007120933383703232,\n",
              "    -0.012342113070189953,\n",
              "    0.010046051815152168,\n",
              "    0.0008570911595597863,\n",
              "    -0.012335821986198425,\n",
              "    0.006623977795243263,\n",
              "    -0.027955325320363045,\n",
              "    0.01474511343985796,\n",
              "    0.014782856218516827,\n",
              "    0.013839269988238811,\n",
              "    -0.010215897113084793,\n",
              "    -0.015147710219025612,\n",
              "    0.0031908953096717596,\n",
              "    0.00785693060606718,\n",
              "    -0.020041778683662415,\n",
              "    0.00336231361143291,\n",
              "    -0.013260536827147007,\n",
              "    -0.021928953006863594,\n",
              "    0.0028496314771473408,\n",
              "    -0.003159442450851202,\n",
              "    -0.023275135084986687,\n",
              "    0.0250113345682621,\n",
              "    0.008108554407954216,\n",
              "    -0.006353483069688082,\n",
              "    -0.0004615711222868413,\n",
              "    0.002469051629304886,\n",
              "    -0.006818985566496849,\n",
              "    -0.03583112731575966,\n",
              "    0.014644463546574116,\n",
              "    0.03203161805868149,\n",
              "    0.004478890914469957,\n",
              "    -0.0020412923768162727,\n",
              "    0.005463366396725178,\n",
              "    0.006149039138108492,\n",
              "    -0.019500790163874626,\n",
              "    -0.011341910809278488,\n",
              "    0.007102061994373798,\n",
              "    0.025892015546560287,\n",
              "    -0.0026436150074005127,\n",
              "    -0.021614423021674156,\n",
              "    -0.01655679941177368,\n",
              "    -0.013939918950200081,\n",
              "    0.03281165286898613,\n",
              "    0.00748578691855073,\n",
              "    -0.009467318654060364,\n",
              "    -0.0160283911973238,\n",
              "    -0.023879030719399452,\n",
              "    -0.009605711326003075,\n",
              "    0.003283681347966194,\n",
              "    -0.0033025529701262712,\n",
              "    0.031226426362991333,\n",
              "    -0.01378894504159689,\n",
              "    -0.0018132588593289256,\n",
              "    -0.00684414803981781,\n",
              "    -0.03731570392847061,\n",
              "    0.0015867981128394604,\n",
              "    0.001722045592032373,\n",
              "    -0.030723178759217262,\n",
              "    -0.04242365434765816,\n",
              "    -0.015990646556019783,\n",
              "    0.01960143819451332,\n",
              "    0.02244477905333042,\n",
              "    -0.013185050338506699,\n",
              "    -0.008473407477140427,\n",
              "    -0.01968950778245926,\n",
              "    0.012920845299959183,\n",
              "    -0.019752413034439087,\n",
              "    0.02462131902575493,\n",
              "    0.01522319670766592,\n",
              "    0.021413125097751617,\n",
              "    -0.005491673946380615,\n",
              "    0.017525548115372658,\n",
              "    0.006303158588707447,\n",
              "    -0.03256002813577652,\n",
              "    0.014657044783234596,\n",
              "    0.014015406370162964,\n",
              "    -0.0313774012029171,\n",
              "    0.018330741673707962,\n",
              "    0.015399333089590073,\n",
              "    0.009700070135295391,\n",
              "    -0.005887980572879314,\n",
              "    -0.011090287938714027,\n",
              "    0.0037617653142660856,\n",
              "    0.0091527896001935,\n",
              "    -0.0015364735154435039,\n",
              "    -0.00814000703394413,\n",
              "    -0.014795437455177307,\n",
              "    0.016267433762550354,\n",
              "    0.015877416357398033,\n",
              "    0.009530224837362766,\n",
              "    0.018116863444447517,\n",
              "    -0.0015545588685199618,\n",
              "    0.005463366396725178,\n",
              "    0.010826083831489086,\n",
              "    0.005582887213677168,\n",
              "    -0.021299894899129868,\n",
              "    -0.008158878423273563,\n",
              "    -0.011945806443691254,\n",
              "    -0.017500385642051697,\n",
              "    0.02123698964715004,\n",
              "    -0.0008531595231033862,\n",
              "    -0.0077059571631252766,\n",
              "    0.021639585494995117,\n",
              "    -0.031100613996386528,\n",
              "    -0.024961011484265327,\n",
              "    0.014317354187369347,\n",
              "    -0.003551030997186899,\n",
              "    0.001152748242020607,\n",
              "    0.009498771280050278,\n",
              "    0.011052544228732586,\n",
              "    0.012210010550916195,\n",
              "    0.012430180795490742,\n",
              "    0.005545143969357014,\n",
              "    -0.002649905625730753,\n",
              "    -0.010385743342339993,\n",
              "    -0.014216704294085503,\n",
              "    -0.025388769805431366,\n",
              "    -0.019513370469212532,\n",
              "    -0.0032994078937917948,\n",
              "    0.0054570757783949375,\n",
              "    -0.0068315668031573296,\n",
              "    -0.013298280537128448,\n",
              "    -0.02264607883989811,\n",
              "    -0.004277592524886131,\n",
              "    -0.04103972762823105,\n",
              "    -0.016091296449303627,\n",
              "    -0.007070608902722597,\n",
              "    -0.02033114619553089,\n",
              "    0.0029660072177648544,\n",
              "    0.024747131392359734,\n",
              "    0.002612162148579955,\n",
              "    0.018833989277482033,\n",
              "    0.0014963711146265268,\n",
              "    -0.006337756756693125,\n",
              "    -0.010580751113593578,\n",
              "    0.003384330542758107,\n",
              "    0.00619621854275465,\n",
              "    -0.02228122390806675,\n",
              "    0.02312416210770607,\n",
              "    -0.005611194763332605,\n",
              "    -0.02002919837832451,\n",
              "    -0.0019374977564439178,\n",
              "    0.016179364174604416,\n",
              "    0.016229689121246338,\n",
              "    -0.012109361588954926,\n",
              "    0.01948820799589157,\n",
              "    -0.019890805706381798,\n",
              "    0.042599789798259735,\n",
              "    -0.004705351777374744,\n",
              "    -0.0017361993668600917,\n",
              "    0.009700070135295391,\n",
              "    0.004595266655087471,\n",
              "    0.01160611491650343,\n",
              "    -0.005013590212911367,\n",
              "    -0.012725837528705597,\n",
              "    0.01139223575592041,\n",
              "    0.005063914693892002,\n",
              "    -0.01721101999282837,\n",
              "    0.016116458922624588,\n",
              "    0.0045826854184269905,\n",
              "    0.007630470208823681,\n",
              "    0.010788340121507645,\n",
              "    -0.025124566629529,\n",
              "    -0.013637971132993698,\n",
              "    0.02469680644571781,\n",
              "    -0.015047061257064342,\n",
              "    0.013826688751578331,\n",
              "    -0.01357506588101387,\n",
              "    -0.0012313805054873228,\n",
              "    0.019299490377306938,\n",
              "    0.025892015546560287,\n",
              "    0.0020208479836583138,\n",
              "    -0.00957425870001316,\n",
              "    -0.008246947079896927,\n",
              "    -0.011612406000494957,\n",
              "    0.000830356206279248,\n",
              "    0.039504826068878174,\n",
              "    -0.03258518874645233,\n",
              "    -0.003082382958382368,\n",
              "    -0.004032260272651911,\n",
              "    0.012637769803404808,\n",
              "    -0.01636808179318905,\n",
              "    0.00812742579728365,\n",
              "    -0.004831163212656975,\n",
              "    -0.007825477980077267,\n",
              "    -0.021060852333903313,\n",
              "    0.012128232978284359,\n",
              "    0.0123924370855093,\n",
              "    -2.6636662369128317e-05,\n",
              "    0.010706562548875809,\n",
              "    -0.034069765359163284,\n",
              "    -0.0006204081582836807,\n",
              "    -0.005589177832007408,\n",
              "    -0.012555992230772972,\n",
              "    -0.007976451888680458,\n",
              "    -0.023426109924912453,\n",
              "    -0.032459378242492676,\n",
              "    0.001942215720191598,\n",
              "    -0.001375277410261333,\n",
              "    -0.013424091972410679,\n",
              "    -0.029163116589188576,\n",
              "    0.02498617209494114,\n",
              "    0.0016229689354076982,\n",
              "    0.008699868805706501,\n",
              "    0.2353179156780243,\n",
              "    -0.031754832714796066,\n",
              "    -0.019676925614476204,\n",
              "    0.03565499186515808,\n",
              "    -0.003912738990038633,\n",
              "    -0.00892632920295,\n",
              "    -0.020381471142172813,\n",
              "    0.004478890914469957,\n",
              "    -0.014128636568784714,\n",
              "    0.009171661920845509,\n",
              "    -0.028206948190927505,\n",
              "    -0.01236727461218834,\n",
              "    0.01802879385650158,\n",
              "    -0.008372758515179157,\n",
              "    0.0060829883441329,\n",
              "    -0.005614340305328369,\n",
              "    -0.014468328095972538,\n",
              "    0.003516432596370578,\n",
              "    -0.002772571984678507,\n",
              "    -0.023161904886364937,\n",
              "    0.023614827543497086,\n",
              "    -7.43074415368028e-05,\n",
              "    -0.00509851286187768,\n",
              "    -0.014103474095463753,\n",
              "    0.019060449674725533,\n",
              "    -0.005711844190955162,\n",
              "    -0.016456149518489838,\n",
              "    -0.011329329572618008,\n",
              "    0.016443569213151932,\n",
              "    0.00032435788307338953,\n",
              "    -0.008467117324471474,\n",
              "    0.007297069765627384,\n",
              "    0.005384734366089106,\n",
              "    0.008693577721714973,\n",
              "    -0.013625390827655792,\n",
              "    0.003727167146280408,\n",
              "    0.019739830866456032,\n",
              "    -0.01921142265200615,\n",
              "    0.02996831014752388,\n",
              "    0.002896810881793499,\n",
              "    0.019626600667834282,\n",
              "    -0.004202105570584536,\n",
              "    -0.004205251112580299,\n",
              "    -0.0001519567595096305,\n",
              "    0.006756079848855734,\n",
              "    -0.01689649000763893,\n",
              "    ...],\n",
              "   'tagline': 'Everything is connected',\n",
              "   'title': 'Cloud Atlas',\n",
              "   'released': 2012}}]"
            ]
          },
          "metadata": {},
          "execution_count": 18
        }
      ],
      "source": [
        "cypher = \"\"\"\n",
        "  MATCH (cloudAtlas:Movie {title:\"Cloud Atlas\"})\n",
        "  RETURN cloudAtlas\n",
        "  \"\"\"\n",
        "kg.query(cypher)"
      ]
    },
    {
      "cell_type": "markdown",
      "metadata": {
        "id": "3f6debaf-f237-4b75-b18c-5ff56ccca780"
      },
      "source": [
        "- Return only the `released` property of the matched `Movie` node"
      ]
    },
    {
      "cell_type": "code",
      "execution_count": 19,
      "metadata": {
        "height": 98,
        "id": "2c9d8fc2-4fc7-4e85-8ced-e3f0236e6b2f",
        "colab": {
          "base_uri": "https://localhost:8080/",
          "height": 0
        },
        "outputId": "97464a69-15c0-433b-c03f-1b9d0787ed80"
      },
      "outputs": [
        {
          "output_type": "execute_result",
          "data": {
            "text/plain": [
              "[{'cloudAtlas.released': 2012}]"
            ]
          },
          "metadata": {},
          "execution_count": 19
        }
      ],
      "source": [
        "cypher = \"\"\"\n",
        "  MATCH (cloudAtlas:Movie {title:\"Cloud Atlas\"})\n",
        "  RETURN cloudAtlas.released\n",
        "  \"\"\"\n",
        "kg.query(cypher)"
      ]
    },
    {
      "cell_type": "markdown",
      "metadata": {
        "id": "00e73a39-882c-4060-926e-deb484a4358f"
      },
      "source": [
        "- Return two properties"
      ]
    },
    {
      "cell_type": "code",
      "execution_count": 20,
      "metadata": {
        "height": 98,
        "id": "64ad1276-c1cc-49d6-b7e9-d7126a37fabc",
        "colab": {
          "base_uri": "https://localhost:8080/",
          "height": 0
        },
        "outputId": "9a0102f6-1c02-4473-8e7b-9172b67e79ee"
      },
      "outputs": [
        {
          "output_type": "execute_result",
          "data": {
            "text/plain": [
              "[{'cloudAtlas.released': 2012,\n",
              "  'cloudAtlas.tagline': 'Everything is connected'}]"
            ]
          },
          "metadata": {},
          "execution_count": 20
        }
      ],
      "source": [
        "cypher = \"\"\"\n",
        "  MATCH (cloudAtlas:Movie {title:\"Cloud Atlas\"})\n",
        "  RETURN cloudAtlas.released, cloudAtlas.tagline\n",
        "  \"\"\"\n",
        "kg.query(cypher)"
      ]
    },
    {
      "cell_type": "markdown",
      "metadata": {
        "id": "689be729-367a-408b-b4e5-43d2a3d69744"
      },
      "source": [
        "### Cypher patterns with conditional matching"
      ]
    },
    {
      "cell_type": "code",
      "execution_count": 21,
      "metadata": {
        "height": 132,
        "id": "fc7b4d4d-764e-4b83-ae7c-0f7717de85f2"
      },
      "outputs": [],
      "source": [
        "cypher = \"\"\"\n",
        "  MATCH (nineties:Movie)\n",
        "  WHERE nineties.released >= 1990\n",
        "    AND nineties.released < 2000\n",
        "  RETURN nineties.title\n",
        "  \"\"\"\n"
      ]
    },
    {
      "cell_type": "code",
      "execution_count": 22,
      "metadata": {
        "height": 30,
        "id": "c52524e8-c4b2-443a-9e4b-01c50f0be352",
        "colab": {
          "base_uri": "https://localhost:8080/",
          "height": 0
        },
        "outputId": "e7cd3cee-ce11-47a4-9743-89815f4b8275"
      },
      "outputs": [
        {
          "output_type": "execute_result",
          "data": {
            "text/plain": [
              "[{'nineties.title': 'Joe Versus the Volcano'},\n",
              " {'nineties.title': 'A Few Good Men'},\n",
              " {'nineties.title': 'Unforgiven'},\n",
              " {'nineties.title': 'Hoffa'},\n",
              " {'nineties.title': 'A League of Their Own'},\n",
              " {'nineties.title': 'Sleepless in Seattle'},\n",
              " {'nineties.title': 'Johnny Mnemonic'},\n",
              " {'nineties.title': 'Apollo 13'},\n",
              " {'nineties.title': 'That Thing You Do'},\n",
              " {'nineties.title': 'The Birdcage'},\n",
              " {'nineties.title': 'Twister'},\n",
              " {'nineties.title': \"The Devil's Advocate\"},\n",
              " {'nineties.title': 'As Good as It Gets'},\n",
              " {'nineties.title': 'What Dreams May Come'},\n",
              " {'nineties.title': \"You've Got Mail\"},\n",
              " {'nineties.title': 'When Harry Met Sally'},\n",
              " {'nineties.title': 'The Matrix'},\n",
              " {'nineties.title': 'Snow Falling on Cedars'},\n",
              " {'nineties.title': 'The Green Mile'},\n",
              " {'nineties.title': 'Bicentennial Man'}]"
            ]
          },
          "metadata": {},
          "execution_count": 22
        }
      ],
      "source": [
        "kg.query(cypher)"
      ]
    },
    {
      "cell_type": "markdown",
      "metadata": {
        "id": "d176b9d2-ec33-423a-b3de-e9bc87810fe7"
      },
      "source": [
        "### Pattern matching with multiple nodes"
      ]
    },
    {
      "cell_type": "code",
      "execution_count": 23,
      "metadata": {
        "height": 98,
        "id": "dd8ae45b-c131-4e39-a937-704855cbdd74",
        "colab": {
          "base_uri": "https://localhost:8080/",
          "height": 0
        },
        "outputId": "d97c2fde-322c-4d28-c8e2-515bd389fbef"
      },
      "outputs": [
        {
          "output_type": "execute_result",
          "data": {
            "text/plain": [
              "[{'actor.name': 'Hugo Weaving', 'movie.title': 'The Matrix'},\n",
              " {'actor.name': 'Laurence Fishburne', 'movie.title': 'The Matrix'},\n",
              " {'actor.name': 'Carrie-Anne Moss', 'movie.title': 'The Matrix'},\n",
              " {'actor.name': 'Keanu Reeves', 'movie.title': 'The Matrix'},\n",
              " {'actor.name': 'Hugo Weaving', 'movie.title': 'The Matrix Reloaded'},\n",
              " {'actor.name': 'Laurence Fishburne', 'movie.title': 'The Matrix Reloaded'},\n",
              " {'actor.name': 'Carrie-Anne Moss', 'movie.title': 'The Matrix Reloaded'},\n",
              " {'actor.name': 'Keanu Reeves', 'movie.title': 'The Matrix Reloaded'},\n",
              " {'actor.name': 'Hugo Weaving', 'movie.title': 'The Matrix Revolutions'},\n",
              " {'actor.name': 'Laurence Fishburne', 'movie.title': 'The Matrix Revolutions'}]"
            ]
          },
          "metadata": {},
          "execution_count": 23
        }
      ],
      "source": [
        "cypher = \"\"\"\n",
        "  MATCH (actor:Person)-[:ACTED_IN]->(movie:Movie)\n",
        "  RETURN actor.name, movie.title LIMIT 10\n",
        "  \"\"\"\n",
        "kg.query(cypher)"
      ]
    },
    {
      "cell_type": "code",
      "execution_count": 24,
      "metadata": {
        "height": 98,
        "id": "e79dd7e8-a778-467e-b6d9-ba6af8eee5bf",
        "colab": {
          "base_uri": "https://localhost:8080/",
          "height": 0
        },
        "outputId": "62c650a6-32d8-4e5a-8c52-35b9d4cdd8bc"
      },
      "outputs": [
        {
          "output_type": "execute_result",
          "data": {
            "text/plain": [
              "[{'tom.name': 'Tom Hanks', 'tomHanksMovies.title': 'Apollo 13'},\n",
              " {'tom.name': 'Tom Hanks', 'tomHanksMovies.title': \"You've Got Mail\"},\n",
              " {'tom.name': 'Tom Hanks', 'tomHanksMovies.title': 'A League of Their Own'},\n",
              " {'tom.name': 'Tom Hanks', 'tomHanksMovies.title': 'Joe Versus the Volcano'},\n",
              " {'tom.name': 'Tom Hanks', 'tomHanksMovies.title': 'That Thing You Do'},\n",
              " {'tom.name': 'Tom Hanks', 'tomHanksMovies.title': 'The Da Vinci Code'},\n",
              " {'tom.name': 'Tom Hanks', 'tomHanksMovies.title': 'Cloud Atlas'},\n",
              " {'tom.name': 'Tom Hanks', 'tomHanksMovies.title': 'Cast Away'},\n",
              " {'tom.name': 'Tom Hanks', 'tomHanksMovies.title': 'The Green Mile'},\n",
              " {'tom.name': 'Tom Hanks', 'tomHanksMovies.title': 'Sleepless in Seattle'},\n",
              " {'tom.name': 'Tom Hanks', 'tomHanksMovies.title': 'The Polar Express'},\n",
              " {'tom.name': 'Tom Hanks', 'tomHanksMovies.title': \"Charlie Wilson's War\"}]"
            ]
          },
          "metadata": {},
          "execution_count": 24
        }
      ],
      "source": [
        "cypher = \"\"\"\n",
        "  MATCH (tom:Person {name: \"Tom Hanks\"})-[:ACTED_IN]->(tomHanksMovies:Movie)\n",
        "  RETURN tom.name,tomHanksMovies.title\n",
        "  \"\"\"\n",
        "kg.query(cypher)"
      ]
    },
    {
      "cell_type": "code",
      "execution_count": 25,
      "metadata": {
        "height": 98,
        "id": "004147cc-14f4-43eb-86ff-d22e11a1d0d2",
        "colab": {
          "base_uri": "https://localhost:8080/",
          "height": 0
        },
        "outputId": "5dcf5496-39d8-45d0-dc6d-5eaea643252d"
      },
      "outputs": [
        {
          "output_type": "execute_result",
          "data": {
            "text/plain": [
              "[{'coActors.name': 'Ed Harris', 'm.title': 'Apollo 13'},\n",
              " {'coActors.name': 'Gary Sinise', 'm.title': 'Apollo 13'},\n",
              " {'coActors.name': 'Kevin Bacon', 'm.title': 'Apollo 13'},\n",
              " {'coActors.name': 'Bill Paxton', 'm.title': 'Apollo 13'},\n",
              " {'coActors.name': 'Parker Posey', 'm.title': \"You've Got Mail\"},\n",
              " {'coActors.name': 'Greg Kinnear', 'm.title': \"You've Got Mail\"},\n",
              " {'coActors.name': 'Meg Ryan', 'm.title': \"You've Got Mail\"},\n",
              " {'coActors.name': 'Steve Zahn', 'm.title': \"You've Got Mail\"},\n",
              " {'coActors.name': 'Dave Chappelle', 'm.title': \"You've Got Mail\"},\n",
              " {'coActors.name': 'Madonna', 'm.title': 'A League of Their Own'},\n",
              " {'coActors.name': \"Rosie O'Donnell\", 'm.title': 'A League of Their Own'},\n",
              " {'coActors.name': 'Geena Davis', 'm.title': 'A League of Their Own'},\n",
              " {'coActors.name': 'Bill Paxton', 'm.title': 'A League of Their Own'},\n",
              " {'coActors.name': 'Lori Petty', 'm.title': 'A League of Their Own'},\n",
              " {'coActors.name': 'Nathan Lane', 'm.title': 'Joe Versus the Volcano'},\n",
              " {'coActors.name': 'Meg Ryan', 'm.title': 'Joe Versus the Volcano'},\n",
              " {'coActors.name': 'Liv Tyler', 'm.title': 'That Thing You Do'},\n",
              " {'coActors.name': 'Charlize Theron', 'm.title': 'That Thing You Do'},\n",
              " {'coActors.name': 'Ian McKellen', 'm.title': 'The Da Vinci Code'},\n",
              " {'coActors.name': 'Audrey Tautou', 'm.title': 'The Da Vinci Code'},\n",
              " {'coActors.name': 'Paul Bettany', 'm.title': 'The Da Vinci Code'},\n",
              " {'coActors.name': 'Jim Broadbent', 'm.title': 'Cloud Atlas'},\n",
              " {'coActors.name': 'Halle Berry', 'm.title': 'Cloud Atlas'},\n",
              " {'coActors.name': 'Hugo Weaving', 'm.title': 'Cloud Atlas'},\n",
              " {'coActors.name': 'Helen Hunt', 'm.title': 'Cast Away'},\n",
              " {'coActors.name': 'Sam Rockwell', 'm.title': 'The Green Mile'},\n",
              " {'coActors.name': 'Bonnie Hunt', 'm.title': 'The Green Mile'},\n",
              " {'coActors.name': 'Patricia Clarkson', 'm.title': 'The Green Mile'},\n",
              " {'coActors.name': 'James Cromwell', 'm.title': 'The Green Mile'},\n",
              " {'coActors.name': 'Michael Clarke Duncan', 'm.title': 'The Green Mile'},\n",
              " {'coActors.name': 'David Morse', 'm.title': 'The Green Mile'},\n",
              " {'coActors.name': 'Gary Sinise', 'm.title': 'The Green Mile'},\n",
              " {'coActors.name': 'Meg Ryan', 'm.title': 'Sleepless in Seattle'},\n",
              " {'coActors.name': 'Victor Garber', 'm.title': 'Sleepless in Seattle'},\n",
              " {'coActors.name': 'Bill Pullman', 'm.title': 'Sleepless in Seattle'},\n",
              " {'coActors.name': 'Rita Wilson', 'm.title': 'Sleepless in Seattle'},\n",
              " {'coActors.name': \"Rosie O'Donnell\", 'm.title': 'Sleepless in Seattle'},\n",
              " {'coActors.name': 'Julia Roberts', 'm.title': \"Charlie Wilson's War\"},\n",
              " {'coActors.name': 'Philip Seymour Hoffman',\n",
              "  'm.title': \"Charlie Wilson's War\"}]"
            ]
          },
          "metadata": {},
          "execution_count": 25
        }
      ],
      "source": [
        "cypher = \"\"\"\n",
        "  MATCH (tom:Person {name:\"Tom Hanks\"})-[:ACTED_IN]->(m)<-[:ACTED_IN]-(coActors)\n",
        "  RETURN coActors.name, m.title\n",
        "  \"\"\"\n",
        "kg.query(cypher)"
      ]
    },
    {
      "cell_type": "markdown",
      "metadata": {
        "id": "2ad3f683-d334-4c4e-b274-9789a70b9662"
      },
      "source": [
        "### Delete data from the graph"
      ]
    },
    {
      "cell_type": "code",
      "execution_count": 26,
      "metadata": {
        "height": 98,
        "id": "5064cab8-b5d6-4f1c-b5ef-f154f5c10b2b",
        "colab": {
          "base_uri": "https://localhost:8080/",
          "height": 0
        },
        "outputId": "62b70ffe-e79c-4ee0-ed52-f82c3300438e"
      },
      "outputs": [
        {
          "output_type": "execute_result",
          "data": {
            "text/plain": [
              "[]"
            ]
          },
          "metadata": {},
          "execution_count": 26
        }
      ],
      "source": [
        "cypher = \"\"\"\n",
        "MATCH (emil:Person {name:\"Emil Eifrem\"})-[actedIn:ACTED_IN]->(movie:Movie)\n",
        "RETURN emil.name, movie.title\n",
        "\"\"\"\n",
        "kg.query(cypher)"
      ]
    },
    {
      "cell_type": "code",
      "execution_count": 27,
      "metadata": {
        "height": 98,
        "id": "648d12d1-0966-46ff-ad77-080eae553c3a",
        "colab": {
          "base_uri": "https://localhost:8080/",
          "height": 0
        },
        "outputId": "1f6a14f3-c0b3-45b1-c84b-40b6285deda9"
      },
      "outputs": [
        {
          "output_type": "execute_result",
          "data": {
            "text/plain": [
              "[]"
            ]
          },
          "metadata": {},
          "execution_count": 27
        }
      ],
      "source": [
        "cypher = \"\"\"\n",
        "MATCH (emil:Person {name:\"Emil Eifrem\"})-[actedIn:ACTED_IN]->(movie:Movie)\n",
        "DELETE actedIn\n",
        "\"\"\"\n",
        "kg.query(cypher)"
      ]
    },
    {
      "cell_type": "markdown",
      "metadata": {
        "id": "109de94e-3526-4dad-9a62-1beb6c5dad2d"
      },
      "source": [
        "### Adding data to the graph"
      ]
    },
    {
      "cell_type": "code",
      "source": [
        "try:\n",
        "    kg.query(\"\"\"\n",
        "        CREATE (:Person {name:'Andreas'})\n",
        "    \"\"\")\n",
        "except Exception as e:\n",
        "    # Ignore constraint errors, raise others\n",
        "    if \"ConstraintValidationFailed\" not in str(e):\n",
        "        raise\n"
      ],
      "metadata": {
        "id": "FgyX_RmpAxZo"
      },
      "execution_count": 28,
      "outputs": []
    },
    {
      "cell_type": "code",
      "execution_count": 29,
      "metadata": {
        "height": 115,
        "id": "1a0b9bb9-4491-45e2-9a4d-2306ea0a2bd8",
        "colab": {
          "base_uri": "https://localhost:8080/",
          "height": 0
        },
        "outputId": "040c3906-e320-4679-97bc-ccbf5d09387a"
      },
      "outputs": [
        {
          "output_type": "execute_result",
          "data": {
            "text/plain": [
              "[{'andreas': {'name': 'Andreas'},\n",
              "  'hasRelationship': ({'name': 'Andreas'},\n",
              "   'WORKS_WITH',\n",
              "   {'born': 1978, 'name': 'Emil Eifrem'}),\n",
              "  'emil': {'born': 1978, 'name': 'Emil Eifrem'}}]"
            ]
          },
          "metadata": {},
          "execution_count": 29
        }
      ],
      "source": [
        "cypher = \"\"\"\n",
        "MATCH (andreas:Person {name:\"Andreas\"}), (emil:Person {name:\"Emil Eifrem\"})\n",
        "MERGE (andreas)-[hasRelationship:WORKS_WITH]->(emil)\n",
        "RETURN andreas, hasRelationship, emil\n",
        "\"\"\"\n",
        "kg.query(cypher)"
      ]
    },
    {
      "cell_type": "markdown",
      "metadata": {
        "id": "b8e2a3fb-cc4d-4f8d-8f78-97415e849416"
      },
      "source": [
        "# Preparing Text Data for RAG"
      ]
    },
    {
      "cell_type": "markdown",
      "metadata": {
        "id": "9fb43372-7cff-4dc6-8c47-2885aac4c09a"
      },
      "source": [
        "### Import packages and set up Neo4j"
      ]
    },
    {
      "cell_type": "markdown",
      "metadata": {
        "id": "b4478433-1ab7-4ad6-ba51-73d54e45d798"
      },
      "source": [
        "### Create a vector index"
      ]
    },
    {
      "cell_type": "code",
      "execution_count": 30,
      "metadata": {
        "height": 166,
        "id": "a26f80f6-d21a-447f-a5e2-eb940c0a25e4",
        "colab": {
          "base_uri": "https://localhost:8080/",
          "height": 0
        },
        "outputId": "08fde170-77b7-4ea3-d68d-d7e176e962af"
      },
      "outputs": [
        {
          "output_type": "execute_result",
          "data": {
            "text/plain": [
              "[]"
            ]
          },
          "metadata": {},
          "execution_count": 30
        }
      ],
      "source": [
        "kg.query(\"\"\"\n",
        "  CREATE VECTOR INDEX movie_tagline_embeddings IF NOT EXISTS\n",
        "  FOR (m:Movie) ON (m.taglineEmbedding)\n",
        "  OPTIONS { indexConfig: {\n",
        "    `vector.dimensions`: 1536,\n",
        "    `vector.similarity_function`: 'cosine'\n",
        "  }}\"\"\"\n",
        ")\n"
      ]
    },
    {
      "cell_type": "code",
      "execution_count": 31,
      "metadata": {
        "height": 81,
        "id": "9472ede6-18da-4d13-a5de-0dbad618c0f3",
        "colab": {
          "base_uri": "https://localhost:8080/",
          "height": 0
        },
        "outputId": "64a9f114-e35f-4b09-89ed-6c3d2da2daf8"
      },
      "outputs": [
        {
          "output_type": "execute_result",
          "data": {
            "text/plain": [
              "[{'id': 4,\n",
              "  'name': 'form_10k_chunks',\n",
              "  'state': 'ONLINE',\n",
              "  'populationPercent': 100.0,\n",
              "  'type': 'VECTOR',\n",
              "  'entityType': 'NODE',\n",
              "  'labelsOrTypes': ['Chunk'],\n",
              "  'properties': ['textEmbedding'],\n",
              "  'indexProvider': 'vector-2.0',\n",
              "  'owningConstraint': None,\n",
              "  'lastRead': neo4j.time.DateTime(2025, 7, 9, 10, 34, 58, 984000000, tzinfo=<UTC>),\n",
              "  'readCount': 11},\n",
              " {'id': 1,\n",
              "  'name': 'movie_tagline_embeddings',\n",
              "  'state': 'ONLINE',\n",
              "  'populationPercent': 100.0,\n",
              "  'type': 'VECTOR',\n",
              "  'entityType': 'NODE',\n",
              "  'labelsOrTypes': ['Movie'],\n",
              "  'properties': ['taglineEmbedding'],\n",
              "  'indexProvider': 'vector-2.0',\n",
              "  'owningConstraint': None,\n",
              "  'lastRead': neo4j.time.DateTime(2025, 7, 10, 0, 1, 5, 457000000, tzinfo=<UTC>),\n",
              "  'readCount': 12}]"
            ]
          },
          "metadata": {},
          "execution_count": 31
        }
      ],
      "source": [
        "kg.query(\"\"\"\n",
        "  SHOW VECTOR INDEXES\n",
        "  \"\"\"\n",
        ")"
      ]
    },
    {
      "cell_type": "markdown",
      "metadata": {
        "id": "ebe87478-723a-49e4-a197-b4cccd7153b0"
      },
      "source": [
        "### Populate the vector index\n",
        "- Calculate vector representation for each movie tagline using OpenAI\n",
        "- Add vector to the `Movie` node as `taglineEmbedding` property"
      ]
    },
    {
      "cell_type": "code",
      "execution_count": 33,
      "metadata": {
        "height": 217,
        "id": "5921f75b-706d-414a-b7a0-b81623a71a23",
        "colab": {
          "base_uri": "https://localhost:8080/",
          "height": 0
        },
        "outputId": "a708fd09-e71c-4587-f535-33155c2bd6b8"
      },
      "outputs": [
        {
          "output_type": "execute_result",
          "data": {
            "text/plain": [
              "[]"
            ]
          },
          "metadata": {},
          "execution_count": 33
        }
      ],
      "source": [
        "cypher = \"\"\"\n",
        "MATCH (movie:Movie) WHERE movie.tagline IS NOT NULL\n",
        "WITH movie,\n",
        "     genai.vector.encode(\n",
        "         movie.tagline,\n",
        "         \"OpenAI\",\n",
        "         { token: $openAiApiKey, endpoint: $openAiEndpoint }\n",
        "     ) AS vector\n",
        "CALL db.create.setNodeVectorProperty(movie, \"taglineEmbedding\", vector)\n",
        "\"\"\"\n",
        "\n",
        "kg.query(\n",
        "    cypher,\n",
        "    openAiApiKey=OPENAI_API_KEY,    # ← pass as separate keywords\n",
        "    openAiEndpoint=OPENAI_ENDPOINT  # ← ditto\n",
        ")\n"
      ]
    },
    {
      "cell_type": "code",
      "execution_count": 34,
      "metadata": {
        "height": 132,
        "id": "73efe0c6-d3e9-4815-9154-04f177101f17"
      },
      "outputs": [],
      "source": [
        "result = kg.query(\"\"\"\n",
        "    MATCH (m:Movie)\n",
        "    WHERE m.tagline IS NOT NULL\n",
        "    RETURN m.tagline, m.taglineEmbedding\n",
        "    LIMIT 1\n",
        "    \"\"\"\n",
        ")"
      ]
    },
    {
      "cell_type": "code",
      "execution_count": 35,
      "metadata": {
        "height": 30,
        "id": "71f4fe0b-01da-493f-862b-36a60842d648",
        "colab": {
          "base_uri": "https://localhost:8080/",
          "height": 35
        },
        "outputId": "a70c0499-7320-49a5-dc0b-6a605fcb08b5"
      },
      "outputs": [
        {
          "output_type": "execute_result",
          "data": {
            "text/plain": [
              "'Welcome to the Real World'"
            ],
            "application/vnd.google.colaboratory.intrinsic+json": {
              "type": "string"
            }
          },
          "metadata": {},
          "execution_count": 35
        }
      ],
      "source": [
        "result[0]['m.tagline']"
      ]
    },
    {
      "cell_type": "code",
      "execution_count": 36,
      "metadata": {
        "height": 30,
        "id": "93c3fe17-7310-4e11-84c3-4955c8ed8f1a",
        "colab": {
          "base_uri": "https://localhost:8080/",
          "height": 0
        },
        "outputId": "2ce24bd0-6fc3-4973-ce5e-473e29a725f0"
      },
      "outputs": [
        {
          "output_type": "execute_result",
          "data": {
            "text/plain": [
              "[0.017445066943764687,\n",
              " -0.005481892731040716,\n",
              " -0.002013522433117032,\n",
              " -0.025571243837475777,\n",
              " -0.014404304325580597,\n",
              " 0.016737302765250206,\n",
              " -0.017078077420592308,\n",
              " 0.000485358847072348,\n",
              " -0.025217361748218536,\n",
              " -0.029516370967030525]"
            ]
          },
          "metadata": {},
          "execution_count": 36
        }
      ],
      "source": [
        "result[0]['m.taglineEmbedding'][:10]"
      ]
    },
    {
      "cell_type": "code",
      "execution_count": 37,
      "metadata": {
        "height": 30,
        "id": "221af96b-63ce-4a95-8d23-47f9aa8c3a4e",
        "colab": {
          "base_uri": "https://localhost:8080/",
          "height": 0
        },
        "outputId": "cfc3f3bd-ff46-4d0f-ecf7-c9d193d06b89"
      },
      "outputs": [
        {
          "output_type": "execute_result",
          "data": {
            "text/plain": [
              "1536"
            ]
          },
          "metadata": {},
          "execution_count": 37
        }
      ],
      "source": [
        "len(result[0]['m.taglineEmbedding'])"
      ]
    },
    {
      "cell_type": "markdown",
      "metadata": {
        "id": "790b238d-9189-4111-962b-1bf3dfcdad05"
      },
      "source": [
        "### Similarity search\n",
        "- Calculate embedding for question\n",
        "- Identify matching movies based on similarity of question and `taglineEmbedding` vectors"
      ]
    },
    {
      "cell_type": "code",
      "execution_count": 38,
      "metadata": {
        "height": 30,
        "id": "5648d30a-ab89-4fa1-ad61-35bbb43ef102"
      },
      "outputs": [],
      "source": [
        "question = \"What movies are about love?\""
      ]
    },
    {
      "cell_type": "code",
      "execution_count": 39,
      "metadata": {
        "height": 353,
        "id": "6b1bc582-fd8e-4a2f-8347-fb62cbfec1c2",
        "colab": {
          "base_uri": "https://localhost:8080/",
          "height": 0
        },
        "outputId": "7b08485d-5290-4749-d31b-8ce066f18e23"
      },
      "outputs": [
        {
          "output_type": "execute_result",
          "data": {
            "text/plain": [
              "[{'movie.title': 'Joe Versus the Volcano',\n",
              "  'movie.tagline': 'A story of love, lava and burning desire.',\n",
              "  'score': 0.8998565673828125},\n",
              " {'movie.title': 'As Good as It Gets',\n",
              "  'movie.tagline': 'A comedy from the heart that goes for the throat.',\n",
              "  'score': 0.8974456787109375},\n",
              " {'movie.title': 'Snow Falling on Cedars',\n",
              "  'movie.tagline': 'First loves last. Forever.',\n",
              "  'score': 0.89337158203125},\n",
              " {'movie.title': 'Sleepless in Seattle',\n",
              "  'movie.tagline': 'What if someone you never met, someone you never saw, someone you never knew was the only someone for you?',\n",
              "  'score': 0.88751220703125},\n",
              " {'movie.title': \"You've Got Mail\",\n",
              "  'movie.tagline': 'At odds in life... in love on-line.',\n",
              "  'score': 0.8858642578125}]"
            ]
          },
          "metadata": {},
          "execution_count": 39
        }
      ],
      "source": [
        "cypher = \"\"\"\n",
        "WITH genai.vector.encode(\n",
        "        $question,\n",
        "        \"OpenAI\",\n",
        "        { token: $openAiApiKey, endpoint: $openAiEndpoint }\n",
        "     ) AS question_embedding\n",
        "CALL db.index.vector.queryNodes(\n",
        "        'movie_tagline_embeddings',\n",
        "        $top_k,\n",
        "        question_embedding\n",
        "     ) YIELD node AS movie, score\n",
        "RETURN movie.title, movie.tagline, score\n",
        "\"\"\"\n",
        "\n",
        "kg.query(\n",
        "    cypher,\n",
        "    question=question,               # ← your prompt string\n",
        "    top_k=5,                         # ← or any integer\n",
        "    openAiApiKey=OPENAI_API_KEY,     # ← from the setup cell\n",
        "    openAiEndpoint=OPENAI_ENDPOINT   # ← from the setup cell\n",
        ")\n"
      ]
    },
    {
      "cell_type": "markdown",
      "metadata": {
        "id": "0d3c6eaa-aaea-4a03-b9f8-3c0ead98e83b"
      },
      "source": [
        "### Try for yourself: ask you own question!\n",
        "- Change the question below and run the graph query to find different movies"
      ]
    },
    {
      "cell_type": "code",
      "execution_count": 40,
      "metadata": {
        "height": 30,
        "id": "21b08047-0086-4291-8d62-fb646de330fa"
      },
      "outputs": [],
      "source": [
        "question = \"What movies are about adventure?\""
      ]
    },
    {
      "cell_type": "code",
      "execution_count": 41,
      "metadata": {
        "height": 285,
        "id": "7cdc7751-dddf-46b8-a74b-3d7c5544748f",
        "colab": {
          "base_uri": "https://localhost:8080/",
          "height": 0
        },
        "outputId": "6d85cf06-01e0-48fa-bb41-64995a80de78"
      },
      "outputs": [
        {
          "output_type": "execute_result",
          "data": {
            "text/plain": [
              "[{'movie.title': 'RescueDawn',\n",
              "  'movie.tagline': \"Based on the extraordinary true story of one man's fight for freedom\",\n",
              "  'score': 0.89263916015625},\n",
              " {'movie.title': 'Ninja Assassin',\n",
              "  'movie.tagline': 'Prepare to enter a secret world of assassins',\n",
              "  'score': 0.8824615478515625},\n",
              " {'movie.title': 'Joe Versus the Volcano',\n",
              "  'movie.tagline': 'A story of love, lava and burning desire.',\n",
              "  'score': 0.8816680908203125},\n",
              " {'movie.title': 'As Good as It Gets',\n",
              "  'movie.tagline': 'A comedy from the heart that goes for the throat.',\n",
              "  'score': 0.881134033203125},\n",
              " {'movie.title': 'Twister',\n",
              "  'movie.tagline': \"Don't Breathe. Don't Look Back.\",\n",
              "  'score': 0.8760528564453125}]"
            ]
          },
          "metadata": {},
          "execution_count": 41
        }
      ],
      "source": [
        "cypher = \"\"\"\n",
        "WITH genai.vector.encode(\n",
        "        $question,\n",
        "        \"OpenAI\",\n",
        "        { token: $openAiApiKey, endpoint: $openAiEndpoint }\n",
        "     ) AS question_embedding\n",
        "CALL db.index.vector.queryNodes(\n",
        "        'movie_tagline_embeddings',\n",
        "        $top_k,\n",
        "        question_embedding\n",
        "     ) YIELD node AS movie, score\n",
        "RETURN movie.title, movie.tagline, score\n",
        "\"\"\"\n",
        "\n",
        "kg.query(\n",
        "    cypher,\n",
        "    question=question,            # your prompt string\n",
        "    top_k=5,                      # number of results to return\n",
        "    openAiApiKey=OPENAI_API_KEY,  # comes from the key-setup cell\n",
        "    openAiEndpoint=OPENAI_ENDPOINT\n",
        ")\n"
      ]
    },
    {
      "cell_type": "markdown",
      "metadata": {
        "id": "54b83f29-aaac-48c5-96d0-c7306a4829c4"
      },
      "source": [
        "# Constructing a Knowledge Graph from Text Documents"
      ]
    },
    {
      "cell_type": "markdown",
      "metadata": {
        "id": "a87f162a-036e-4f92-b747-7ccfc6dc7b70"
      },
      "source": [
        "<p style=\"background-color:#fd4a6180; padding:15px; margin-left:20px\"> <b>Note:</b> This notebook takes about 30 seconds to be ready to use. Please wait until the \"Kernel starting, please wait...\" message clears from the top of the notebook before running any cells. You may start the video while you wait.</p>"
      ]
    },
    {
      "cell_type": "markdown",
      "metadata": {
        "id": "ebcbf000-c1dc-4859-bf14-cbc84eb32053"
      },
      "source": [
        "### Import packages and set up Neo4j"
      ]
    },
    {
      "cell_type": "code",
      "source": [
        "!pip install -q langchain-openai"
      ],
      "metadata": {
        "id": "99fpanShngTp"
      },
      "execution_count": 42,
      "outputs": []
    },
    {
      "cell_type": "code",
      "execution_count": 43,
      "metadata": {
        "height": 336,
        "id": "8570032f-9008-4d8a-8232-59866218e01e"
      },
      "outputs": [],
      "source": [
        "from dotenv import load_dotenv\n",
        "import os\n",
        "\n",
        "# Common data processing\n",
        "import json\n",
        "import textwrap\n",
        "\n",
        "# Langchain\n",
        "from langchain_community.graphs import Neo4jGraph\n",
        "from langchain_community.vectorstores import Neo4jVector\n",
        "from langchain_openai import OpenAIEmbeddings\n",
        "from langchain.text_splitter import RecursiveCharacterTextSplitter\n",
        "from langchain.chains import RetrievalQAWithSourcesChain\n",
        "from langchain_openai import ChatOpenAI\n",
        "\n",
        "\n",
        "# Warning control\n",
        "import warnings\n",
        "warnings.filterwarnings(\"ignore\")"
      ]
    },
    {
      "cell_type": "code",
      "execution_count": 48,
      "metadata": {
        "height": 302,
        "id": "d4edcf01-cac6-4539-a8c3-db5b175a41b2"
      },
      "outputs": [],
      "source": [
        "from dotenv import load_dotenv\n",
        "import os\n",
        "\n",
        "# Load from environment\n",
        "load_dotenv('.env', override=True)\n",
        "\n",
        "# Assign environment variables\n",
        "NEO4J_URI = os.getenv('NEO4J_URI')\n",
        "NEO4J_USERNAME = os.getenv('NEO4J_USERNAME')\n",
        "NEO4J_PASSWORD = os.getenv('NEO4J_PASSWORD')\n",
        "NEO4J_DATABASE = os.getenv('NEO4J_DATABASE') or 'neo4j'\n",
        "OPENAI_API_KEY = os.getenv('OPENAI_API_KEY')\n",
        "\n",
        "# ✅ DO NOT include this line unless you have a custom OpenAI base URL\n",
        "# OPENAI_ENDPOINT = os.getenv('OPENAI_BASE_URL') + '/embeddings'\n",
        "\n",
        "# Global constants\n",
        "VECTOR_INDEX_NAME = 'form_10k_chunks'\n",
        "VECTOR_NODE_LABEL = 'Chunk'\n",
        "VECTOR_SOURCE_PROPERTY = 'text'\n",
        "VECTOR_EMBEDDING_PROPERTY = 'textEmbedding'\n"
      ]
    },
    {
      "cell_type": "markdown",
      "metadata": {
        "id": "ad8c6cb6-74ba-4d94-81d2-9bca5893c44a"
      },
      "source": [
        "### Take a look at a Form 10-K json file\n",
        "\n",
        "- Publicly traded companies are required to fill a form 10-K each year with the Securities and Exchange Commision (SEC)\n",
        "- You can search these filings using the SEC's [EDGAR database](https://www.sec.gov/edgar/search/)\n",
        "- For the next few lessons, you'll work with a single 10-K form for a company called [NetApp](https://www.netapp.com/)"
      ]
    },
    {
      "cell_type": "code",
      "execution_count": 46,
      "metadata": {
        "height": 47,
        "id": "d29dc84a-a51d-4f48-8dae-6c9c39565299"
      },
      "outputs": [],
      "source": [
        "first_file_name = \"/content/0000950170-23-027948.json\"\n"
      ]
    },
    {
      "cell_type": "code",
      "execution_count": 47,
      "metadata": {
        "height": 30,
        "id": "d9d6697f-e8f1-4e1a-aa6d-0d641fbc3649"
      },
      "outputs": [],
      "source": [
        "first_file_as_object = json.load(open(first_file_name))"
      ]
    },
    {
      "cell_type": "code",
      "execution_count": 49,
      "metadata": {
        "height": 30,
        "id": "4d3ef32c-6f10-430c-83b4-f34e54fb45d8",
        "colab": {
          "base_uri": "https://localhost:8080/",
          "height": 0
        },
        "outputId": "1fafdfd1-9559-4f24-ac23-ff81703eefaf"
      },
      "outputs": [
        {
          "output_type": "execute_result",
          "data": {
            "text/plain": [
              "dict"
            ]
          },
          "metadata": {},
          "execution_count": 49
        }
      ],
      "source": [
        "type(first_file_as_object)"
      ]
    },
    {
      "cell_type": "code",
      "execution_count": 50,
      "metadata": {
        "height": 47,
        "id": "58bd1c0f-bca0-4f16-846a-8158967b61e8",
        "colab": {
          "base_uri": "https://localhost:8080/",
          "height": 0
        },
        "outputId": "9b60a4d0-c876-4593-90d2-76307305c087"
      },
      "outputs": [
        {
          "output_type": "stream",
          "name": "stdout",
          "text": [
            "item1 <class 'str'>\n",
            "item1a <class 'str'>\n",
            "item7 <class 'str'>\n",
            "item7a <class 'str'>\n",
            "cik <class 'str'>\n",
            "cusip6 <class 'str'>\n",
            "cusip <class 'list'>\n",
            "names <class 'list'>\n",
            "source <class 'str'>\n"
          ]
        }
      ],
      "source": [
        "for k,v in first_file_as_object.items():\n",
        "    print(k, type(v))"
      ]
    },
    {
      "cell_type": "code",
      "execution_count": 51,
      "metadata": {
        "height": 30,
        "id": "e431a995-84c6-40ee-854f-8f09d7e43259"
      },
      "outputs": [],
      "source": [
        "item1_text = first_file_as_object['item1']"
      ]
    },
    {
      "cell_type": "code",
      "execution_count": 52,
      "metadata": {
        "height": 30,
        "id": "aee07cd1-00c4-477b-9f05-5f0db5cef432",
        "colab": {
          "base_uri": "https://localhost:8080/",
          "height": 161
        },
        "outputId": "3110d106-6556-4c33-c659-c58285c69c72"
      },
      "outputs": [
        {
          "output_type": "execute_result",
          "data": {
            "text/plain": [
              "'>Item 1.  \\nBusiness\\n\\n\\nOverview\\n\\n\\nNetApp, Inc. (NetApp, we, us or the Company) is a global cloud-led, data-centric software company. We were incorporated in 1992 and are headquartered in San Jose, California. Building on more than three decades of innovation, we give customers the freedom to manage applications and data across hybrid multicloud environments. Our portfolio of cloud services, and storage infrastructure, powered by intelligent data management software, enables applications to run faster, more reliably, and more securely, all at a lower cost.\\n\\n\\nOur opportunity is defined by the durable megatrends of data-driven digital and cloud transformations. NetApp helps organizations meet the complexities created by rapid data and cloud growth, multi-cloud management, and the adoption of next-generation technologies, such as AI, Kubernetes, and modern databases. Our modern approach to hybrid, multicloud infrastructure and data management, which we term ‘evolved cloud’, provides customers the ability to leverage data across their entire estate with simplicity, security, and sustainability which increases our relevance and value to our customers.\\n\\n\\nIn an evolved cloud state, the cloud is fully integrated into an organization’s architecture and operations. Data centers and clouds are seamlessly united and hybrid multicloud operations are simplified, with consistency and observability across environments. The key benefits NetApp brings to an organization’s hybrid multicloud envir'"
            ],
            "application/vnd.google.colaboratory.intrinsic+json": {
              "type": "string"
            }
          },
          "metadata": {},
          "execution_count": 52
        }
      ],
      "source": [
        "item1_text[0:1500]"
      ]
    },
    {
      "cell_type": "markdown",
      "metadata": {
        "id": "bf3d09a3-25a2-4f92-b9cb-37a6c0e4c808"
      },
      "source": [
        "### Split Form 10-K sections into chunks\n",
        "- Set up text splitter using LangChain\n",
        "- For now, split only the text from the \"item 1\" section"
      ]
    },
    {
      "cell_type": "code",
      "execution_count": 53,
      "metadata": {
        "height": 115,
        "id": "fd3e4843-686a-40f1-97d1-b4811084d1b1"
      },
      "outputs": [],
      "source": [
        "text_splitter = RecursiveCharacterTextSplitter(\n",
        "    chunk_size = 2000,\n",
        "    chunk_overlap  = 200,\n",
        "    length_function = len,\n",
        "    is_separator_regex = False,\n",
        ")"
      ]
    },
    {
      "cell_type": "code",
      "execution_count": 54,
      "metadata": {
        "height": 30,
        "id": "5acbbf0b-6d25-46ab-9539-fb38479ff4fe"
      },
      "outputs": [],
      "source": [
        "item1_text_chunks = text_splitter.split_text(item1_text)"
      ]
    },
    {
      "cell_type": "code",
      "execution_count": 55,
      "metadata": {
        "height": 30,
        "id": "c35dc351-48d7-4487-b311-7224eb880c68",
        "colab": {
          "base_uri": "https://localhost:8080/",
          "height": 0
        },
        "outputId": "d4876dbe-5b92-4bf1-ea53-2e34256cdbcd"
      },
      "outputs": [
        {
          "output_type": "execute_result",
          "data": {
            "text/plain": [
              "list"
            ]
          },
          "metadata": {},
          "execution_count": 55
        }
      ],
      "source": [
        "type(item1_text_chunks)"
      ]
    },
    {
      "cell_type": "code",
      "execution_count": 56,
      "metadata": {
        "height": 30,
        "id": "fc769d72-c01c-4d7b-aa3f-b12e8acd99e6",
        "colab": {
          "base_uri": "https://localhost:8080/",
          "height": 0
        },
        "outputId": "210a4cf5-5a96-44c6-ad59-1f0075dd4726"
      },
      "outputs": [
        {
          "output_type": "execute_result",
          "data": {
            "text/plain": [
              "254"
            ]
          },
          "metadata": {},
          "execution_count": 56
        }
      ],
      "source": [
        "len(item1_text_chunks)"
      ]
    },
    {
      "cell_type": "code",
      "execution_count": 57,
      "metadata": {
        "height": 30,
        "id": "af610b46-68f3-4763-9ffb-eb452dc61acf",
        "colab": {
          "base_uri": "https://localhost:8080/",
          "height": 161
        },
        "outputId": "b9821c5b-ecf6-4f5a-8aa6-0d15ecdcd567"
      },
      "outputs": [
        {
          "output_type": "execute_result",
          "data": {
            "text/plain": [
              "'>Item 1.  \\nBusiness\\n\\n\\nOverview\\n\\n\\nNetApp, Inc. (NetApp, we, us or the Company) is a global cloud-led, data-centric software company. We were incorporated in 1992 and are headquartered in San Jose, California. Building on more than three decades of innovation, we give customers the freedom to manage applications and data across hybrid multicloud environments. Our portfolio of cloud services, and storage infrastructure, powered by intelligent data management software, enables applications to run faster, more reliably, and more securely, all at a lower cost.\\n\\n\\nOur opportunity is defined by the durable megatrends of data-driven digital and cloud transformations. NetApp helps organizations meet the complexities created by rapid data and cloud growth, multi-cloud management, and the adoption of next-generation technologies, such as AI, Kubernetes, and modern databases. Our modern approach to hybrid, multicloud infrastructure and data management, which we term ‘evolved cloud’, provides customers the ability to leverage data across their entire estate with simplicity, security, and sustainability which increases our relevance and value to our customers.\\n\\n\\nIn an evolved cloud state, the cloud is fully integrated into an organization’s architecture and operations. Data centers and clouds are seamlessly united and hybrid multicloud operations are simplified, with consistency and observability across environments. The key benefits NetApp brings to an organization’s hybrid multicloud environment are:\\n\\n\\n•\\nOperational simplicity: NetApp’s use of open source, open architectures and APIs, microservices, and common capabilities and data services facilitate the creation of applications that can run anywhere.\\n\\n\\n•\\nFlexibility and consistency: NetApp makes moving data and applications between environments seamless through a common storage foundation across on-premises and multicloud environments.'"
            ],
            "application/vnd.google.colaboratory.intrinsic+json": {
              "type": "string"
            }
          },
          "metadata": {},
          "execution_count": 57
        }
      ],
      "source": [
        "item1_text_chunks[0]"
      ]
    },
    {
      "cell_type": "markdown",
      "metadata": {
        "id": "accf6522-52e3-441f-b0c3-c43d754ba55a"
      },
      "source": [
        "- Set up helper function to chunk all sections of the Form 10-K\n",
        "- You'll limit the number of chunks in each section to 20 to speed things up"
      ]
    },
    {
      "cell_type": "code",
      "execution_count": 58,
      "metadata": {
        "height": 489,
        "id": "3ed5ec07-a825-4e87-8e30-f09efa586a12"
      },
      "outputs": [],
      "source": [
        "def split_form10k_data_from_file(file):\n",
        "    chunks_with_metadata = [] # use this to accumlate chunk records\n",
        "    file_as_object = json.load(open(file)) # open the json file\n",
        "    for item in ['item1','item1a','item7','item7a']: # pull these keys from the json\n",
        "        print(f'Processing {item} from {file}')\n",
        "        item_text = file_as_object[item] # grab the text of the item\n",
        "        item_text_chunks = text_splitter.split_text(item_text) # split the text into chunks\n",
        "        chunk_seq_id = 0\n",
        "        for chunk in item_text_chunks[:20]: # only take the first 20 chunks\n",
        "            form_id = file[file.rindex('/') + 1:file.rindex('.')] # extract form id from file name\n",
        "            # finally, construct a record with metadata and the chunk text\n",
        "            chunks_with_metadata.append({\n",
        "                'text': chunk,\n",
        "                # metadata from looping...\n",
        "                'f10kItem': item,\n",
        "                'chunkSeqId': chunk_seq_id,\n",
        "                # constructed metadata...\n",
        "                'formId': f'{form_id}', # pulled from the filename\n",
        "                'chunkId': f'{form_id}-{item}-chunk{chunk_seq_id:04d}',\n",
        "                # metadata from file...\n",
        "                'names': file_as_object['names'],\n",
        "                'cik': file_as_object['cik'],\n",
        "                'cusip6': file_as_object['cusip6'],\n",
        "                'source': file_as_object['source'],\n",
        "            })\n",
        "            chunk_seq_id += 1\n",
        "        print(f'\\tSplit into {chunk_seq_id} chunks')\n",
        "    return chunks_with_metadata"
      ]
    },
    {
      "cell_type": "code",
      "execution_count": 59,
      "metadata": {
        "height": 30,
        "id": "6696ea15-abf7-4f05-8fd2-8e91e5fc540c",
        "colab": {
          "base_uri": "https://localhost:8080/",
          "height": 0
        },
        "outputId": "f3a0709e-3814-4eea-a715-584dab7f6f06"
      },
      "outputs": [
        {
          "output_type": "stream",
          "name": "stdout",
          "text": [
            "Processing item1 from /content/0000950170-23-027948.json\n",
            "\tSplit into 20 chunks\n",
            "Processing item1a from /content/0000950170-23-027948.json\n",
            "\tSplit into 1 chunks\n",
            "Processing item7 from /content/0000950170-23-027948.json\n",
            "\tSplit into 1 chunks\n",
            "Processing item7a from /content/0000950170-23-027948.json\n",
            "\tSplit into 1 chunks\n"
          ]
        }
      ],
      "source": [
        "first_file_chunks = split_form10k_data_from_file(first_file_name)"
      ]
    },
    {
      "cell_type": "code",
      "execution_count": 60,
      "metadata": {
        "height": 30,
        "id": "d8b42f97-911f-495d-8176-a10879d2aae1",
        "colab": {
          "base_uri": "https://localhost:8080/",
          "height": 0
        },
        "outputId": "75292447-b146-4f2b-be6e-1622f60d4359"
      },
      "outputs": [
        {
          "output_type": "execute_result",
          "data": {
            "text/plain": [
              "{'text': '>Item 1.  \\nBusiness\\n\\n\\nOverview\\n\\n\\nNetApp, Inc. (NetApp, we, us or the Company) is a global cloud-led, data-centric software company. We were incorporated in 1992 and are headquartered in San Jose, California. Building on more than three decades of innovation, we give customers the freedom to manage applications and data across hybrid multicloud environments. Our portfolio of cloud services, and storage infrastructure, powered by intelligent data management software, enables applications to run faster, more reliably, and more securely, all at a lower cost.\\n\\n\\nOur opportunity is defined by the durable megatrends of data-driven digital and cloud transformations. NetApp helps organizations meet the complexities created by rapid data and cloud growth, multi-cloud management, and the adoption of next-generation technologies, such as AI, Kubernetes, and modern databases. Our modern approach to hybrid, multicloud infrastructure and data management, which we term ‘evolved cloud’, provides customers the ability to leverage data across their entire estate with simplicity, security, and sustainability which increases our relevance and value to our customers.\\n\\n\\nIn an evolved cloud state, the cloud is fully integrated into an organization’s architecture and operations. Data centers and clouds are seamlessly united and hybrid multicloud operations are simplified, with consistency and observability across environments. The key benefits NetApp brings to an organization’s hybrid multicloud environment are:\\n\\n\\n•\\nOperational simplicity: NetApp’s use of open source, open architectures and APIs, microservices, and common capabilities and data services facilitate the creation of applications that can run anywhere.\\n\\n\\n•\\nFlexibility and consistency: NetApp makes moving data and applications between environments seamless through a common storage foundation across on-premises and multicloud environments.',\n",
              " 'f10kItem': 'item1',\n",
              " 'chunkSeqId': 0,\n",
              " 'formId': '0000950170-23-027948',\n",
              " 'chunkId': '0000950170-23-027948-item1-chunk0000',\n",
              " 'names': ['Netapp Inc', 'NETAPP INC'],\n",
              " 'cik': '1002047',\n",
              " 'cusip6': '64110D',\n",
              " 'source': 'https://www.sec.gov/Archives/edgar/data/1002047/000095017023027948/0000950170-23-027948-index.htm'}"
            ]
          },
          "metadata": {},
          "execution_count": 60
        }
      ],
      "source": [
        "first_file_chunks[0]"
      ]
    },
    {
      "cell_type": "markdown",
      "metadata": {
        "id": "58952e6c-7e9c-44eb-b52b-bb11245738a4"
      },
      "source": [
        "### Create graph nodes using text chunks"
      ]
    },
    {
      "cell_type": "code",
      "execution_count": 61,
      "metadata": {
        "height": 234,
        "id": "968783b2-5c17-46cc-abfd-b6b5dfffe3bb"
      },
      "outputs": [],
      "source": [
        "merge_chunk_node_query = \"\"\"\n",
        "MERGE(mergedChunk:Chunk {chunkId: $chunkParam.chunkId})\n",
        "    ON CREATE SET\n",
        "        mergedChunk.names = $chunkParam.names,\n",
        "        mergedChunk.formId = $chunkParam.formId,\n",
        "        mergedChunk.cik = $chunkParam.cik,\n",
        "        mergedChunk.cusip6 = $chunkParam.cusip6,\n",
        "        mergedChunk.source = $chunkParam.source,\n",
        "        mergedChunk.f10kItem = $chunkParam.f10kItem,\n",
        "        mergedChunk.chunkSeqId = $chunkParam.chunkSeqId,\n",
        "        mergedChunk.text = $chunkParam.text\n",
        "RETURN mergedChunk\n",
        "\"\"\""
      ]
    },
    {
      "cell_type": "markdown",
      "metadata": {
        "id": "34efd2c9-ad31-440a-92c5-9394465950f9"
      },
      "source": [
        "- Set up connection to graph instance using LangChain"
      ]
    },
    {
      "cell_type": "code",
      "execution_count": 62,
      "metadata": {
        "height": 64,
        "id": "f3f43dab-155e-4172-959b-e05968c0c6a8"
      },
      "outputs": [],
      "source": [
        "kg = Neo4jGraph(\n",
        "    url=NEO4J_URI, username=NEO4J_USERNAME, password=NEO4J_PASSWORD, database=NEO4J_DATABASE\n",
        ")"
      ]
    },
    {
      "cell_type": "markdown",
      "metadata": {
        "id": "ddb150bf-1f77-4a5b-be0d-23ab86e32385"
      },
      "source": [
        "- Create a single chunk node for now"
      ]
    },
    {
      "cell_type": "code",
      "execution_count": 63,
      "metadata": {
        "height": 47,
        "id": "6abdc4a7-8fb9-4cd9-8a79-8066ad67f618",
        "colab": {
          "base_uri": "https://localhost:8080/",
          "height": 0
        },
        "outputId": "bf9bb299-4ff8-432f-83c6-4adb9e5b9dfe"
      },
      "outputs": [
        {
          "output_type": "execute_result",
          "data": {
            "text/plain": [
              "[{'mergedChunk': {'formId': '0000950170-23-027948',\n",
              "   'f10kItem': 'item1',\n",
              "   'names': ['Netapp Inc', 'NETAPP INC'],\n",
              "   'cik': '1002047',\n",
              "   'cusip6': '64110D',\n",
              "   'source': 'https://www.sec.gov/Archives/edgar/data/1002047/000095017023027948/0000950170-23-027948-index.htm',\n",
              "   'text': '>Item 1.  \\nBusiness\\n\\n\\nOverview\\n\\n\\nNetApp, Inc. (NetApp, we, us or the Company) is a global cloud-led, data-centric software company. We were incorporated in 1992 and are headquartered in San Jose, California. Building on more than three decades of innovation, we give customers the freedom to manage applications and data across hybrid multicloud environments. Our portfolio of cloud services, and storage infrastructure, powered by intelligent data management software, enables applications to run faster, more reliably, and more securely, all at a lower cost.\\n\\n\\nOur opportunity is defined by the durable megatrends of data-driven digital and cloud transformations. NetApp helps organizations meet the complexities created by rapid data and cloud growth, multi-cloud management, and the adoption of next-generation technologies, such as AI, Kubernetes, and modern databases. Our modern approach to hybrid, multicloud infrastructure and data management, which we term ‘evolved cloud’, provides customers the ability to leverage data across their entire estate with simplicity, security, and sustainability which increases our relevance and value to our customers.\\n\\n\\nIn an evolved cloud state, the cloud is fully integrated into an organization’s architecture and operations. Data centers and clouds are seamlessly united and hybrid multicloud operations are simplified, with consistency and observability across environments. The key benefits NetApp brings to an organization’s hybrid multicloud environment are:\\n\\n\\n•\\nOperational simplicity: NetApp’s use of open source, open architectures and APIs, microservices, and common capabilities and data services facilitate the creation of applications that can run anywhere.\\n\\n\\n•\\nFlexibility and consistency: NetApp makes moving data and applications between environments seamless through a common storage foundation across on-premises and multicloud environments.',\n",
              "   'chunkId': '0000950170-23-027948-item1-chunk0000',\n",
              "   'chunkSeqId': 0}}]"
            ]
          },
          "metadata": {},
          "execution_count": 63
        }
      ],
      "source": [
        "kg.query(merge_chunk_node_query,\n",
        "         params={'chunkParam':first_file_chunks[0]})"
      ]
    },
    {
      "cell_type": "markdown",
      "metadata": {
        "id": "4b368dd5-6e50-46db-b500-29993895631e"
      },
      "source": [
        "- Create a uniqueness constraint to avoid duplicate chunks"
      ]
    },
    {
      "cell_type": "code",
      "execution_count": 64,
      "metadata": {
        "height": 98,
        "id": "f8269f83-eb19-4a3f-979c-8b41b1e9f750",
        "colab": {
          "base_uri": "https://localhost:8080/",
          "height": 0
        },
        "outputId": "ad72b247-2254-415b-c9b1-a6c0754b5cc9"
      },
      "outputs": [
        {
          "output_type": "execute_result",
          "data": {
            "text/plain": [
              "[]"
            ]
          },
          "metadata": {},
          "execution_count": 64
        }
      ],
      "source": [
        "kg.query(\"\"\"\n",
        "CREATE CONSTRAINT unique_chunk IF NOT EXISTS\n",
        "    FOR (c:Chunk) REQUIRE c.chunkId IS UNIQUE\n",
        "\"\"\")\n"
      ]
    },
    {
      "cell_type": "code",
      "execution_count": 65,
      "metadata": {
        "height": 30,
        "id": "4e207e5f-eb17-452c-9c65-4846d3bbf840",
        "colab": {
          "base_uri": "https://localhost:8080/",
          "height": 0
        },
        "outputId": "f15f6b67-8d4e-481c-ed28-367122f6a014"
      },
      "outputs": [
        {
          "output_type": "execute_result",
          "data": {
            "text/plain": [
              "[{'id': 8,\n",
              "  'name': '__org_neo4j_schema_index_label_scan_store_converted_to_token_index',\n",
              "  'state': 'ONLINE',\n",
              "  'populationPercent': 100.0,\n",
              "  'type': 'LOOKUP',\n",
              "  'entityType': 'NODE',\n",
              "  'labelsOrTypes': None,\n",
              "  'properties': None,\n",
              "  'indexProvider': 'token-lookup-1.0',\n",
              "  'owningConstraint': None,\n",
              "  'lastRead': neo4j.time.DateTime(2025, 7, 10, 0, 7, 51, 731000000, tzinfo=<UTC>),\n",
              "  'readCount': 97},\n",
              " {'id': 9,\n",
              "  'name': 'constraint_3044d997',\n",
              "  'state': 'ONLINE',\n",
              "  'populationPercent': 100.0,\n",
              "  'type': 'RANGE',\n",
              "  'entityType': 'NODE',\n",
              "  'labelsOrTypes': ['Movie'],\n",
              "  'properties': ['title'],\n",
              "  'indexProvider': 'range-1.0',\n",
              "  'owningConstraint': 'constraint_3044d997',\n",
              "  'lastRead': neo4j.time.DateTime(2025, 7, 10, 0, 4, 19, 757000000, tzinfo=<UTC>),\n",
              "  'readCount': 22},\n",
              " {'id': 7,\n",
              "  'name': 'constraint_e26b1a8b',\n",
              "  'state': 'ONLINE',\n",
              "  'populationPercent': 100.0,\n",
              "  'type': 'RANGE',\n",
              "  'entityType': 'NODE',\n",
              "  'labelsOrTypes': ['Person'],\n",
              "  'properties': ['name'],\n",
              "  'indexProvider': 'range-1.0',\n",
              "  'owningConstraint': 'constraint_e26b1a8b',\n",
              "  'lastRead': neo4j.time.DateTime(2025, 7, 10, 0, 4, 20, 218000000, tzinfo=<UTC>),\n",
              "  'readCount': 60},\n",
              " {'id': 4,\n",
              "  'name': 'form_10k_chunks',\n",
              "  'state': 'ONLINE',\n",
              "  'populationPercent': 100.0,\n",
              "  'type': 'VECTOR',\n",
              "  'entityType': 'NODE',\n",
              "  'labelsOrTypes': ['Chunk'],\n",
              "  'properties': ['textEmbedding'],\n",
              "  'indexProvider': 'vector-2.0',\n",
              "  'owningConstraint': None,\n",
              "  'lastRead': neo4j.time.DateTime(2025, 7, 9, 10, 34, 58, 984000000, tzinfo=<UTC>),\n",
              "  'readCount': 11},\n",
              " {'id': 10,\n",
              "  'name': 'index_1d2d0abd',\n",
              "  'state': 'ONLINE',\n",
              "  'populationPercent': 100.0,\n",
              "  'type': 'RANGE',\n",
              "  'entityType': 'NODE',\n",
              "  'labelsOrTypes': ['Person'],\n",
              "  'properties': ['born'],\n",
              "  'indexProvider': 'range-1.0',\n",
              "  'owningConstraint': None,\n",
              "  'lastRead': None,\n",
              "  'readCount': 0},\n",
              " {'id': 11,\n",
              "  'name': 'index_58c92700',\n",
              "  'state': 'ONLINE',\n",
              "  'populationPercent': 100.0,\n",
              "  'type': 'RANGE',\n",
              "  'entityType': 'NODE',\n",
              "  'labelsOrTypes': ['Movie'],\n",
              "  'properties': ['released'],\n",
              "  'indexProvider': 'range-1.0',\n",
              "  'owningConstraint': None,\n",
              "  'lastRead': neo4j.time.DateTime(2025, 7, 10, 0, 4, 19, 808000000, tzinfo=<UTC>),\n",
              "  'readCount': 6},\n",
              " {'id': 1,\n",
              "  'name': 'movie_tagline_embeddings',\n",
              "  'state': 'ONLINE',\n",
              "  'populationPercent': 100.0,\n",
              "  'type': 'VECTOR',\n",
              "  'entityType': 'NODE',\n",
              "  'labelsOrTypes': ['Movie'],\n",
              "  'properties': ['taglineEmbedding'],\n",
              "  'indexProvider': 'vector-2.0',\n",
              "  'owningConstraint': None,\n",
              "  'lastRead': neo4j.time.DateTime(2025, 7, 10, 0, 4, 29, 73000000, tzinfo=<UTC>),\n",
              "  'readCount': 14},\n",
              " {'id': 2,\n",
              "  'name': 'unique_chunk',\n",
              "  'state': 'ONLINE',\n",
              "  'populationPercent': 100.0,\n",
              "  'type': 'RANGE',\n",
              "  'entityType': 'NODE',\n",
              "  'labelsOrTypes': ['Chunk'],\n",
              "  'properties': ['chunkId'],\n",
              "  'indexProvider': 'range-1.0',\n",
              "  'owningConstraint': 'unique_chunk',\n",
              "  'lastRead': neo4j.time.DateTime(2025, 7, 10, 0, 7, 54, 88000000, tzinfo=<UTC>),\n",
              "  'readCount': 16}]"
            ]
          },
          "metadata": {},
          "execution_count": 65
        }
      ],
      "source": [
        "kg.query(\"SHOW INDEXES\")"
      ]
    },
    {
      "cell_type": "markdown",
      "metadata": {
        "id": "1b5c465e-c43f-422d-a3a1-17705a1019d5"
      },
      "source": [
        "- Loop through and create nodes for all chunks\n",
        "- Should create 23 nodes because you set a limit of 20 chunks in the text splitting function above"
      ]
    },
    {
      "cell_type": "code",
      "execution_count": 66,
      "metadata": {
        "height": 166,
        "id": "e0e4f598-a6b8-419f-b247-4eecd1f3d98a",
        "colab": {
          "base_uri": "https://localhost:8080/",
          "height": 0
        },
        "outputId": "c4b3fb6e-ef95-4ca7-842e-978f690000ee"
      },
      "outputs": [
        {
          "output_type": "stream",
          "name": "stdout",
          "text": [
            "Creating `:Chunk` node for chunk ID 0000950170-23-027948-item1-chunk0000\n",
            "Creating `:Chunk` node for chunk ID 0000950170-23-027948-item1-chunk0001\n",
            "Creating `:Chunk` node for chunk ID 0000950170-23-027948-item1-chunk0002\n",
            "Creating `:Chunk` node for chunk ID 0000950170-23-027948-item1-chunk0003\n",
            "Creating `:Chunk` node for chunk ID 0000950170-23-027948-item1-chunk0004\n",
            "Creating `:Chunk` node for chunk ID 0000950170-23-027948-item1-chunk0005\n",
            "Creating `:Chunk` node for chunk ID 0000950170-23-027948-item1-chunk0006\n",
            "Creating `:Chunk` node for chunk ID 0000950170-23-027948-item1-chunk0007\n",
            "Creating `:Chunk` node for chunk ID 0000950170-23-027948-item1-chunk0008\n",
            "Creating `:Chunk` node for chunk ID 0000950170-23-027948-item1-chunk0009\n",
            "Creating `:Chunk` node for chunk ID 0000950170-23-027948-item1-chunk0010\n",
            "Creating `:Chunk` node for chunk ID 0000950170-23-027948-item1-chunk0011\n",
            "Creating `:Chunk` node for chunk ID 0000950170-23-027948-item1-chunk0012\n",
            "Creating `:Chunk` node for chunk ID 0000950170-23-027948-item1-chunk0013\n",
            "Creating `:Chunk` node for chunk ID 0000950170-23-027948-item1-chunk0014\n",
            "Creating `:Chunk` node for chunk ID 0000950170-23-027948-item1-chunk0015\n",
            "Creating `:Chunk` node for chunk ID 0000950170-23-027948-item1-chunk0016\n",
            "Creating `:Chunk` node for chunk ID 0000950170-23-027948-item1-chunk0017\n",
            "Creating `:Chunk` node for chunk ID 0000950170-23-027948-item1-chunk0018\n",
            "Creating `:Chunk` node for chunk ID 0000950170-23-027948-item1-chunk0019\n",
            "Creating `:Chunk` node for chunk ID 0000950170-23-027948-item1a-chunk0000\n",
            "Creating `:Chunk` node for chunk ID 0000950170-23-027948-item7-chunk0000\n",
            "Creating `:Chunk` node for chunk ID 0000950170-23-027948-item7a-chunk0000\n",
            "Created 23 nodes\n"
          ]
        }
      ],
      "source": [
        "node_count = 0\n",
        "for chunk in first_file_chunks:\n",
        "    print(f\"Creating `:Chunk` node for chunk ID {chunk['chunkId']}\")\n",
        "    kg.query(merge_chunk_node_query,\n",
        "            params={\n",
        "                'chunkParam': chunk\n",
        "            })\n",
        "    node_count += 1\n",
        "print(f\"Created {node_count} nodes\")"
      ]
    },
    {
      "cell_type": "code",
      "execution_count": 67,
      "metadata": {
        "height": 81,
        "id": "5d820104-51be-4709-b531-2bdc9b6d5eec",
        "colab": {
          "base_uri": "https://localhost:8080/",
          "height": 0
        },
        "outputId": "c7dda610-e372-41c7-9d6d-b0dc66bd2aba"
      },
      "outputs": [
        {
          "output_type": "execute_result",
          "data": {
            "text/plain": [
              "[{'nodeCount': 200}]"
            ]
          },
          "metadata": {},
          "execution_count": 67
        }
      ],
      "source": [
        "kg.query(\"\"\"\n",
        "         MATCH (n)\n",
        "         RETURN count(n) as nodeCount\n",
        "         \"\"\")"
      ]
    },
    {
      "cell_type": "markdown",
      "metadata": {
        "id": "c46b6bfa-9e07-4963-9b3f-50cdba4468bc"
      },
      "source": [
        "### Create a vector index"
      ]
    },
    {
      "cell_type": "code",
      "execution_count": 68,
      "metadata": {
        "height": 149,
        "id": "79355493-3790-4b05-898b-a3eaaea87155",
        "colab": {
          "base_uri": "https://localhost:8080/",
          "height": 0
        },
        "outputId": "52653eea-ea97-4548-8396-100794dd056e"
      },
      "outputs": [
        {
          "output_type": "execute_result",
          "data": {
            "text/plain": [
              "[]"
            ]
          },
          "metadata": {},
          "execution_count": 68
        }
      ],
      "source": [
        "kg.query(\"\"\"\n",
        "         CREATE VECTOR INDEX `form_10k_chunks` IF NOT EXISTS\n",
        "          FOR (c:Chunk) ON (c.textEmbedding)\n",
        "          OPTIONS { indexConfig: {\n",
        "            `vector.dimensions`: 1536,\n",
        "            `vector.similarity_function`: 'cosine'\n",
        "         }}\n",
        "\"\"\")"
      ]
    },
    {
      "cell_type": "code",
      "execution_count": 69,
      "metadata": {
        "height": 30,
        "id": "507b42c0-a90c-4f97-8c8a-b8a4ec70f9d1",
        "colab": {
          "base_uri": "https://localhost:8080/",
          "height": 0
        },
        "outputId": "51e61f81-01b8-45ca-ed6b-281197603ed5"
      },
      "outputs": [
        {
          "output_type": "execute_result",
          "data": {
            "text/plain": [
              "[{'id': 8,\n",
              "  'name': '__org_neo4j_schema_index_label_scan_store_converted_to_token_index',\n",
              "  'state': 'ONLINE',\n",
              "  'populationPercent': 100.0,\n",
              "  'type': 'LOOKUP',\n",
              "  'entityType': 'NODE',\n",
              "  'labelsOrTypes': None,\n",
              "  'properties': None,\n",
              "  'indexProvider': 'token-lookup-1.0',\n",
              "  'owningConstraint': None,\n",
              "  'lastRead': neo4j.time.DateTime(2025, 7, 10, 0, 7, 51, 731000000, tzinfo=<UTC>),\n",
              "  'readCount': 97},\n",
              " {'id': 9,\n",
              "  'name': 'constraint_3044d997',\n",
              "  'state': 'ONLINE',\n",
              "  'populationPercent': 100.0,\n",
              "  'type': 'RANGE',\n",
              "  'entityType': 'NODE',\n",
              "  'labelsOrTypes': ['Movie'],\n",
              "  'properties': ['title'],\n",
              "  'indexProvider': 'range-1.0',\n",
              "  'owningConstraint': 'constraint_3044d997',\n",
              "  'lastRead': neo4j.time.DateTime(2025, 7, 10, 0, 4, 19, 757000000, tzinfo=<UTC>),\n",
              "  'readCount': 22},\n",
              " {'id': 7,\n",
              "  'name': 'constraint_e26b1a8b',\n",
              "  'state': 'ONLINE',\n",
              "  'populationPercent': 100.0,\n",
              "  'type': 'RANGE',\n",
              "  'entityType': 'NODE',\n",
              "  'labelsOrTypes': ['Person'],\n",
              "  'properties': ['name'],\n",
              "  'indexProvider': 'range-1.0',\n",
              "  'owningConstraint': 'constraint_e26b1a8b',\n",
              "  'lastRead': neo4j.time.DateTime(2025, 7, 10, 0, 4, 20, 218000000, tzinfo=<UTC>),\n",
              "  'readCount': 60},\n",
              " {'id': 4,\n",
              "  'name': 'form_10k_chunks',\n",
              "  'state': 'ONLINE',\n",
              "  'populationPercent': 100.0,\n",
              "  'type': 'VECTOR',\n",
              "  'entityType': 'NODE',\n",
              "  'labelsOrTypes': ['Chunk'],\n",
              "  'properties': ['textEmbedding'],\n",
              "  'indexProvider': 'vector-2.0',\n",
              "  'owningConstraint': None,\n",
              "  'lastRead': neo4j.time.DateTime(2025, 7, 9, 10, 34, 58, 984000000, tzinfo=<UTC>),\n",
              "  'readCount': 11},\n",
              " {'id': 10,\n",
              "  'name': 'index_1d2d0abd',\n",
              "  'state': 'ONLINE',\n",
              "  'populationPercent': 100.0,\n",
              "  'type': 'RANGE',\n",
              "  'entityType': 'NODE',\n",
              "  'labelsOrTypes': ['Person'],\n",
              "  'properties': ['born'],\n",
              "  'indexProvider': 'range-1.0',\n",
              "  'owningConstraint': None,\n",
              "  'lastRead': None,\n",
              "  'readCount': 0},\n",
              " {'id': 11,\n",
              "  'name': 'index_58c92700',\n",
              "  'state': 'ONLINE',\n",
              "  'populationPercent': 100.0,\n",
              "  'type': 'RANGE',\n",
              "  'entityType': 'NODE',\n",
              "  'labelsOrTypes': ['Movie'],\n",
              "  'properties': ['released'],\n",
              "  'indexProvider': 'range-1.0',\n",
              "  'owningConstraint': None,\n",
              "  'lastRead': neo4j.time.DateTime(2025, 7, 10, 0, 4, 19, 808000000, tzinfo=<UTC>),\n",
              "  'readCount': 6},\n",
              " {'id': 1,\n",
              "  'name': 'movie_tagline_embeddings',\n",
              "  'state': 'ONLINE',\n",
              "  'populationPercent': 100.0,\n",
              "  'type': 'VECTOR',\n",
              "  'entityType': 'NODE',\n",
              "  'labelsOrTypes': ['Movie'],\n",
              "  'properties': ['taglineEmbedding'],\n",
              "  'indexProvider': 'vector-2.0',\n",
              "  'owningConstraint': None,\n",
              "  'lastRead': neo4j.time.DateTime(2025, 7, 10, 0, 4, 29, 73000000, tzinfo=<UTC>),\n",
              "  'readCount': 14},\n",
              " {'id': 2,\n",
              "  'name': 'unique_chunk',\n",
              "  'state': 'ONLINE',\n",
              "  'populationPercent': 100.0,\n",
              "  'type': 'RANGE',\n",
              "  'entityType': 'NODE',\n",
              "  'labelsOrTypes': ['Chunk'],\n",
              "  'properties': ['chunkId'],\n",
              "  'indexProvider': 'range-1.0',\n",
              "  'owningConstraint': 'unique_chunk',\n",
              "  'lastRead': neo4j.time.DateTime(2025, 7, 10, 0, 8, 4, 325000000, tzinfo=<UTC>),\n",
              "  'readCount': 83}]"
            ]
          },
          "metadata": {},
          "execution_count": 69
        }
      ],
      "source": [
        "kg.query(\"SHOW INDEXES\")"
      ]
    },
    {
      "cell_type": "markdown",
      "metadata": {
        "id": "2b9e379f-69d1-41de-8443-c6f5660603ab"
      },
      "source": [
        "### Calculate embedding vectors for chunks and populate index\n",
        "- This query calculates the embedding vector and stores it as a property called `textEmbedding` on each `Chunk` node."
      ]
    },
    {
      "cell_type": "code",
      "execution_count": 70,
      "metadata": {
        "height": 217,
        "id": "43f2d4f2-ea0b-4731-8b29-a858e05f5b36",
        "colab": {
          "base_uri": "https://localhost:8080/",
          "height": 0
        },
        "outputId": "5099ee8f-9c2d-4daf-8f66-816088970a93"
      },
      "outputs": [
        {
          "output_type": "execute_result",
          "data": {
            "text/plain": [
              "[]"
            ]
          },
          "metadata": {},
          "execution_count": 70
        }
      ],
      "source": [
        "kg.query(\"\"\"\n",
        "    MATCH (chunk:Chunk) WHERE chunk.textEmbedding IS NULL\n",
        "    WITH chunk, genai.vector.encode(\n",
        "      chunk.text,\n",
        "      \"OpenAI\",\n",
        "      {\n",
        "        token: $openAiApiKey,\n",
        "        endpoint: $openAiEndpoint\n",
        "      }) AS vector\n",
        "    CALL db.create.setNodeVectorProperty(chunk, \"textEmbedding\", vector)\n",
        "    \"\"\",\n",
        "    params={\"openAiApiKey\":OPENAI_API_KEY, \"openAiEndpoint\": OPENAI_ENDPOINT} )"
      ]
    },
    {
      "cell_type": "code",
      "execution_count": 71,
      "metadata": {
        "height": 47,
        "id": "59550c1c-5d7f-4e87-b5fc-ae7a4edb3731",
        "colab": {
          "base_uri": "https://localhost:8080/",
          "height": 0
        },
        "outputId": "542a1533-028b-4b9f-fbb2-aad3e5e0e6bc"
      },
      "outputs": [
        {
          "output_type": "stream",
          "name": "stdout",
          "text": [
            "Node properties:\n",
            "Person {name: STRING, born: INTEGER}\n",
            "Movie {tagline: STRING, title: STRING, released: INTEGER, taglineEmbedding: LIST}\n",
            "Chunk {text: STRING, f10kItem: STRING, chunkSeqId: INTEGER, textEmbedding: LIST, cik: STRING, source: STRING, formId: STRING, cusip6: STRING, chunkId: STRING, names: STRING}\n",
            "Form {cik: STRING, source: STRING, formId: STRING, names: STRING, cusip6: STRING}\n",
            "Relationship properties:\n",
            "ACTED_IN {roles: LIST}\n",
            "REVIEWED {summary: STRING, rating: INTEGER}\n",
            "SECTION {f10kItem: STRING}\n",
            "The relationships:\n",
            "(:Person)-[:ACTED_IN]->(:Movie)\n",
            "(:Person)-[:DIRECTED]->(:Movie)\n",
            "(:Person)-[:PRODUCED]->(:Movie)\n",
            "(:Person)-[:WROTE]->(:Movie)\n",
            "(:Person)-[:FOLLOWS]->(:Person)\n",
            "(:Person)-[:REVIEWED]->(:Movie)\n",
            "(:Person)-[:WORKS_WITH]->(:Person)\n",
            "(:Chunk)-[:PART_OF]->(:Form)\n",
            "(:Form)-[:SECTION]->(:Chunk)\n"
          ]
        }
      ],
      "source": [
        "kg.refresh_schema()\n",
        "print(kg.schema)"
      ]
    },
    {
      "cell_type": "markdown",
      "metadata": {
        "id": "4d5286ca-106c-49ec-8f60-f142db8bb680"
      },
      "source": [
        "### Use similarity search to find relevant chunks"
      ]
    },
    {
      "cell_type": "markdown",
      "metadata": {
        "id": "a3ab0d7b-7be2-4a2b-8b2c-2ea8a35350bd"
      },
      "source": [
        "- Setup a help function to perform similarity search using the vector index"
      ]
    },
    {
      "cell_type": "code",
      "execution_count": 72,
      "metadata": {
        "height": 251,
        "id": "50153721-d565-47ac-b288-d8b9798d9479"
      },
      "outputs": [],
      "source": [
        "def neo4j_vector_search(question):\n",
        "  \"\"\"Search for similar nodes using the Neo4j vector index\"\"\"\n",
        "  vector_search_query = \"\"\"\n",
        "    WITH genai.vector.encode(\n",
        "      $question,\n",
        "      \"OpenAI\",\n",
        "      {\n",
        "        token: $openAiApiKey,\n",
        "        endpoint: $openAiEndpoint\n",
        "      }) AS question_embedding\n",
        "    CALL db.index.vector.queryNodes($index_name, $top_k, question_embedding) yield node, score\n",
        "    RETURN score, node.text AS text\n",
        "  \"\"\"\n",
        "  similar = kg.query(vector_search_query,\n",
        "                     params={\n",
        "                      'question': question,\n",
        "                      'openAiApiKey':OPENAI_API_KEY,\n",
        "                      'openAiEndpoint': OPENAI_ENDPOINT,\n",
        "                      'index_name':VECTOR_INDEX_NAME,\n",
        "                      'top_k': 10})\n",
        "  return similar"
      ]
    },
    {
      "cell_type": "markdown",
      "metadata": {
        "id": "aba0f292-59e8-432c-b521-2a77613b08c6"
      },
      "source": [
        "- Ask a question!"
      ]
    },
    {
      "cell_type": "code",
      "execution_count": 73,
      "metadata": {
        "height": 64,
        "id": "6ae9975a-d26f-4477-92ac-8dcfb3119c47"
      },
      "outputs": [],
      "source": [
        "search_results = neo4j_vector_search(\n",
        "    'In a single sentence, tell me about Netapp.'\n",
        ")"
      ]
    },
    {
      "cell_type": "code",
      "execution_count": 74,
      "metadata": {
        "height": 30,
        "id": "a2370fb5-9990-42e3-9ac2-0edf03969705",
        "colab": {
          "base_uri": "https://localhost:8080/",
          "height": 0
        },
        "outputId": "a253842a-8ede-4fcb-c776-58b307faff0d"
      },
      "outputs": [
        {
          "output_type": "execute_result",
          "data": {
            "text/plain": [
              "{'score': 0.930999755859375,\n",
              " 'text': '>Item 1.  \\nBusiness\\n\\n\\nOverview\\n\\n\\nNetApp, Inc. (NetApp, we, us or the Company) is a global cloud-led, data-centric software company. We were incorporated in 1992 and are headquartered in San Jose, California. Building on more than three decades of innovation, we give customers the freedom to manage applications and data across hybrid multicloud environments. Our portfolio of cloud services, and storage infrastructure, powered by intelligent data management software, enables applications to run faster, more reliably, and more securely, all at a lower cost.\\n\\n\\nOur opportunity is defined by the durable megatrends of data-driven digital and cloud transformations. NetApp helps organizations meet the complexities created by rapid data and cloud growth, multi-cloud management, and the adoption of next-generation technologies, such as AI, Kubernetes, and modern databases. Our modern approach to hybrid, multicloud infrastructure and data management, which we term ‘evolved cloud’, provides customers the ability to leverage data across their entire estate with simplicity, security, and sustainability which increases our relevance and value to our customers.\\n\\n\\nIn an evolved cloud state, the cloud is fully integrated into an organization’s architecture and operations. Data centers and clouds are seamlessly united and hybrid multicloud operations are simplified, with consistency and observability across environments. The key benefits NetApp brings to an organization’s hybrid multicloud environment are:\\n\\n\\n•\\nOperational simplicity: NetApp’s use of open source, open architectures and APIs, microservices, and common capabilities and data services facilitate the creation of applications that can run anywhere.\\n\\n\\n•\\nFlexibility and consistency: NetApp makes moving data and applications between environments seamless through a common storage foundation across on-premises and multicloud environments.'}"
            ]
          },
          "metadata": {},
          "execution_count": 74
        }
      ],
      "source": [
        "search_results[0]"
      ]
    },
    {
      "cell_type": "markdown",
      "metadata": {
        "id": "5777c9ea-ca26-4690-8487-6aec06db1d4c"
      },
      "source": [
        "### Set up a LangChain RAG workflow to chat with the form"
      ]
    },
    {
      "cell_type": "code",
      "execution_count": 75,
      "metadata": {
        "height": 200,
        "id": "17cdab04-4db1-4776-bd89-f4f87b57bde4"
      },
      "outputs": [],
      "source": [
        "neo4j_vector_store = Neo4jVector.from_existing_graph(\n",
        "    embedding=OpenAIEmbeddings(),\n",
        "    url=NEO4J_URI,\n",
        "    username=NEO4J_USERNAME,\n",
        "    password=NEO4J_PASSWORD,\n",
        "    index_name=VECTOR_INDEX_NAME,\n",
        "    node_label=VECTOR_NODE_LABEL,\n",
        "    text_node_properties=[VECTOR_SOURCE_PROPERTY],\n",
        "    embedding_node_property=VECTOR_EMBEDDING_PROPERTY,\n",
        ")\n"
      ]
    },
    {
      "cell_type": "code",
      "execution_count": 76,
      "metadata": {
        "height": 30,
        "id": "2a7abbd6-bf4e-4fc3-9c20-c4246ed3ec4e"
      },
      "outputs": [],
      "source": [
        "retriever = neo4j_vector_store.as_retriever()"
      ]
    },
    {
      "cell_type": "markdown",
      "metadata": {
        "id": "7b38dd23-fa0f-4304-849a-80043e34a1e7"
      },
      "source": [
        "- Set up a RetrievalQAWithSourcesChain to carry out question answering\n",
        "- You can check out the LangChain documentation for this chain [here](https://api.python.langchain.com/en/latest/chains/langchain.chains.qa_with_sources.retrieval.RetrievalQAWithSourcesChain.html)"
      ]
    },
    {
      "cell_type": "code",
      "execution_count": 77,
      "metadata": {
        "height": 98,
        "id": "47b45848-112f-4e4f-9c76-cf2bda9c6f8e"
      },
      "outputs": [],
      "source": [
        "chain = RetrievalQAWithSourcesChain.from_chain_type(\n",
        "    ChatOpenAI(temperature=0),\n",
        "    chain_type=\"stuff\",\n",
        "    retriever=retriever\n",
        ")"
      ]
    },
    {
      "cell_type": "code",
      "execution_count": 78,
      "metadata": {
        "height": 98,
        "id": "a5aee157-c777-4c9a-949b-c55005d19c41"
      },
      "outputs": [],
      "source": [
        "def prettychain(question: str) -> str:\n",
        "    \"\"\"Pretty print the chain's response to a question\"\"\"\n",
        "    response = chain({\"question\": question},\n",
        "        return_only_outputs=True,)\n",
        "    print(textwrap.fill(response['answer'], 60))"
      ]
    },
    {
      "cell_type": "markdown",
      "metadata": {
        "id": "cbb96301-66a2-47e9-87a7-13d926f85019"
      },
      "source": [
        "- Ask a question!"
      ]
    },
    {
      "cell_type": "code",
      "execution_count": 79,
      "metadata": {
        "height": 30,
        "id": "1b234d29-7fc0-483f-bbfa-459617be96c1"
      },
      "outputs": [],
      "source": [
        "question = \"What is Netapp's primary business?\""
      ]
    },
    {
      "cell_type": "code",
      "execution_count": 80,
      "metadata": {
        "height": 30,
        "id": "2a2228aa-2af0-44cd-99b0-bffdc72de62b",
        "colab": {
          "base_uri": "https://localhost:8080/",
          "height": 0
        },
        "outputId": "8f7149e7-80b7-4b3a-8966-06b0efb746cb"
      },
      "outputs": [
        {
          "output_type": "stream",
          "name": "stdout",
          "text": [
            "NetApp's primary business is enterprise storage and data\n",
            "management, cloud storage, and cloud operations.\n"
          ]
        }
      ],
      "source": [
        "prettychain(question)"
      ]
    },
    {
      "cell_type": "code",
      "execution_count": 81,
      "metadata": {
        "height": 30,
        "id": "e2fa5b5b-5ec6-4903-bb53-acf8bd5f49c3",
        "colab": {
          "base_uri": "https://localhost:8080/",
          "height": 0
        },
        "outputId": "4b90512d-ce30-4dea-a297-6269931205e3"
      },
      "outputs": [
        {
          "output_type": "stream",
          "name": "stdout",
          "text": [
            "Netapp is headquartered in San Jose, California.\n"
          ]
        }
      ],
      "source": [
        "prettychain(\"Where is Netapp headquartered?\")"
      ]
    },
    {
      "cell_type": "code",
      "execution_count": 82,
      "metadata": {
        "height": 81,
        "id": "758bdd8e-90ca-4267-aef2-db33b28937b6",
        "colab": {
          "base_uri": "https://localhost:8080/",
          "height": 0
        },
        "outputId": "ea3ab0cc-c0a3-4585-f40c-4ec60406a8e4"
      },
      "outputs": [
        {
          "output_type": "stream",
          "name": "stdout",
          "text": [
            "NetApp is a global cloud-led, data-centric software company\n",
            "that provides customers with the freedom to manage\n",
            "applications and data across hybrid multicloud environments.\n"
          ]
        }
      ],
      "source": [
        "prettychain(\"\"\"\n",
        "    Tell me about Netapp.\n",
        "    Limit your answer to a single sentence.\n",
        "\"\"\")"
      ]
    },
    {
      "cell_type": "code",
      "execution_count": 83,
      "metadata": {
        "height": 81,
        "id": "10715705-25a7-4c21-88e2-bc540c72dacb",
        "colab": {
          "base_uri": "https://localhost:8080/",
          "height": 0
        },
        "outputId": "dd1f22b0-a34c-4af8-ff8c-08dc27878a55"
      },
      "outputs": [
        {
          "output_type": "stream",
          "name": "stdout",
          "text": [
            "Apple is a global cloud-led, data-centric software company\n",
            "headquartered in San Jose, California.\n"
          ]
        }
      ],
      "source": [
        "prettychain(\"\"\"\n",
        "    Tell me about Apple.\n",
        "    Limit your answer to a single sentence.\n",
        "\"\"\")"
      ]
    },
    {
      "cell_type": "code",
      "execution_count": 85,
      "metadata": {
        "height": 98,
        "id": "53300764-c93b-4127-9bbd-9e17428d066c",
        "colab": {
          "base_uri": "https://localhost:8080/",
          "height": 0
        },
        "outputId": "6ca2c5d8-71a2-479b-fa46-a12af6d6b8ea"
      },
      "outputs": [
        {
          "output_type": "stream",
          "name": "stdout",
          "text": [
            "I don't know.\n"
          ]
        }
      ],
      "source": [
        "prettychain(\"\"\"\n",
        "    Tell me about Apple.\n",
        "    Limit your answer to a single sentence.\n",
        "    If you are unsure about the answer, say you don't know.\n",
        "\"\"\")"
      ]
    },
    {
      "cell_type": "markdown",
      "metadata": {
        "id": "c1ab2124-77c4-496b-b951-44c9466fe941"
      },
      "source": [
        "### Ask you own question!\n",
        "- Add your own question to the call to prettychain below to find out more about NetApp\n",
        "- Here is NetApp's website if you want some inspiration: https://www.netapp.com/"
      ]
    },
    {
      "cell_type": "code",
      "execution_count": null,
      "metadata": {
        "height": 64,
        "id": "f238eaec-7080-4e45-80f0-5b37e2340387"
      },
      "outputs": [],
      "source": [
        "prettychain(\"\"\"\n",
        "    ADD YOUR OWN QUESTION HERE\n",
        "\"\"\")"
      ]
    },
    {
      "cell_type": "markdown",
      "metadata": {
        "id": "d43c9cdc-530d-40df-b9f0-adf02c00c948"
      },
      "source": [
        "# Adding Relationships to the SEC Knowledge Graph"
      ]
    },
    {
      "cell_type": "markdown",
      "metadata": {
        "id": "c8d5a277-ce22-4199-a3dc-4820a897a9f5"
      },
      "source": [
        "<p style=\"background-color:#fd4a6180; padding:15px; margin-left:20px\"> <b>Note:</b> This notebook takes about 30 seconds to be ready to use. Please wait until the \"Kernel starting, please wait...\" message clears from the top of the notebook before running any cells. You may start the video while you wait.</p>"
      ]
    },
    {
      "cell_type": "markdown",
      "metadata": {
        "id": "1e7f7ac8-5131-4e20-bd93-d727b747bfd8"
      },
      "source": [
        "### Import packages and set up Neo4j"
      ]
    },
    {
      "cell_type": "code",
      "execution_count": 86,
      "metadata": {
        "height": 302,
        "id": "9c1eab9e-cdbe-4625-8f71-8d13b760e513"
      },
      "outputs": [],
      "source": [
        "from dotenv import load_dotenv\n",
        "import os\n",
        "\n",
        "# Common data processing\n",
        "import textwrap\n",
        "\n",
        "# Langchain\n",
        "from langchain_community.graphs import Neo4jGraph\n",
        "from langchain_community.vectorstores import Neo4jVector\n",
        "from langchain.text_splitter import RecursiveCharacterTextSplitter\n",
        "from langchain.chains import RetrievalQAWithSourcesChain\n",
        "from langchain_openai import ChatOpenAI\n",
        "from langchain_openai import OpenAIEmbeddings\n",
        "\n",
        "# Warning control\n",
        "import warnings\n",
        "warnings.filterwarnings(\"ignore\")"
      ]
    },
    {
      "cell_type": "code",
      "execution_count": 87,
      "metadata": {
        "height": 234,
        "id": "48baf0cd-e824-4d23-ab52-3c233eee21e0"
      },
      "outputs": [],
      "source": [
        "# Load from environment\n",
        "load_dotenv('.env', override=True)\n",
        "NEO4J_URI = os.getenv('NEO4J_URI')\n",
        "NEO4J_USERNAME = os.getenv('NEO4J_USERNAME')\n",
        "NEO4J_PASSWORD = os.getenv('NEO4J_PASSWORD')\n",
        "NEO4J_DATABASE = os.getenv('NEO4J_DATABASE') or 'neo4j'\n",
        "\n",
        "# Global constants\n",
        "VECTOR_INDEX_NAME = 'form_10k_chunks'\n",
        "VECTOR_NODE_LABEL = 'Chunk'\n",
        "VECTOR_SOURCE_PROPERTY = 'text'\n",
        "VECTOR_EMBEDDING_PROPERTY = 'textEmbedding'\n"
      ]
    },
    {
      "cell_type": "code",
      "execution_count": 88,
      "metadata": {
        "height": 64,
        "id": "a8dbc048-131c-422a-aeb7-78014a8e60e0"
      },
      "outputs": [],
      "source": [
        "kg = Neo4jGraph(\n",
        "    url=NEO4J_URI, username=NEO4J_USERNAME, password=NEO4J_PASSWORD, database=NEO4J_DATABASE\n",
        ")"
      ]
    },
    {
      "cell_type": "markdown",
      "metadata": {
        "id": "96614653-85cc-417c-8adc-a3eb9be063c4"
      },
      "source": [
        "### Create a Form 10-K node\n",
        "- Create a node to represent the entire Form 10-K\n",
        "- Populate with metadata taken from a single chunk of the form"
      ]
    },
    {
      "cell_type": "code",
      "execution_count": 89,
      "metadata": {
        "height": 166,
        "id": "3a1776cd-f739-4c57-86f1-fd1a306b9a54",
        "colab": {
          "base_uri": "https://localhost:8080/",
          "height": 0
        },
        "outputId": "103372b1-3118-42ef-b79c-66a739d4871f"
      },
      "outputs": [
        {
          "output_type": "execute_result",
          "data": {
            "text/plain": [
              "[{'formInfo': {'cik': '0000000000',\n",
              "   'source': 'SEC filing',\n",
              "   'formId': 'grant_notice_extracted',\n",
              "   'names': 'PERFORMANCE UNIT AWARD',\n",
              "   'cusip6': '000000'}}]"
            ]
          },
          "metadata": {},
          "execution_count": 89
        }
      ],
      "source": [
        "cypher = \"\"\"\n",
        "  MATCH (anyChunk:Chunk)\n",
        "  WITH anyChunk LIMIT 1\n",
        "  RETURN anyChunk { .names, .source, .formId, .cik, .cusip6 } as formInfo\n",
        "\"\"\"\n",
        "form_info_list = kg.query(cypher)\n",
        "\n",
        "form_info_list\n"
      ]
    },
    {
      "cell_type": "code",
      "execution_count": 90,
      "metadata": {
        "height": 30,
        "id": "fdb73062-e4e7-44fe-a2f8-6701f2b0ce96"
      },
      "outputs": [],
      "source": [
        "form_info = form_info_list[0]['formInfo']"
      ]
    },
    {
      "cell_type": "code",
      "execution_count": 91,
      "metadata": {
        "height": 30,
        "id": "ec337f02-c1bc-4ea9-b1ea-775dad0287ba",
        "colab": {
          "base_uri": "https://localhost:8080/",
          "height": 0
        },
        "outputId": "ff101b7c-f080-49c4-d5d5-2f599a8ac402"
      },
      "outputs": [
        {
          "output_type": "execute_result",
          "data": {
            "text/plain": [
              "{'cik': '0000000000',\n",
              " 'source': 'SEC filing',\n",
              " 'formId': 'grant_notice_extracted',\n",
              " 'names': 'PERFORMANCE UNIT AWARD',\n",
              " 'cusip6': '000000'}"
            ]
          },
          "metadata": {},
          "execution_count": 91
        }
      ],
      "source": [
        "form_info"
      ]
    },
    {
      "cell_type": "code",
      "execution_count": 92,
      "metadata": {
        "height": 183,
        "id": "c137e5f0-a97c-4c47-afaf-097da3d78680",
        "colab": {
          "base_uri": "https://localhost:8080/",
          "height": 0
        },
        "outputId": "7fecae15-9d91-46ef-be05-2a94e710c32f"
      },
      "outputs": [
        {
          "output_type": "execute_result",
          "data": {
            "text/plain": [
              "[]"
            ]
          },
          "metadata": {},
          "execution_count": 92
        }
      ],
      "source": [
        "cypher = \"\"\"\n",
        "    MERGE (f:Form {formId: $formInfoParam.formId })\n",
        "      ON CREATE\n",
        "        SET f.names = $formInfoParam.names\n",
        "        SET f.source = $formInfoParam.source\n",
        "        SET f.cik = $formInfoParam.cik\n",
        "        SET f.cusip6 = $formInfoParam.cusip6\n",
        "\"\"\"\n",
        "\n",
        "kg.query(cypher, params={'formInfoParam': form_info})"
      ]
    },
    {
      "cell_type": "code",
      "execution_count": 93,
      "metadata": {
        "height": 30,
        "id": "d4891b00-ab1a-4c81-8593-612f53f53340",
        "colab": {
          "base_uri": "https://localhost:8080/",
          "height": 0
        },
        "outputId": "713b37d3-d106-4db1-d98f-29374bb80690"
      },
      "outputs": [
        {
          "output_type": "execute_result",
          "data": {
            "text/plain": [
              "[{'formCount': 1}]"
            ]
          },
          "metadata": {},
          "execution_count": 93
        }
      ],
      "source": [
        "kg.query(\"MATCH (f:Form) RETURN count(f) as formCount\")"
      ]
    },
    {
      "cell_type": "markdown",
      "metadata": {
        "id": "f834ad8a-6f42-4732-9b54-f710785b4131"
      },
      "source": [
        "### Create a linked list of Chunk nodes for each section\n",
        "- Start by identifying chunks from the same section"
      ]
    },
    {
      "cell_type": "code",
      "execution_count": 94,
      "metadata": {
        "height": 149,
        "id": "1c40e49c-83ac-4b11-af31-c921f81a7d50",
        "colab": {
          "base_uri": "https://localhost:8080/",
          "height": 0
        },
        "outputId": "67cf7bfd-f63a-499c-95b9-4b0c6b8532eb"
      },
      "outputs": [
        {
          "output_type": "execute_result",
          "data": {
            "text/plain": [
              "[{'chunkInfo': {'formId': 'grant_notice_extracted',\n",
              "   'f10kItem': 'Executive Name',\n",
              "   'chunkId': 'grant_notice_extracted-Executive Name-chunk0000',\n",
              "   'chunkSeqId': 0}},\n",
              " {'chunkInfo': {'formId': 'grant_notice_extracted',\n",
              "   'f10kItem': 'Grant Number',\n",
              "   'chunkId': 'grant_notice_extracted-Grant Number-chunk0000',\n",
              "   'chunkSeqId': 0}},\n",
              " {'chunkInfo': {'formId': 'grant_notice_extracted',\n",
              "   'f10kItem': 'Date of Grant',\n",
              "   'chunkId': 'grant_notice_extracted-Date of Grant-chunk0000',\n",
              "   'chunkSeqId': 0}},\n",
              " {'chunkInfo': {'formId': 'grant_notice_extracted',\n",
              "   'f10kItem': 'Vesting Date',\n",
              "   'chunkId': 'grant_notice_extracted-Vesting Date-chunk0000',\n",
              "   'chunkSeqId': 0}}]"
            ]
          },
          "metadata": {},
          "execution_count": 94
        }
      ],
      "source": [
        "cypher = \"\"\"\n",
        "  MATCH (from_same_form:Chunk)\n",
        "    WHERE from_same_form.formId = $formIdParam\n",
        "  RETURN from_same_form {.formId, .f10kItem, .chunkId, .chunkSeqId } as chunkInfo\n",
        "    LIMIT 10\n",
        "\"\"\"\n",
        "\n",
        "kg.query(cypher, params={'formIdParam': form_info['formId']})"
      ]
    },
    {
      "cell_type": "markdown",
      "metadata": {
        "id": "7b4ccd82-cdb0-4091-855e-4146ffdcb6a0"
      },
      "source": [
        "- Order chunks by their sequence ID"
      ]
    },
    {
      "cell_type": "code",
      "execution_count": 95,
      "metadata": {
        "height": 166,
        "id": "4593c853-8546-48ac-a1cc-e30a9498fb68",
        "colab": {
          "base_uri": "https://localhost:8080/",
          "height": 0
        },
        "outputId": "8a715b6d-7891-4a90-91ff-f9670e7c9cd9"
      },
      "outputs": [
        {
          "output_type": "execute_result",
          "data": {
            "text/plain": [
              "[{'chunkInfo': {'formId': 'grant_notice_extracted',\n",
              "   'f10kItem': 'Executive Name',\n",
              "   'chunkId': 'grant_notice_extracted-Executive Name-chunk0000',\n",
              "   'chunkSeqId': 0}},\n",
              " {'chunkInfo': {'formId': 'grant_notice_extracted',\n",
              "   'f10kItem': 'Grant Number',\n",
              "   'chunkId': 'grant_notice_extracted-Grant Number-chunk0000',\n",
              "   'chunkSeqId': 0}},\n",
              " {'chunkInfo': {'formId': 'grant_notice_extracted',\n",
              "   'f10kItem': 'Date of Grant',\n",
              "   'chunkId': 'grant_notice_extracted-Date of Grant-chunk0000',\n",
              "   'chunkSeqId': 0}},\n",
              " {'chunkInfo': {'formId': 'grant_notice_extracted',\n",
              "   'f10kItem': 'Vesting Date',\n",
              "   'chunkId': 'grant_notice_extracted-Vesting Date-chunk0000',\n",
              "   'chunkSeqId': 0}}]"
            ]
          },
          "metadata": {},
          "execution_count": 95
        }
      ],
      "source": [
        "cypher = \"\"\"\n",
        "  MATCH (from_same_form:Chunk)\n",
        "    WHERE from_same_form.formId = $formIdParam\n",
        "  RETURN from_same_form {.formId, .f10kItem, .chunkId, .chunkSeqId } as chunkInfo\n",
        "    ORDER BY from_same_form.chunkSeqId ASC\n",
        "    LIMIT 10\n",
        "\"\"\"\n",
        "\n",
        "kg.query(cypher, params={'formIdParam': form_info['formId']})"
      ]
    },
    {
      "cell_type": "markdown",
      "metadata": {
        "id": "dc90b9a5-497b-422c-a134-86be5cab1c4f"
      },
      "source": [
        "- Limit chunks to just the \"Item 1\" section, the organize in ascending order"
      ]
    },
    {
      "cell_type": "code",
      "execution_count": 96,
      "metadata": {
        "height": 217,
        "id": "e9ebe1d0-64dc-4bb4-9f4f-0bd5e3aedcc5",
        "colab": {
          "base_uri": "https://localhost:8080/",
          "height": 0
        },
        "outputId": "b40e6467-86f2-40b2-b277-0e2be951a069"
      },
      "outputs": [
        {
          "output_type": "execute_result",
          "data": {
            "text/plain": [
              "[]"
            ]
          },
          "metadata": {},
          "execution_count": 96
        }
      ],
      "source": [
        "cypher = \"\"\"\n",
        "  MATCH (from_same_section:Chunk)\n",
        "  WHERE from_same_section.formId = $formIdParam\n",
        "    AND from_same_section.f10kItem = $f10kItemParam // NEW!!!\n",
        "  RETURN from_same_section { .formId, .f10kItem, .chunkId, .chunkSeqId }\n",
        "    ORDER BY from_same_section.chunkSeqId ASC\n",
        "    LIMIT 10\n",
        "\"\"\"\n",
        "\n",
        "kg.query(cypher, params={'formIdParam': form_info['formId'],\n",
        "                         'f10kItemParam': 'item1'})\n"
      ]
    },
    {
      "cell_type": "markdown",
      "metadata": {
        "id": "93dcbbf5-8403-4f12-b663-e9caba70df6f"
      },
      "source": [
        "- Collect ordered chunks into a list"
      ]
    },
    {
      "cell_type": "code",
      "execution_count": 97,
      "metadata": {
        "height": 234,
        "id": "f672e931-000a-4b72-a2e4-c616c03ee190",
        "colab": {
          "base_uri": "https://localhost:8080/",
          "height": 0
        },
        "outputId": "70518a7b-2785-4bfd-cbe3-8f56ea16560c"
      },
      "outputs": [
        {
          "output_type": "execute_result",
          "data": {
            "text/plain": [
              "[{'collect(from_same_section)': []}]"
            ]
          },
          "metadata": {},
          "execution_count": 97
        }
      ],
      "source": [
        "cypher = \"\"\"\n",
        "  MATCH (from_same_section:Chunk)\n",
        "  WHERE from_same_section.formId = $formIdParam\n",
        "    AND from_same_section.f10kItem = $f10kItemParam\n",
        "  WITH from_same_section { .formId, .f10kItem, .chunkId, .chunkSeqId }\n",
        "    ORDER BY from_same_section.chunkSeqId ASC\n",
        "    LIMIT 10\n",
        "  RETURN collect(from_same_section) // NEW!!!\n",
        "\"\"\"\n",
        "\n",
        "kg.query(cypher, params={'formIdParam': form_info['formId'],\n",
        "                         'f10kItemParam': 'item1'})\n"
      ]
    },
    {
      "cell_type": "markdown",
      "metadata": {
        "id": "0dcc47e6-5e54-4123-8721-37bac41a882f"
      },
      "source": [
        "### Add a NEXT relationship between subsequent chunks\n",
        "- Use the `apoc.nodes.link` function from Neo4j to link ordered list of `Chunk` nodes with a `NEXT` relationship\n",
        "- Do this for just the \"Item 1\" section to start"
      ]
    },
    {
      "cell_type": "code",
      "execution_count": 98,
      "metadata": {
        "height": 319,
        "id": "73ad3e35-955f-43d1-a33a-9b6648ac21fa",
        "colab": {
          "base_uri": "https://localhost:8080/",
          "height": 0
        },
        "outputId": "d6152d42-c20b-49eb-8242-3f3fb4e86b7a"
      },
      "outputs": [
        {
          "output_type": "execute_result",
          "data": {
            "text/plain": [
              "[{'size(section_chunk_list)': 0}]"
            ]
          },
          "metadata": {},
          "execution_count": 98
        }
      ],
      "source": [
        "cypher = \"\"\"\n",
        "  MATCH (from_same_section:Chunk)\n",
        "  WHERE from_same_section.formId = $formIdParam\n",
        "    AND from_same_section.f10kItem = $f10kItemParam\n",
        "  WITH from_same_section\n",
        "    ORDER BY from_same_section.chunkSeqId ASC\n",
        "  WITH collect(from_same_section) as section_chunk_list\n",
        "    CALL apoc.nodes.link(\n",
        "        section_chunk_list,\n",
        "        \"NEXT\",\n",
        "        {avoidDuplicates: true}\n",
        "    )  // NEW!!!\n",
        "  RETURN size(section_chunk_list)\n",
        "\"\"\"\n",
        "\n",
        "kg.query(cypher, params={'formIdParam': form_info['formId'],\n",
        "                         'f10kItemParam': 'item1'})\n"
      ]
    },
    {
      "cell_type": "code",
      "execution_count": 99,
      "metadata": {
        "height": 47,
        "id": "853366b4-d32e-43cb-8ca5-8e2cb74b474b",
        "colab": {
          "base_uri": "https://localhost:8080/",
          "height": 0
        },
        "outputId": "6a67aa2b-0fba-438e-b4c3-616f938789d6"
      },
      "outputs": [
        {
          "output_type": "stream",
          "name": "stdout",
          "text": [
            "Node properties:\n",
            "Person {name: STRING, born: INTEGER}\n",
            "Movie {tagline: STRING, title: STRING, released: INTEGER, taglineEmbedding: LIST}\n",
            "Chunk {text: STRING, f10kItem: STRING, chunkSeqId: INTEGER, textEmbedding: LIST, cik: STRING, source: STRING, formId: STRING, cusip6: STRING, chunkId: STRING, names: STRING}\n",
            "Form {cik: STRING, source: STRING, formId: STRING, names: STRING, cusip6: STRING}\n",
            "Relationship properties:\n",
            "ACTED_IN {roles: LIST}\n",
            "REVIEWED {summary: STRING, rating: INTEGER}\n",
            "SECTION {f10kItem: STRING}\n",
            "The relationships:\n",
            "(:Person)-[:ACTED_IN]->(:Movie)\n",
            "(:Person)-[:DIRECTED]->(:Movie)\n",
            "(:Person)-[:PRODUCED]->(:Movie)\n",
            "(:Person)-[:WROTE]->(:Movie)\n",
            "(:Person)-[:FOLLOWS]->(:Person)\n",
            "(:Person)-[:REVIEWED]->(:Movie)\n",
            "(:Person)-[:WORKS_WITH]->(:Person)\n",
            "(:Chunk)-[:PART_OF]->(:Form)\n",
            "(:Form)-[:SECTION]->(:Chunk)\n"
          ]
        }
      ],
      "source": [
        "kg.refresh_schema()\n",
        "print(kg.schema)"
      ]
    },
    {
      "cell_type": "markdown",
      "metadata": {
        "id": "d6b23340-9a01-4680-824a-c9098db6b72c"
      },
      "source": [
        "- Loop through and create relationships for all sections of the form 10-K"
      ]
    },
    {
      "cell_type": "code",
      "execution_count": 100,
      "metadata": {
        "height": 319,
        "id": "1c54a4ee-32aa-4935-af94-8fdafe75b4b5"
      },
      "outputs": [],
      "source": [
        "cypher = \"\"\"\n",
        "  MATCH (from_same_section:Chunk)\n",
        "  WHERE from_same_section.formId = $formIdParam\n",
        "    AND from_same_section.f10kItem = $f10kItemParam\n",
        "  WITH from_same_section\n",
        "    ORDER BY from_same_section.chunkSeqId ASC\n",
        "  WITH collect(from_same_section) as section_chunk_list\n",
        "    CALL apoc.nodes.link(\n",
        "        section_chunk_list,\n",
        "        \"NEXT\",\n",
        "        {avoidDuplicates: true}\n",
        "    )\n",
        "  RETURN size(section_chunk_list)\n",
        "\"\"\"\n",
        "for form10kItemName in ['item1', 'item1a', 'item7', 'item7a']:\n",
        "  kg.query(cypher, params={'formIdParam':form_info['formId'],\n",
        "                           'f10kItemParam': form10kItemName})\n"
      ]
    },
    {
      "cell_type": "markdown",
      "metadata": {
        "id": "0f05e1db-76d7-4115-8757-6bce05ac4c45"
      },
      "source": [
        "### Connect chunks to their parent form with a PART_OF relationship"
      ]
    },
    {
      "cell_type": "code",
      "execution_count": 101,
      "metadata": {
        "height": 149,
        "id": "c985b701-045f-4277-a86d-c255f9fae380",
        "colab": {
          "base_uri": "https://localhost:8080/",
          "height": 0
        },
        "outputId": "96a858f6-c1a0-464d-95b8-44000ad59699"
      },
      "outputs": [
        {
          "output_type": "execute_result",
          "data": {
            "text/plain": [
              "[{'count(newRelationship)': 4}]"
            ]
          },
          "metadata": {},
          "execution_count": 101
        }
      ],
      "source": [
        "cypher = \"\"\"\n",
        "  MATCH (c:Chunk), (f:Form)\n",
        "    WHERE c.formId = f.formId\n",
        "  MERGE (c)-[newRelationship:PART_OF]->(f)\n",
        "  RETURN count(newRelationship)\n",
        "\"\"\"\n",
        "\n",
        "kg.query(cypher)"
      ]
    },
    {
      "cell_type": "markdown",
      "metadata": {
        "id": "f3bb02a9-7256-4dcd-9a54-8a8a511993bc"
      },
      "source": [
        "### Create a SECTION relationship on first chunk of each section"
      ]
    },
    {
      "cell_type": "code",
      "execution_count": 102,
      "metadata": {
        "height": 183,
        "id": "38ae7ddf-d73a-4979-b4e0-d1ea5a59ab01",
        "colab": {
          "base_uri": "https://localhost:8080/",
          "height": 0
        },
        "outputId": "7183848f-e286-4865-b470-339f3896a679"
      },
      "outputs": [
        {
          "output_type": "execute_result",
          "data": {
            "text/plain": [
              "[{'count(r)': 4}]"
            ]
          },
          "metadata": {},
          "execution_count": 102
        }
      ],
      "source": [
        "cypher = \"\"\"\n",
        "  MATCH (first:Chunk), (f:Form)\n",
        "  WHERE first.formId = f.formId\n",
        "    AND first.chunkSeqId = 0\n",
        "  WITH first, f\n",
        "    MERGE (f)-[r:SECTION {f10kItem: first.f10kItem}]->(first)\n",
        "  RETURN count(r)\n",
        "\"\"\"\n",
        "\n",
        "kg.query(cypher)"
      ]
    },
    {
      "cell_type": "markdown",
      "metadata": {
        "id": "df387da0-1d2b-4eaf-a39c-6ebe3ab70a3f"
      },
      "source": [
        "### Example cypher queries\n",
        "- Return the first chunk of the Item 1 section"
      ]
    },
    {
      "cell_type": "code",
      "source": [
        "result = kg.query(cypher, params={\n",
        "    \"formIdParam\": form_info[\"formId\"],\n",
        "    \"f10kItemParam\": \"item1\"\n",
        "})\n",
        "\n",
        "if result:\n",
        "    first_chunk_info = result[0]\n",
        "else:\n",
        "    raise ValueError(\"No SECTION chunk found for item1 on form {}\".format(form_info[\"formId\"]))\n",
        "\n",
        "# cypher = \"\"\"\n",
        "#   MATCH (f:Form)-[r:SECTION]->(first:Chunk)\n",
        "#     WHERE f.formId = $formIdParam\n",
        "#         AND r.f10kItem = $f10kItemParam\n",
        "#   RETURN first.chunkId as chunkId, first.text as text\n",
        "# \"\"\"\n",
        "\n",
        "# first_chunk_info = kg.query(cypher, params={\n",
        "#     'formIdParam': form_info['formId'],\n",
        "#     'f10kItemParam': 'item1'\n",
        "# })[0]\n",
        "\n",
        "# first_chunk_info"
      ],
      "metadata": {
        "colab": {
          "base_uri": "https://localhost:8080/",
          "height": 507
        },
        "id": "CP4pWnnjrPxF",
        "outputId": "dd87a44e-c43d-4384-b9a9-16850f144d56"
      },
      "execution_count": 129,
      "outputs": [
        {
          "output_type": "error",
          "ename": "ClientError",
          "evalue": "{code: Neo.ClientError.Statement.ParameterMissing} {message: Expected parameter(s): formId}",
          "traceback": [
            "\u001b[0;31m---------------------------------------------------------------------------\u001b[0m",
            "\u001b[0;31mGqlError\u001b[0m                                  Traceback (most recent call last)",
            "\u001b[0;31mGqlError\u001b[0m: {gql_status: 42N81} {gql_status_description: error: syntax error or access rule violation - missing request parameter . Expected $`formId`, but got $`f10kItemParam` and $`formIdParam`.} {message: 42N81: Expected $`formId`, but got $`f10kItemParam` and $`formIdParam`.} {diagnostic_record: {'_classification': 'CLIENT_ERROR', 'OPERATION': '', 'OPERATION_CODE': '0', 'CURRENT_SCHEMA': '/'}} {raw_classification: CLIENT_ERROR}",
            "\nThe above exception was the direct cause of the following exception:\n",
            "\u001b[0;31mClientError\u001b[0m                               Traceback (most recent call last)",
            "\u001b[0;32m/tmp/ipython-input-129-3015461687.py\u001b[0m in \u001b[0;36m<cell line: 0>\u001b[0;34m()\u001b[0m\n\u001b[0;32m----> 1\u001b[0;31m result = kg.query(cypher, params={\n\u001b[0m\u001b[1;32m      2\u001b[0m     \u001b[0;34m\"formIdParam\"\u001b[0m\u001b[0;34m:\u001b[0m \u001b[0mform_info\u001b[0m\u001b[0;34m[\u001b[0m\u001b[0;34m\"formId\"\u001b[0m\u001b[0;34m]\u001b[0m\u001b[0;34m,\u001b[0m\u001b[0;34m\u001b[0m\u001b[0;34m\u001b[0m\u001b[0m\n\u001b[1;32m      3\u001b[0m     \u001b[0;34m\"f10kItemParam\"\u001b[0m\u001b[0;34m:\u001b[0m \u001b[0;34m\"item1\"\u001b[0m\u001b[0;34m\u001b[0m\u001b[0;34m\u001b[0m\u001b[0m\n\u001b[1;32m      4\u001b[0m })\n\u001b[1;32m      5\u001b[0m \u001b[0;34m\u001b[0m\u001b[0m\n",
            "\u001b[0;32m/usr/local/lib/python3.11/dist-packages/langchain_community/graphs/neo4j_graph.py\u001b[0m in \u001b[0;36mquery\u001b[0;34m(self, query, params)\u001b[0m\n\u001b[1;32m    465\u001b[0m \u001b[0;34m\u001b[0m\u001b[0m\n\u001b[1;32m    466\u001b[0m         \u001b[0;32mtry\u001b[0m\u001b[0;34m:\u001b[0m\u001b[0;34m\u001b[0m\u001b[0;34m\u001b[0m\u001b[0m\n\u001b[0;32m--> 467\u001b[0;31m             data, _, _ = self._driver.execute_query(\n\u001b[0m\u001b[1;32m    468\u001b[0m                 \u001b[0mQuery\u001b[0m\u001b[0;34m(\u001b[0m\u001b[0mtext\u001b[0m\u001b[0;34m=\u001b[0m\u001b[0mquery\u001b[0m\u001b[0;34m,\u001b[0m \u001b[0mtimeout\u001b[0m\u001b[0;34m=\u001b[0m\u001b[0mself\u001b[0m\u001b[0;34m.\u001b[0m\u001b[0mtimeout\u001b[0m\u001b[0;34m)\u001b[0m\u001b[0;34m,\u001b[0m\u001b[0;34m\u001b[0m\u001b[0;34m\u001b[0m\u001b[0m\n\u001b[1;32m    469\u001b[0m                 \u001b[0mdatabase_\u001b[0m\u001b[0;34m=\u001b[0m\u001b[0mself\u001b[0m\u001b[0;34m.\u001b[0m\u001b[0m_database\u001b[0m\u001b[0;34m,\u001b[0m\u001b[0;34m\u001b[0m\u001b[0;34m\u001b[0m\u001b[0m\n",
            "\u001b[0;32m/usr/local/lib/python3.11/dist-packages/neo4j/_sync/driver.py\u001b[0m in \u001b[0;36mexecute_query\u001b[0;34m(self, query_, parameters_, routing_, database_, impersonated_user_, bookmark_manager_, auth_, result_transformer_, **kwargs)\u001b[0m\n\u001b[1;32m    968\u001b[0m                 )\n\u001b[1;32m    969\u001b[0m             \u001b[0;32mwith\u001b[0m \u001b[0msession\u001b[0m\u001b[0;34m.\u001b[0m\u001b[0m_pipelined_begin\u001b[0m\u001b[0;34m:\u001b[0m\u001b[0;34m\u001b[0m\u001b[0;34m\u001b[0m\u001b[0m\n\u001b[0;32m--> 970\u001b[0;31m                 return session._run_transaction(\n\u001b[0m\u001b[1;32m    971\u001b[0m                     \u001b[0maccess_mode\u001b[0m\u001b[0;34m,\u001b[0m\u001b[0;34m\u001b[0m\u001b[0;34m\u001b[0m\u001b[0m\n\u001b[1;32m    972\u001b[0m                     \u001b[0mTelemetryAPI\u001b[0m\u001b[0;34m.\u001b[0m\u001b[0mDRIVER\u001b[0m\u001b[0;34m,\u001b[0m\u001b[0;34m\u001b[0m\u001b[0;34m\u001b[0m\u001b[0m\n",
            "\u001b[0;32m/usr/local/lib/python3.11/dist-packages/neo4j/_sync/work/session.py\u001b[0m in \u001b[0;36m_run_transaction\u001b[0;34m(self, access_mode, api, transaction_function, args, kwargs)\u001b[0m\n\u001b[1;32m    581\u001b[0m                 \u001b[0mtx\u001b[0m \u001b[0;34m=\u001b[0m \u001b[0mself\u001b[0m\u001b[0;34m.\u001b[0m\u001b[0m_transaction\u001b[0m\u001b[0;34m\u001b[0m\u001b[0;34m\u001b[0m\u001b[0m\n\u001b[1;32m    582\u001b[0m                 \u001b[0;32mtry\u001b[0m\u001b[0;34m:\u001b[0m\u001b[0;34m\u001b[0m\u001b[0;34m\u001b[0m\u001b[0m\n\u001b[0;32m--> 583\u001b[0;31m                     \u001b[0mresult\u001b[0m \u001b[0;34m=\u001b[0m \u001b[0mtransaction_function\u001b[0m\u001b[0;34m(\u001b[0m\u001b[0mtx\u001b[0m\u001b[0;34m,\u001b[0m \u001b[0;34m*\u001b[0m\u001b[0margs\u001b[0m\u001b[0;34m,\u001b[0m \u001b[0;34m**\u001b[0m\u001b[0mkwargs\u001b[0m\u001b[0;34m)\u001b[0m\u001b[0;34m\u001b[0m\u001b[0;34m\u001b[0m\u001b[0m\n\u001b[0m\u001b[1;32m    584\u001b[0m                 \u001b[0;32mexcept\u001b[0m \u001b[0masyncio\u001b[0m\u001b[0;34m.\u001b[0m\u001b[0mCancelledError\u001b[0m\u001b[0;34m:\u001b[0m\u001b[0;34m\u001b[0m\u001b[0;34m\u001b[0m\u001b[0m\n\u001b[1;32m    585\u001b[0m                     \u001b[0;31m# if cancellation callback has not been called yet:\u001b[0m\u001b[0;34m\u001b[0m\u001b[0;34m\u001b[0m\u001b[0m\n",
            "\u001b[0;32m/usr/local/lib/python3.11/dist-packages/neo4j/_work/query.py\u001b[0m in \u001b[0;36mwrapped\u001b[0;34m(*args, **kwargs)\u001b[0m\n\u001b[1;32m    142\u001b[0m     \u001b[0;32mdef\u001b[0m \u001b[0mwrapper\u001b[0m\u001b[0;34m(\u001b[0m\u001b[0mf\u001b[0m\u001b[0;34m)\u001b[0m\u001b[0;34m:\u001b[0m\u001b[0;34m\u001b[0m\u001b[0;34m\u001b[0m\u001b[0m\n\u001b[1;32m    143\u001b[0m         \u001b[0;32mdef\u001b[0m \u001b[0mwrapped\u001b[0m\u001b[0;34m(\u001b[0m\u001b[0;34m*\u001b[0m\u001b[0margs\u001b[0m\u001b[0;34m,\u001b[0m \u001b[0;34m**\u001b[0m\u001b[0mkwargs\u001b[0m\u001b[0;34m)\u001b[0m\u001b[0;34m:\u001b[0m\u001b[0;34m\u001b[0m\u001b[0;34m\u001b[0m\u001b[0m\n\u001b[0;32m--> 144\u001b[0;31m             \u001b[0;32mreturn\u001b[0m \u001b[0mf\u001b[0m\u001b[0;34m(\u001b[0m\u001b[0;34m*\u001b[0m\u001b[0margs\u001b[0m\u001b[0;34m,\u001b[0m \u001b[0;34m**\u001b[0m\u001b[0mkwargs\u001b[0m\u001b[0;34m)\u001b[0m\u001b[0;34m\u001b[0m\u001b[0;34m\u001b[0m\u001b[0m\n\u001b[0m\u001b[1;32m    145\u001b[0m \u001b[0;34m\u001b[0m\u001b[0m\n\u001b[1;32m    146\u001b[0m         \u001b[0mwrapped\u001b[0m\u001b[0;34m.\u001b[0m\u001b[0mmetadata\u001b[0m \u001b[0;34m=\u001b[0m \u001b[0mmetadata\u001b[0m\u001b[0;34m\u001b[0m\u001b[0;34m\u001b[0m\u001b[0m\n",
            "\u001b[0;32m/usr/local/lib/python3.11/dist-packages/neo4j/_sync/driver.py\u001b[0m in \u001b[0;36m_work\u001b[0;34m(tx, query, parameters, transformer)\u001b[0m\n\u001b[1;32m   1304\u001b[0m     \u001b[0mtransformer\u001b[0m\u001b[0;34m:\u001b[0m \u001b[0mt\u001b[0m\u001b[0;34m.\u001b[0m\u001b[0mCallable\u001b[0m\u001b[0;34m[\u001b[0m\u001b[0;34m[\u001b[0m\u001b[0mResult\u001b[0m\u001b[0;34m]\u001b[0m\u001b[0;34m,\u001b[0m \u001b[0mt\u001b[0m\u001b[0;34m.\u001b[0m\u001b[0mUnion\u001b[0m\u001b[0;34m[\u001b[0m\u001b[0m_T\u001b[0m\u001b[0;34m]\u001b[0m\u001b[0;34m]\u001b[0m\u001b[0;34m,\u001b[0m\u001b[0;34m\u001b[0m\u001b[0;34m\u001b[0m\u001b[0m\n\u001b[1;32m   1305\u001b[0m ) -> _T:\n\u001b[0;32m-> 1306\u001b[0;31m     \u001b[0mres\u001b[0m \u001b[0;34m=\u001b[0m \u001b[0mtx\u001b[0m\u001b[0;34m.\u001b[0m\u001b[0mrun\u001b[0m\u001b[0;34m(\u001b[0m\u001b[0mquery\u001b[0m\u001b[0;34m,\u001b[0m \u001b[0mparameters\u001b[0m\u001b[0;34m)\u001b[0m\u001b[0;34m\u001b[0m\u001b[0;34m\u001b[0m\u001b[0m\n\u001b[0m\u001b[1;32m   1307\u001b[0m     \u001b[0;32mreturn\u001b[0m \u001b[0mtransformer\u001b[0m\u001b[0;34m(\u001b[0m\u001b[0mres\u001b[0m\u001b[0;34m)\u001b[0m\u001b[0;34m\u001b[0m\u001b[0;34m\u001b[0m\u001b[0m\n\u001b[1;32m   1308\u001b[0m \u001b[0;34m\u001b[0m\u001b[0m\n",
            "\u001b[0;32m/usr/local/lib/python3.11/dist-packages/neo4j/_sync/work/transaction.py\u001b[0m in \u001b[0;36mrun\u001b[0;34m(self, query, parameters, **kwparameters)\u001b[0m\n\u001b[1;32m    204\u001b[0m \u001b[0;34m\u001b[0m\u001b[0m\n\u001b[1;32m    205\u001b[0m         \u001b[0mparameters\u001b[0m \u001b[0;34m=\u001b[0m \u001b[0mdict\u001b[0m\u001b[0;34m(\u001b[0m\u001b[0mparameters\u001b[0m \u001b[0;32mor\u001b[0m \u001b[0;34m{\u001b[0m\u001b[0;34m}\u001b[0m\u001b[0;34m,\u001b[0m \u001b[0;34m**\u001b[0m\u001b[0mkwparameters\u001b[0m\u001b[0;34m)\u001b[0m\u001b[0;34m\u001b[0m\u001b[0;34m\u001b[0m\u001b[0m\n\u001b[0;32m--> 206\u001b[0;31m         \u001b[0mresult\u001b[0m\u001b[0;34m.\u001b[0m\u001b[0m_tx_ready_run\u001b[0m\u001b[0;34m(\u001b[0m\u001b[0mquery\u001b[0m\u001b[0;34m,\u001b[0m \u001b[0mparameters\u001b[0m\u001b[0;34m)\u001b[0m\u001b[0;34m\u001b[0m\u001b[0;34m\u001b[0m\u001b[0m\n\u001b[0m\u001b[1;32m    207\u001b[0m \u001b[0;34m\u001b[0m\u001b[0m\n\u001b[1;32m    208\u001b[0m         \u001b[0;32mreturn\u001b[0m \u001b[0mresult\u001b[0m\u001b[0;34m\u001b[0m\u001b[0;34m\u001b[0m\u001b[0m\n",
            "\u001b[0;32m/usr/local/lib/python3.11/dist-packages/neo4j/_sync/work/result.py\u001b[0m in \u001b[0;36m_tx_ready_run\u001b[0;34m(self, query, parameters)\u001b[0m\n\u001b[1;32m    175\u001b[0m         \u001b[0;31m# BEGIN {extra}\u001b[0m\u001b[0;34m\u001b[0m\u001b[0;34m\u001b[0m\u001b[0m\n\u001b[1;32m    176\u001b[0m         \u001b[0;31m# RUN \"query\" {parameters} {extra}\u001b[0m\u001b[0;34m\u001b[0m\u001b[0;34m\u001b[0m\u001b[0m\n\u001b[0;32m--> 177\u001b[0;31m         \u001b[0mself\u001b[0m\u001b[0;34m.\u001b[0m\u001b[0m_run\u001b[0m\u001b[0;34m(\u001b[0m\u001b[0mquery\u001b[0m\u001b[0;34m,\u001b[0m \u001b[0mparameters\u001b[0m\u001b[0;34m,\u001b[0m \u001b[0;32mNone\u001b[0m\u001b[0;34m,\u001b[0m \u001b[0;32mNone\u001b[0m\u001b[0;34m,\u001b[0m \u001b[0;32mNone\u001b[0m\u001b[0;34m,\u001b[0m \u001b[0;32mNone\u001b[0m\u001b[0;34m,\u001b[0m \u001b[0;32mNone\u001b[0m\u001b[0;34m,\u001b[0m \u001b[0;32mNone\u001b[0m\u001b[0;34m)\u001b[0m\u001b[0;34m\u001b[0m\u001b[0;34m\u001b[0m\u001b[0m\n\u001b[0m\u001b[1;32m    178\u001b[0m \u001b[0;34m\u001b[0m\u001b[0m\n\u001b[1;32m    179\u001b[0m     def _run(\n",
            "\u001b[0;32m/usr/local/lib/python3.11/dist-packages/neo4j/_sync/work/result.py\u001b[0m in \u001b[0;36m_run\u001b[0;34m(self, query, parameters, db, imp_user, access_mode, bookmarks, notifications_min_severity, notifications_disabled_classifications)\u001b[0m\n\u001b[1;32m    234\u001b[0m         \u001b[0mself\u001b[0m\u001b[0;34m.\u001b[0m\u001b[0m_pull\u001b[0m\u001b[0;34m(\u001b[0m\u001b[0;34m)\u001b[0m\u001b[0;34m\u001b[0m\u001b[0;34m\u001b[0m\u001b[0m\n\u001b[1;32m    235\u001b[0m         \u001b[0mself\u001b[0m\u001b[0;34m.\u001b[0m\u001b[0m_connection\u001b[0m\u001b[0;34m.\u001b[0m\u001b[0msend_all\u001b[0m\u001b[0;34m(\u001b[0m\u001b[0;34m)\u001b[0m\u001b[0;34m\u001b[0m\u001b[0;34m\u001b[0m\u001b[0m\n\u001b[0;32m--> 236\u001b[0;31m         \u001b[0mself\u001b[0m\u001b[0;34m.\u001b[0m\u001b[0m_attach\u001b[0m\u001b[0;34m(\u001b[0m\u001b[0;34m)\u001b[0m\u001b[0;34m\u001b[0m\u001b[0;34m\u001b[0m\u001b[0m\n\u001b[0m\u001b[1;32m    237\u001b[0m \u001b[0;34m\u001b[0m\u001b[0m\n\u001b[1;32m    238\u001b[0m     \u001b[0;32mdef\u001b[0m \u001b[0m_pull\u001b[0m\u001b[0;34m(\u001b[0m\u001b[0mself\u001b[0m\u001b[0;34m)\u001b[0m\u001b[0;34m:\u001b[0m\u001b[0;34m\u001b[0m\u001b[0;34m\u001b[0m\u001b[0m\n",
            "\u001b[0;32m/usr/local/lib/python3.11/dist-packages/neo4j/_sync/work/result.py\u001b[0m in \u001b[0;36m_attach\u001b[0;34m(self)\u001b[0m\n\u001b[1;32m    428\u001b[0m         \u001b[0;32mif\u001b[0m \u001b[0mself\u001b[0m\u001b[0;34m.\u001b[0m\u001b[0m_exhausted\u001b[0m \u001b[0;32mis\u001b[0m \u001b[0;32mFalse\u001b[0m\u001b[0;34m:\u001b[0m\u001b[0;34m\u001b[0m\u001b[0;34m\u001b[0m\u001b[0m\n\u001b[1;32m    429\u001b[0m             \u001b[0;32mwhile\u001b[0m \u001b[0mself\u001b[0m\u001b[0;34m.\u001b[0m\u001b[0m_attached\u001b[0m \u001b[0;32mis\u001b[0m \u001b[0;32mFalse\u001b[0m\u001b[0;34m:\u001b[0m\u001b[0;34m\u001b[0m\u001b[0;34m\u001b[0m\u001b[0m\n\u001b[0;32m--> 430\u001b[0;31m                 \u001b[0mself\u001b[0m\u001b[0;34m.\u001b[0m\u001b[0m_connection\u001b[0m\u001b[0;34m.\u001b[0m\u001b[0mfetch_message\u001b[0m\u001b[0;34m(\u001b[0m\u001b[0;34m)\u001b[0m\u001b[0;34m\u001b[0m\u001b[0;34m\u001b[0m\u001b[0m\n\u001b[0m\u001b[1;32m    431\u001b[0m \u001b[0;34m\u001b[0m\u001b[0m\n\u001b[1;32m    432\u001b[0m     \u001b[0;32mdef\u001b[0m \u001b[0m_buffer\u001b[0m\u001b[0;34m(\u001b[0m\u001b[0mself\u001b[0m\u001b[0;34m,\u001b[0m \u001b[0mn\u001b[0m\u001b[0;34m=\u001b[0m\u001b[0;32mNone\u001b[0m\u001b[0;34m)\u001b[0m\u001b[0;34m:\u001b[0m\u001b[0;34m\u001b[0m\u001b[0;34m\u001b[0m\u001b[0m\n",
            "\u001b[0;32m/usr/local/lib/python3.11/dist-packages/neo4j/_sync/io/_common.py\u001b[0m in \u001b[0;36minner\u001b[0;34m(*args, **kwargs)\u001b[0m\n\u001b[1;32m    182\u001b[0m             \u001b[0;32mdef\u001b[0m \u001b[0minner\u001b[0m\u001b[0;34m(\u001b[0m\u001b[0;34m*\u001b[0m\u001b[0margs\u001b[0m\u001b[0;34m,\u001b[0m \u001b[0;34m**\u001b[0m\u001b[0mkwargs\u001b[0m\u001b[0;34m)\u001b[0m\u001b[0;34m:\u001b[0m\u001b[0;34m\u001b[0m\u001b[0;34m\u001b[0m\u001b[0m\n\u001b[1;32m    183\u001b[0m                 \u001b[0;32mtry\u001b[0m\u001b[0;34m:\u001b[0m\u001b[0;34m\u001b[0m\u001b[0;34m\u001b[0m\u001b[0m\n\u001b[0;32m--> 184\u001b[0;31m                     \u001b[0mfunc\u001b[0m\u001b[0;34m(\u001b[0m\u001b[0;34m*\u001b[0m\u001b[0margs\u001b[0m\u001b[0;34m,\u001b[0m \u001b[0;34m**\u001b[0m\u001b[0mkwargs\u001b[0m\u001b[0;34m)\u001b[0m\u001b[0;34m\u001b[0m\u001b[0;34m\u001b[0m\u001b[0m\n\u001b[0m\u001b[1;32m    185\u001b[0m                 \u001b[0;32mexcept\u001b[0m \u001b[0;34m(\u001b[0m\u001b[0mNeo4jError\u001b[0m\u001b[0;34m,\u001b[0m \u001b[0mServiceUnavailable\u001b[0m\u001b[0;34m,\u001b[0m \u001b[0mSessionExpired\u001b[0m\u001b[0;34m)\u001b[0m \u001b[0;32mas\u001b[0m \u001b[0mexc\u001b[0m\u001b[0;34m:\u001b[0m\u001b[0;34m\u001b[0m\u001b[0;34m\u001b[0m\u001b[0m\n\u001b[1;32m    186\u001b[0m                     \u001b[0;32massert\u001b[0m \u001b[0;32mnot\u001b[0m \u001b[0masyncio\u001b[0m\u001b[0;34m.\u001b[0m\u001b[0miscoroutinefunction\u001b[0m\u001b[0;34m(\u001b[0m\u001b[0mself\u001b[0m\u001b[0;34m.\u001b[0m\u001b[0m__on_error\u001b[0m\u001b[0;34m)\u001b[0m\u001b[0;34m\u001b[0m\u001b[0;34m\u001b[0m\u001b[0m\n",
            "\u001b[0;32m/usr/local/lib/python3.11/dist-packages/neo4j/_sync/io/_bolt.py\u001b[0m in \u001b[0;36mfetch_message\u001b[0;34m(self)\u001b[0m\n\u001b[1;32m    862\u001b[0m             \u001b[0mhydration_hooks\u001b[0m\u001b[0;34m=\u001b[0m\u001b[0mself\u001b[0m\u001b[0;34m.\u001b[0m\u001b[0mresponses\u001b[0m\u001b[0;34m[\u001b[0m\u001b[0;36m0\u001b[0m\u001b[0;34m]\u001b[0m\u001b[0;34m.\u001b[0m\u001b[0mhydration_hooks\u001b[0m\u001b[0;34m\u001b[0m\u001b[0;34m\u001b[0m\u001b[0m\n\u001b[1;32m    863\u001b[0m         )\n\u001b[0;32m--> 864\u001b[0;31m         \u001b[0mres\u001b[0m \u001b[0;34m=\u001b[0m \u001b[0mself\u001b[0m\u001b[0;34m.\u001b[0m\u001b[0m_process_message\u001b[0m\u001b[0;34m(\u001b[0m\u001b[0mtag\u001b[0m\u001b[0;34m,\u001b[0m \u001b[0mfields\u001b[0m\u001b[0;34m)\u001b[0m\u001b[0;34m\u001b[0m\u001b[0;34m\u001b[0m\u001b[0m\n\u001b[0m\u001b[1;32m    865\u001b[0m         \u001b[0mself\u001b[0m\u001b[0;34m.\u001b[0m\u001b[0midle_since\u001b[0m \u001b[0;34m=\u001b[0m \u001b[0mmonotonic\u001b[0m\u001b[0;34m(\u001b[0m\u001b[0;34m)\u001b[0m\u001b[0;34m\u001b[0m\u001b[0;34m\u001b[0m\u001b[0m\n\u001b[1;32m    866\u001b[0m         \u001b[0;32mreturn\u001b[0m \u001b[0mres\u001b[0m\u001b[0;34m\u001b[0m\u001b[0;34m\u001b[0m\u001b[0m\n",
            "\u001b[0;32m/usr/local/lib/python3.11/dist-packages/neo4j/_sync/io/_bolt5.py\u001b[0m in \u001b[0;36m_process_message\u001b[0;34m(self, tag, fields)\u001b[0m\n\u001b[1;32m   1206\u001b[0m             \u001b[0mself\u001b[0m\u001b[0;34m.\u001b[0m\u001b[0m_enrich_error_diagnostic_record\u001b[0m\u001b[0;34m(\u001b[0m\u001b[0msummary_metadata\u001b[0m\u001b[0;34m)\u001b[0m\u001b[0;34m\u001b[0m\u001b[0;34m\u001b[0m\u001b[0m\n\u001b[1;32m   1207\u001b[0m             \u001b[0;32mtry\u001b[0m\u001b[0;34m:\u001b[0m\u001b[0;34m\u001b[0m\u001b[0;34m\u001b[0m\u001b[0m\n\u001b[0;32m-> 1208\u001b[0;31m                 \u001b[0mresponse\u001b[0m\u001b[0;34m.\u001b[0m\u001b[0mon_failure\u001b[0m\u001b[0;34m(\u001b[0m\u001b[0msummary_metadata\u001b[0m \u001b[0;32mor\u001b[0m \u001b[0;34m{\u001b[0m\u001b[0;34m}\u001b[0m\u001b[0;34m)\u001b[0m\u001b[0;34m\u001b[0m\u001b[0;34m\u001b[0m\u001b[0m\n\u001b[0m\u001b[1;32m   1209\u001b[0m             \u001b[0;32mexcept\u001b[0m \u001b[0;34m(\u001b[0m\u001b[0mServiceUnavailable\u001b[0m\u001b[0;34m,\u001b[0m \u001b[0mDatabaseUnavailable\u001b[0m\u001b[0;34m)\u001b[0m\u001b[0;34m:\u001b[0m\u001b[0;34m\u001b[0m\u001b[0;34m\u001b[0m\u001b[0m\n\u001b[1;32m   1210\u001b[0m                 \u001b[0;32mif\u001b[0m \u001b[0mself\u001b[0m\u001b[0;34m.\u001b[0m\u001b[0mpool\u001b[0m\u001b[0;34m:\u001b[0m\u001b[0;34m\u001b[0m\u001b[0;34m\u001b[0m\u001b[0m\n",
            "\u001b[0;32m/usr/local/lib/python3.11/dist-packages/neo4j/_sync/io/_common.py\u001b[0m in \u001b[0;36mon_failure\u001b[0;34m(self, metadata)\u001b[0m\n\u001b[1;32m    252\u001b[0m         \u001b[0mhandler\u001b[0m \u001b[0;34m=\u001b[0m \u001b[0mself\u001b[0m\u001b[0;34m.\u001b[0m\u001b[0mhandlers\u001b[0m\u001b[0;34m.\u001b[0m\u001b[0mget\u001b[0m\u001b[0;34m(\u001b[0m\u001b[0;34m\"on_summary\"\u001b[0m\u001b[0;34m)\u001b[0m\u001b[0;34m\u001b[0m\u001b[0;34m\u001b[0m\u001b[0m\n\u001b[1;32m    253\u001b[0m         \u001b[0mUtil\u001b[0m\u001b[0;34m.\u001b[0m\u001b[0mcallback\u001b[0m\u001b[0;34m(\u001b[0m\u001b[0mhandler\u001b[0m\u001b[0;34m)\u001b[0m\u001b[0;34m\u001b[0m\u001b[0;34m\u001b[0m\u001b[0m\n\u001b[0;32m--> 254\u001b[0;31m         \u001b[0;32mraise\u001b[0m \u001b[0mself\u001b[0m\u001b[0;34m.\u001b[0m\u001b[0m_hydrate_error\u001b[0m\u001b[0;34m(\u001b[0m\u001b[0mmetadata\u001b[0m\u001b[0;34m)\u001b[0m\u001b[0;34m\u001b[0m\u001b[0;34m\u001b[0m\u001b[0m\n\u001b[0m\u001b[1;32m    255\u001b[0m \u001b[0;34m\u001b[0m\u001b[0m\n\u001b[1;32m    256\u001b[0m     \u001b[0;32mdef\u001b[0m \u001b[0mon_ignored\u001b[0m\u001b[0;34m(\u001b[0m\u001b[0mself\u001b[0m\u001b[0;34m,\u001b[0m \u001b[0mmetadata\u001b[0m\u001b[0;34m=\u001b[0m\u001b[0;32mNone\u001b[0m\u001b[0;34m)\u001b[0m\u001b[0;34m:\u001b[0m\u001b[0;34m\u001b[0m\u001b[0;34m\u001b[0m\u001b[0m\n",
            "\u001b[0;31mClientError\u001b[0m: {code: Neo.ClientError.Statement.ParameterMissing} {message: Expected parameter(s): formId}"
          ]
        }
      ]
    },
    {
      "cell_type": "code",
      "execution_count": 107,
      "metadata": {
        "height": 251,
        "id": "1a52b8ed-a19a-448c-9994-bd101ecc4142",
        "colab": {
          "base_uri": "https://localhost:8080/",
          "height": 216
        },
        "outputId": "cf440ee8-a6f8-4ac2-96ad-a4eb02cc93cd"
      },
      "outputs": [
        {
          "output_type": "error",
          "ename": "IndexError",
          "evalue": "list index out of range",
          "traceback": [
            "\u001b[0;31m---------------------------------------------------------------------------\u001b[0m",
            "\u001b[0;31mIndexError\u001b[0m                                Traceback (most recent call last)",
            "\u001b[0;32m/tmp/ipython-input-107-471382909.py\u001b[0m in \u001b[0;36m<cell line: 0>\u001b[0;34m()\u001b[0m\n\u001b[1;32m      6\u001b[0m \"\"\"\n\u001b[1;32m      7\u001b[0m \u001b[0;34m\u001b[0m\u001b[0m\n\u001b[0;32m----> 8\u001b[0;31m first_chunk_info = kg.query(cypher, params={\n\u001b[0m\u001b[1;32m      9\u001b[0m     \u001b[0;34m'formIdParam'\u001b[0m\u001b[0;34m:\u001b[0m \u001b[0mform_info\u001b[0m\u001b[0;34m[\u001b[0m\u001b[0;34m'formId'\u001b[0m\u001b[0;34m]\u001b[0m\u001b[0;34m,\u001b[0m\u001b[0;34m\u001b[0m\u001b[0;34m\u001b[0m\u001b[0m\n\u001b[1;32m     10\u001b[0m     \u001b[0;34m'f10kItemParam'\u001b[0m\u001b[0;34m:\u001b[0m \u001b[0;34m'item1'\u001b[0m\u001b[0;34m\u001b[0m\u001b[0;34m\u001b[0m\u001b[0m\n",
            "\u001b[0;31mIndexError\u001b[0m: list index out of range"
          ]
        }
      ],
      "source": [
        "cypher = \"\"\"\n",
        "  MATCH (f:Form)-[r:SECTION]->(first:Chunk)\n",
        "    WHERE f.formId = $formIdParam\n",
        "        AND r.f10kItem = $f10kItemParam\n",
        "  RETURN first.chunkId as chunkId, first.text as text\n",
        "\"\"\"\n",
        "\n",
        "first_chunk_info = kg.query(cypher, params={\n",
        "    'formIdParam': form_info['formId'],\n",
        "    'f10kItemParam': 'item1'\n",
        "})[0]\n",
        "\n",
        "first_chunk_info\n"
      ]
    },
    {
      "cell_type": "markdown",
      "metadata": {
        "id": "b46c3292-7562-463b-b265-d2d28ec4d151"
      },
      "source": [
        "- Get the second chunk of the Item 1 section"
      ]
    },
    {
      "cell_type": "code",
      "execution_count": 130,
      "metadata": {
        "height": 217,
        "id": "10c7240b-8b8f-41c9-861f-007e62490838",
        "colab": {
          "base_uri": "https://localhost:8080/",
          "height": 216
        },
        "outputId": "5a676331-9897-4005-9cbf-35737a1b3890"
      },
      "outputs": [
        {
          "output_type": "error",
          "ename": "NameError",
          "evalue": "name 'first_chunk_info' is not defined",
          "traceback": [
            "\u001b[0;31m---------------------------------------------------------------------------\u001b[0m",
            "\u001b[0;31mNameError\u001b[0m                                 Traceback (most recent call last)",
            "\u001b[0;32m/tmp/ipython-input-130-4096638280.py\u001b[0m in \u001b[0;36m<cell line: 0>\u001b[0;34m()\u001b[0m\n\u001b[1;32m      6\u001b[0m \u001b[0;34m\u001b[0m\u001b[0m\n\u001b[1;32m      7\u001b[0m next_chunk_info = kg.query(cypher, params={\n\u001b[0;32m----> 8\u001b[0;31m     \u001b[0;34m'chunkIdParam'\u001b[0m\u001b[0;34m:\u001b[0m \u001b[0mfirst_chunk_info\u001b[0m\u001b[0;34m[\u001b[0m\u001b[0;34m'chunkId'\u001b[0m\u001b[0;34m]\u001b[0m\u001b[0;34m\u001b[0m\u001b[0;34m\u001b[0m\u001b[0m\n\u001b[0m\u001b[1;32m      9\u001b[0m })[0]\n\u001b[1;32m     10\u001b[0m \u001b[0;34m\u001b[0m\u001b[0m\n",
            "\u001b[0;31mNameError\u001b[0m: name 'first_chunk_info' is not defined"
          ]
        }
      ],
      "source": [
        "cypher = \"\"\"\n",
        "  MATCH (first:Chunk)-[:NEXT]->(nextChunk:Chunk)\n",
        "    WHERE first.chunkId = $chunkIdParam\n",
        "  RETURN nextChunk.chunkId as chunkId, nextChunk.text as text\n",
        "\"\"\"\n",
        "\n",
        "next_chunk_info = kg.query(cypher, params={\n",
        "    'chunkIdParam': first_chunk_info['chunkId']\n",
        "})[0]\n",
        "\n",
        "next_chunk_info\n"
      ]
    },
    {
      "cell_type": "code",
      "execution_count": 109,
      "metadata": {
        "height": 30,
        "id": "f137f111-34b3-48d5-95eb-363292251a5a",
        "colab": {
          "base_uri": "https://localhost:8080/",
          "height": 144
        },
        "outputId": "94f89a7e-de9e-460d-c7f9-259c4184c869"
      },
      "outputs": [
        {
          "output_type": "error",
          "ename": "NameError",
          "evalue": "name 'first_chunk_info' is not defined",
          "traceback": [
            "\u001b[0;31m---------------------------------------------------------------------------\u001b[0m",
            "\u001b[0;31mNameError\u001b[0m                                 Traceback (most recent call last)",
            "\u001b[0;32m/tmp/ipython-input-109-3786365785.py\u001b[0m in \u001b[0;36m<cell line: 0>\u001b[0;34m()\u001b[0m\n\u001b[0;32m----> 1\u001b[0;31m \u001b[0mprint\u001b[0m\u001b[0;34m(\u001b[0m\u001b[0mfirst_chunk_info\u001b[0m\u001b[0;34m[\u001b[0m\u001b[0;34m'chunkId'\u001b[0m\u001b[0;34m]\u001b[0m\u001b[0;34m,\u001b[0m \u001b[0mnext_chunk_info\u001b[0m\u001b[0;34m[\u001b[0m\u001b[0;34m'chunkId'\u001b[0m\u001b[0;34m]\u001b[0m\u001b[0;34m)\u001b[0m\u001b[0;34m\u001b[0m\u001b[0;34m\u001b[0m\u001b[0m\n\u001b[0m",
            "\u001b[0;31mNameError\u001b[0m: name 'first_chunk_info' is not defined"
          ]
        }
      ],
      "source": [
        "print(first_chunk_info['chunkId'], next_chunk_info['chunkId'])"
      ]
    },
    {
      "cell_type": "markdown",
      "metadata": {
        "id": "4a82e802-76a1-43fd-9017-29030d2a2299"
      },
      "source": [
        "- Return a window of three chunks"
      ]
    },
    {
      "cell_type": "code",
      "execution_count": 131,
      "metadata": {
        "height": 149,
        "id": "e4385dcb-e912-45e6-9f7d-c64166ebaa79",
        "colab": {
          "base_uri": "https://localhost:8080/",
          "height": 180
        },
        "outputId": "7add4017-113f-4688-ee53-e87c95642664"
      },
      "outputs": [
        {
          "output_type": "error",
          "ename": "NameError",
          "evalue": "name 'next_chunk_info' is not defined",
          "traceback": [
            "\u001b[0;31m---------------------------------------------------------------------------\u001b[0m",
            "\u001b[0;31mNameError\u001b[0m                                 Traceback (most recent call last)",
            "\u001b[0;32m/tmp/ipython-input-131-1064959504.py\u001b[0m in \u001b[0;36m<cell line: 0>\u001b[0;34m()\u001b[0m\n\u001b[1;32m      6\u001b[0m \u001b[0;34m\u001b[0m\u001b[0m\n\u001b[1;32m      7\u001b[0m kg.query(cypher,\n\u001b[0;32m----> 8\u001b[0;31m          params={'chunkIdParam': next_chunk_info['chunkId']})\n\u001b[0m",
            "\u001b[0;31mNameError\u001b[0m: name 'next_chunk_info' is not defined"
          ]
        }
      ],
      "source": [
        "cypher = \"\"\"\n",
        "    MATCH (c1:Chunk)-[:NEXT]->(c2:Chunk)-[:NEXT]->(c3:Chunk)\n",
        "        WHERE c2.chunkId = $chunkIdParam\n",
        "    RETURN c1.chunkId, c2.chunkId, c3.chunkId\n",
        "    \"\"\"\n",
        "\n",
        "kg.query(cypher,\n",
        "         params={'chunkIdParam': next_chunk_info['chunkId']})"
      ]
    },
    {
      "cell_type": "markdown",
      "metadata": {
        "id": "a6ac2448-b9b9-4b2d-b5b8-9ccf78dfa8a0"
      },
      "source": [
        "### Information is stored in the structure of a graph\n",
        "- Matched patterns of nodes and relationships in a graph are called **paths**\n",
        "- The length of a path is equal to the number of relationships in the path\n",
        "- Paths can be captured as variables and used elsewhere in queries"
      ]
    },
    {
      "cell_type": "code",
      "execution_count": 132,
      "metadata": {
        "height": 149,
        "id": "a5ba5fe2-060e-4de1-ba2e-63ba1e9f83a7",
        "colab": {
          "base_uri": "https://localhost:8080/",
          "height": 180
        },
        "outputId": "d9328563-0b08-4854-a398-f187ea85a3c4"
      },
      "outputs": [
        {
          "output_type": "error",
          "ename": "NameError",
          "evalue": "name 'next_chunk_info' is not defined",
          "traceback": [
            "\u001b[0;31m---------------------------------------------------------------------------\u001b[0m",
            "\u001b[0;31mNameError\u001b[0m                                 Traceback (most recent call last)",
            "\u001b[0;32m/tmp/ipython-input-132-2534477215.py\u001b[0m in \u001b[0;36m<cell line: 0>\u001b[0;34m()\u001b[0m\n\u001b[1;32m      6\u001b[0m \u001b[0;34m\u001b[0m\u001b[0m\n\u001b[1;32m      7\u001b[0m kg.query(cypher,\n\u001b[0;32m----> 8\u001b[0;31m          params={'chunkIdParam': next_chunk_info['chunkId']})\n\u001b[0m",
            "\u001b[0;31mNameError\u001b[0m: name 'next_chunk_info' is not defined"
          ]
        }
      ],
      "source": [
        "cypher = \"\"\"\n",
        "    MATCH window = (c1:Chunk)-[:NEXT]->(c2:Chunk)-[:NEXT]->(c3:Chunk)\n",
        "        WHERE c1.chunkId = $chunkIdParam\n",
        "    RETURN length(window) as windowPathLength\n",
        "    \"\"\"\n",
        "\n",
        "kg.query(cypher,\n",
        "         params={'chunkIdParam': next_chunk_info['chunkId']})"
      ]
    },
    {
      "cell_type": "markdown",
      "metadata": {
        "id": "8888d181-ff5d-46c9-b362-47631118015b"
      },
      "source": [
        "### Finding variable length windows\n",
        "- A pattern match will fail if the relationship doesn't exist in the graph\n",
        "- For example, the first chunk in a section has no preceding chunk, so the next query won't return anything"
      ]
    },
    {
      "cell_type": "code",
      "execution_count": 133,
      "metadata": {
        "height": 166,
        "id": "4b205a40-0439-458f-80ba-99511e971cbf",
        "colab": {
          "base_uri": "https://localhost:8080/",
          "height": 180
        },
        "outputId": "6b0a9fe1-a018-4d6b-8e05-4adee4a9079c"
      },
      "outputs": [
        {
          "output_type": "error",
          "ename": "NameError",
          "evalue": "name 'first_chunk_info' is not defined",
          "traceback": [
            "\u001b[0;31m---------------------------------------------------------------------------\u001b[0m",
            "\u001b[0;31mNameError\u001b[0m                                 Traceback (most recent call last)",
            "\u001b[0;32m/tmp/ipython-input-133-1025453097.py\u001b[0m in \u001b[0;36m<cell line: 0>\u001b[0;34m()\u001b[0m\n\u001b[1;32m      6\u001b[0m \u001b[0;31m# pull the chunk ID from the first\u001b[0m\u001b[0;34m\u001b[0m\u001b[0;34m\u001b[0m\u001b[0m\n\u001b[1;32m      7\u001b[0m kg.query(cypher,\n\u001b[0;32m----> 8\u001b[0;31m          params={'chunkIdParam': first_chunk_info['chunkId']})\n\u001b[0m",
            "\u001b[0;31mNameError\u001b[0m: name 'first_chunk_info' is not defined"
          ]
        }
      ],
      "source": [
        "cypher = \"\"\"\n",
        "    MATCH window=(c1:Chunk)-[:NEXT]->(c2:Chunk)-[:NEXT]->(c3:Chunk)\n",
        "        WHERE c2.chunkId = $chunkIdParam\n",
        "    RETURN nodes(window) as chunkList\n",
        "    \"\"\"\n",
        "# pull the chunk ID from the first\n",
        "kg.query(cypher,\n",
        "         params={'chunkIdParam': first_chunk_info['chunkId']})\n"
      ]
    },
    {
      "cell_type": "markdown",
      "metadata": {
        "id": "58d9463d-d6ac-4a41-90bf-fde5ff83062f"
      },
      "source": [
        "- Modify `NEXT` relationship to have variable length"
      ]
    },
    {
      "cell_type": "code",
      "execution_count": null,
      "metadata": {
        "height": 166,
        "id": "10aa6d79-0891-45dd-bad1-f76587e2f6b8"
      },
      "outputs": [],
      "source": [
        "cypher = \"\"\"\n",
        "  MATCH window=\n",
        "      (:Chunk)-[:NEXT*0..1]->(c:Chunk)-[:NEXT*0..1]->(:Chunk)\n",
        "    WHERE c.chunkId = $chunkIdParam\n",
        "  RETURN length(window)\n",
        "  \"\"\"\n",
        "\n",
        "kg.query(cypher,\n",
        "         params={'chunkIdParam': first_chunk_info['chunkId']})"
      ]
    },
    {
      "cell_type": "markdown",
      "metadata": {
        "id": "9707a310-05c3-494b-ae5a-946aefcb9a29"
      },
      "source": [
        "- Retrieve only the longest path"
      ]
    },
    {
      "cell_type": "code",
      "execution_count": null,
      "metadata": {
        "height": 200,
        "id": "fb9a14f5-683e-49e7-a2b6-70942c29878c"
      },
      "outputs": [],
      "source": [
        "cypher = \"\"\"\n",
        "  MATCH window=\n",
        "      (:Chunk)-[:NEXT*0..1]->(c:Chunk)-[:NEXT*0..1]->(:Chunk)\n",
        "    WHERE c.chunkId = $chunkIdParam\n",
        "  WITH window as longestChunkWindow\n",
        "      ORDER BY length(window) DESC LIMIT 1\n",
        "  RETURN length(longestChunkWindow)\n",
        "  \"\"\"\n",
        "\n",
        "kg.query(cypher,\n",
        "         params={'chunkIdParam': first_chunk_info['chunkId']})"
      ]
    },
    {
      "cell_type": "markdown",
      "metadata": {
        "id": "87c9851b-7b82-4f9b-82cb-a61a41307867"
      },
      "source": [
        "### Customize the results of the similarity search using Cypher\n",
        "- Extend the vector store definition to accept a Cypher query\n",
        "- The Cypher query takes the results of the vector similarity search and then modifies them in some way\n",
        "- Start with a simple query that just returns some extra text along with the search results"
      ]
    },
    {
      "cell_type": "code",
      "execution_count": 111,
      "metadata": {
        "height": 115,
        "id": "6a4881ae-ceb9-4276-aeeb-02a246b2f24b"
      },
      "outputs": [],
      "source": [
        "retrieval_query_extra_text = \"\"\"\n",
        "WITH node, score, \"Andreas knows Cypher. \" as extraText\n",
        "RETURN extraText + \"\\n\" + node.text as text,\n",
        "    score,\n",
        "    node {.source} AS metadata\n",
        "\"\"\""
      ]
    },
    {
      "cell_type": "markdown",
      "metadata": {
        "id": "ab40c207-387a-4505-90f1-113ca9cf7336"
      },
      "source": [
        "- Set up the vector store to use the query, then instantiate a retriever and Question-Answer chain in LangChain\n"
      ]
    },
    {
      "cell_type": "code",
      "execution_count": 112,
      "metadata": {
        "height": 353,
        "id": "7416b649-4880-410e-a73b-3f8493bfa55d"
      },
      "outputs": [],
      "source": [
        "vector_store_extra_text = Neo4jVector.from_existing_index(\n",
        "    embedding=OpenAIEmbeddings(),\n",
        "    url=NEO4J_URI,\n",
        "    username=NEO4J_USERNAME,\n",
        "    password=NEO4J_PASSWORD,\n",
        "    database=\"neo4j\",\n",
        "    index_name=VECTOR_INDEX_NAME,\n",
        "    text_node_property=VECTOR_SOURCE_PROPERTY,\n",
        "    retrieval_query=retrieval_query_extra_text, # NEW !!!\n",
        ")\n",
        "\n",
        "# Create a retriever from the vector store\n",
        "retriever_extra_text = vector_store_extra_text.as_retriever()\n",
        "\n",
        "# Create a chatbot Question & Answer chain from the retriever\n",
        "chain_extra_text = RetrievalQAWithSourcesChain.from_chain_type(\n",
        "    ChatOpenAI(temperature=0),\n",
        "    chain_type=\"stuff\",\n",
        "    retriever=retriever_extra_text\n",
        ")"
      ]
    },
    {
      "cell_type": "markdown",
      "metadata": {
        "id": "23e83948-d718-4c46-8990-402151093bad"
      },
      "source": [
        "- Ask a question!"
      ]
    },
    {
      "cell_type": "code",
      "execution_count": 113,
      "metadata": {
        "height": 64,
        "id": "98072c4e-ee1d-47e8-9add-8cd6a52fa6d2",
        "colab": {
          "base_uri": "https://localhost:8080/",
          "height": 0
        },
        "outputId": "0f7848c7-4b91-43d5-9909-eeaac9a34895"
      },
      "outputs": [
        {
          "output_type": "execute_result",
          "data": {
            "text/plain": [
              "{'answer': 'Andreas knows about Cypher, workplace safety, environmental regulations, human capital, diversified customer base, enterprise storage, data management, cloud storage, cloud operations, partnerships, and global partner ecosystem.\\n',\n",
              " 'sources': 'SEC filing, https://www.sec.gov/Archives/edgar/data/1002047/000095017023027948/0000950170-23-027948-index.htm'}"
            ]
          },
          "metadata": {},
          "execution_count": 113
        }
      ],
      "source": [
        "chain_extra_text(\n",
        "    {\"question\": \"What topics does Andreas know about?\"},\n",
        "    return_only_outputs=True)"
      ]
    },
    {
      "cell_type": "markdown",
      "metadata": {
        "id": "d3118062-d7ed-4420-830c-75a7e10a403f"
      },
      "source": [
        "- Note, the LLM hallucinates here, using the information in the retrieved text as well as the extra text.\n",
        "- Modify the prompt to try and get a more accurate answer"
      ]
    },
    {
      "cell_type": "code",
      "execution_count": 114,
      "metadata": {
        "height": 64,
        "id": "c604b1bb-ab8d-4b53-ab83-1190c49357cd",
        "colab": {
          "base_uri": "https://localhost:8080/",
          "height": 0
        },
        "outputId": "cff4c663-ae60-489d-f208-4fd5d520734f"
      },
      "outputs": [
        {
          "output_type": "execute_result",
          "data": {
            "text/plain": [
              "{'answer': 'Andreas knows about Cypher.\\n', 'sources': 'SEC filing'}"
            ]
          },
          "metadata": {},
          "execution_count": 114
        }
      ],
      "source": [
        "chain_extra_text(\n",
        "    {\"question\": \"What single topic does Andreas know about?\"},\n",
        "    return_only_outputs=True)"
      ]
    },
    {
      "cell_type": "markdown",
      "metadata": {
        "id": "2b60499f-eee9-4d64-8e96-330bba8db7d2"
      },
      "source": [
        "### Try for yourself!\n",
        "- Modify the query below to add your own additional text\n",
        "- Try engineering the prompt to refine your results\n",
        "- Note, you'll need to reset the vector store, retriever, and chain each time you change the Cypher query."
      ]
    },
    {
      "cell_type": "code",
      "execution_count": 115,
      "metadata": {
        "height": 489,
        "id": "fd6a2db5-d451-42ba-9327-9bbb8ba22960"
      },
      "outputs": [],
      "source": [
        "# modify the retrieval extra text here then run the entire cell\n",
        "retrieval_query_extra_text = \"\"\"\n",
        "WITH node, score, \"Andreas knows Cypher. \" as extraText\n",
        "RETURN extraText + \"\\n\" + node.text as text,\n",
        "    score,\n",
        "    node {.source} AS metadata\n",
        "\"\"\"\n",
        "\n",
        "vector_store_extra_text = Neo4jVector.from_existing_index(\n",
        "    embedding=OpenAIEmbeddings(),\n",
        "    url=NEO4J_URI,\n",
        "    username=NEO4J_USERNAME,\n",
        "    password=NEO4J_PASSWORD,\n",
        "    database=\"neo4j\",\n",
        "    index_name=VECTOR_INDEX_NAME,\n",
        "    text_node_property=VECTOR_SOURCE_PROPERTY,\n",
        "    retrieval_query=retrieval_query_extra_text, # NEW !!!\n",
        ")\n",
        "\n",
        "# Create a retriever from the vector store\n",
        "retriever_extra_text = vector_store_extra_text.as_retriever()\n",
        "\n",
        "# Create a chatbot Question & Answer chain from the retriever\n",
        "chain_extra_text = RetrievalQAWithSourcesChain.from_chain_type(\n",
        "    ChatOpenAI(temperature=0),\n",
        "    chain_type=\"stuff\",\n",
        "    retriever=retriever_extra_text\n",
        ")"
      ]
    },
    {
      "cell_type": "markdown",
      "metadata": {
        "id": "e2bc49fa-4a7e-42e1-8703-bd455a4c0395"
      },
      "source": [
        "### Expand context around a chunk using a window\n",
        "- First, create a regular vector store that retrieves a single node"
      ]
    },
    {
      "cell_type": "code",
      "execution_count": 116,
      "metadata": {
        "height": 336,
        "id": "476e133e-86f1-45e3-90fb-0fba7bb638c6"
      },
      "outputs": [],
      "source": [
        "neo4j_vector_store = Neo4jVector.from_existing_graph(\n",
        "    embedding=OpenAIEmbeddings(),\n",
        "    url=NEO4J_URI,\n",
        "    username=NEO4J_USERNAME,\n",
        "    password=NEO4J_PASSWORD,\n",
        "    index_name=VECTOR_INDEX_NAME,\n",
        "    node_label=VECTOR_NODE_LABEL,\n",
        "    text_node_properties=[VECTOR_SOURCE_PROPERTY],\n",
        "    embedding_node_property=VECTOR_EMBEDDING_PROPERTY,\n",
        ")\n",
        "# Create a retriever from the vector store\n",
        "windowless_retriever = neo4j_vector_store.as_retriever()\n",
        "\n",
        "# Create a chatbot Question & Answer chain from the retriever\n",
        "windowless_chain = RetrievalQAWithSourcesChain.from_chain_type(\n",
        "    ChatOpenAI(temperature=0),\n",
        "    chain_type=\"stuff\",\n",
        "    retriever=windowless_retriever\n",
        ")"
      ]
    },
    {
      "cell_type": "markdown",
      "metadata": {
        "id": "a7002df5-aba8-4ae6-924e-8b8275cfc68d"
      },
      "source": [
        "- Next, define a window retrieval query to get consecutive chunks"
      ]
    },
    {
      "cell_type": "code",
      "execution_count": 117,
      "metadata": {
        "height": 234,
        "id": "a21b72a6-fb6d-4c10-856e-7b2b76384a52"
      },
      "outputs": [],
      "source": [
        "retrieval_query_window = \"\"\"\n",
        "MATCH window=\n",
        "    (:Chunk)-[:NEXT*0..1]->(node)-[:NEXT*0..1]->(:Chunk)\n",
        "WITH node, score, window as longestWindow\n",
        "  ORDER BY length(window) DESC LIMIT 1\n",
        "WITH nodes(longestWindow) as chunkList, node, score\n",
        "  UNWIND chunkList as chunkRows\n",
        "WITH collect(chunkRows.text) as textList, node, score\n",
        "RETURN apoc.text.join(textList, \" \\n \") as text,\n",
        "    score,\n",
        "    node {.source} AS metadata\n",
        "\"\"\"\n"
      ]
    },
    {
      "cell_type": "markdown",
      "metadata": {
        "id": "3bf302d0-ea5a-42c0-bf1c-7d51db79768b"
      },
      "source": [
        "- Set up a QA chain that will use the window retrieval query"
      ]
    },
    {
      "cell_type": "code",
      "execution_count": 118,
      "metadata": {
        "height": 353,
        "id": "1a326661-2bd4-47f6-be30-ce9c49d9515d"
      },
      "outputs": [],
      "source": [
        "vector_store_window = Neo4jVector.from_existing_index(\n",
        "    embedding=OpenAIEmbeddings(),\n",
        "    url=NEO4J_URI,\n",
        "    username=NEO4J_USERNAME,\n",
        "    password=NEO4J_PASSWORD,\n",
        "    database=\"neo4j\",\n",
        "    index_name=VECTOR_INDEX_NAME,\n",
        "    text_node_property=VECTOR_SOURCE_PROPERTY,\n",
        "    retrieval_query=retrieval_query_window, # NEW!!!\n",
        ")\n",
        "\n",
        "# Create a retriever from the vector store\n",
        "retriever_window = vector_store_window.as_retriever()\n",
        "\n",
        "# Create a chatbot Question & Answer chain from the retriever\n",
        "chain_window = RetrievalQAWithSourcesChain.from_chain_type(\n",
        "    ChatOpenAI(temperature=0),\n",
        "    chain_type=\"stuff\",\n",
        "    retriever=retriever_window\n",
        ")"
      ]
    },
    {
      "cell_type": "markdown",
      "metadata": {
        "id": "5c6d48a5-6a1e-4fff-a739-3bbbaf2879e0"
      },
      "source": [
        "### Compare the two chains"
      ]
    },
    {
      "cell_type": "code",
      "execution_count": 119,
      "metadata": {
        "height": 30,
        "id": "024dcfef-5101-48b3-b1ce-21aa8284f81d"
      },
      "outputs": [],
      "source": [
        "question = \"In a single sentence, tell me about Netapp's business.\""
      ]
    },
    {
      "cell_type": "code",
      "execution_count": 120,
      "metadata": {
        "height": 98,
        "id": "6f5115eb-eba1-4035-a91d-e47b7ed789e3",
        "colab": {
          "base_uri": "https://localhost:8080/",
          "height": 0
        },
        "outputId": "8ca74af5-6d38-454b-9b09-6cd5b0699d0c"
      },
      "outputs": [
        {
          "output_type": "stream",
          "name": "stdout",
          "text": [
            "NetApp is a global cloud-led, data-centric software company that\n",
            "provides customers the freedom to manage applications and data across\n",
            "hybrid multicloud environments, focusing on enterprise storage and\n",
            "data management, cloud storage, and cloud operations markets.\n"
          ]
        }
      ],
      "source": [
        "answer = windowless_chain(\n",
        "    {\"question\": question},\n",
        "    return_only_outputs=True,\n",
        ")\n",
        "print(textwrap.fill(answer[\"answer\"]))"
      ]
    },
    {
      "cell_type": "code",
      "execution_count": 121,
      "metadata": {
        "height": 98,
        "id": "9a1c4774-d131-4636-ae88-70c2ddd618b7",
        "colab": {
          "base_uri": "https://localhost:8080/",
          "height": 0
        },
        "outputId": "6ad4c663-c33d-4243-bced-d943b76defe9"
      },
      "outputs": [
        {
          "output_type": "stream",
          "name": "stdout",
          "text": [
            "NetApp is a global cloud-led, data-centric software company that\n",
            "provides customers with the freedom to manage applications and data\n",
            "across hybrid multicloud environments.\n"
          ]
        }
      ],
      "source": [
        "answer = chain_window(\n",
        "    {\"question\": question},\n",
        "    return_only_outputs=True,\n",
        ")\n",
        "print(textwrap.fill(answer[\"answer\"]))"
      ]
    },
    {
      "cell_type": "code",
      "source": [],
      "metadata": {
        "id": "9PFGgnBru7uU"
      },
      "execution_count": null,
      "outputs": []
    },
    {
      "cell_type": "markdown",
      "metadata": {
        "id": "4fee8a1a-242b-4853-9be2-46c19482eaf7"
      },
      "source": [
        "\n",
        "\n",
        "# Expanding the SEC Knowledge Graph"
      ]
    },
    {
      "cell_type": "markdown",
      "metadata": {
        "id": "7c376494-9d29-48fb-8333-24d7e6ab1e85"
      },
      "source": [
        "### Import packages and set up Neo4j"
      ]
    },
    {
      "cell_type": "code",
      "execution_count": 134,
      "metadata": {
        "height": 268,
        "id": "5fdde3df-66fc-42bc-80e8-fc8991e2775e"
      },
      "outputs": [],
      "source": [
        "from dotenv import load_dotenv\n",
        "import os\n",
        "import textwrap\n",
        "\n",
        "# Langchain\n",
        "from langchain_community.graphs import Neo4jGraph\n",
        "from langchain_community.vectorstores import Neo4jVector\n",
        "from langchain_openai import OpenAIEmbeddings\n",
        "from langchain.text_splitter import RecursiveCharacterTextSplitter\n",
        "from langchain.chains import RetrievalQAWithSourcesChain\n",
        "from langchain_openai import ChatOpenAI\n",
        "\n",
        "# Warning control\n",
        "import warnings\n",
        "warnings.filterwarnings(\"ignore\")"
      ]
    },
    {
      "cell_type": "code",
      "execution_count": 135,
      "metadata": {
        "height": 217,
        "id": "5c6884bf-0ccd-4be8-9843-5ad6a7d13279"
      },
      "outputs": [],
      "source": [
        "# Load from environment\n",
        "load_dotenv('.env', override=True)\n",
        "NEO4J_URI = os.getenv('NEO4J_URI')\n",
        "NEO4J_USERNAME = os.getenv('NEO4J_USERNAME')\n",
        "NEO4J_PASSWORD = os.getenv('NEO4J_PASSWORD')\n",
        "NEO4J_DATABASE = os.getenv('NEO4J_DATABASE') or 'neo4j'\n",
        "\n",
        "# Global constants\n",
        "VECTOR_INDEX_NAME = 'form_10k_chunks'\n",
        "VECTOR_NODE_LABEL = 'Chunk'\n",
        "VECTOR_SOURCE_PROPERTY = 'text'\n",
        "VECTOR_EMBEDDING_PROPERTY = 'textEmbedding'"
      ]
    },
    {
      "cell_type": "code",
      "execution_count": 136,
      "metadata": {
        "height": 115,
        "id": "c068179f-30ad-427c-a266-e4ed79494356"
      },
      "outputs": [],
      "source": [
        "kg = Neo4jGraph(\n",
        "    url=NEO4J_URI,\n",
        "    username=NEO4J_USERNAME,\n",
        "    password=NEO4J_PASSWORD,\n",
        "    database=NEO4J_DATABASE\n",
        ")"
      ]
    },
    {
      "cell_type": "markdown",
      "metadata": {
        "id": "c6b9dda8-0f99-43bd-8104-d29829862465"
      },
      "source": [
        "### Read the collection of Form 13s\n",
        "- Investment management firms must report on their investments in companies to the SEC by filing a document called **Form 13**\n",
        "- You'll load a collection of Form 13 for managers that have invested in NetApp\n",
        "- You can check out the CSV file by navigating to the data directory using the File menu at the top of the notebook"
      ]
    },
    {
      "cell_type": "code",
      "execution_count": 138,
      "metadata": {
        "height": 149,
        "id": "c741b665-aa5d-4650-8df6-9c43febbcdf5"
      },
      "outputs": [],
      "source": [
        "import csv\n",
        "\n",
        "all_form13s = []\n",
        "\n",
        "with open('/content/form13.csv', mode='r') as csv_file:\n",
        "    csv_reader = csv.DictReader(csv_file)\n",
        "    for row in csv_reader: # each row will be a dictionary\n",
        "      all_form13s.append(row)"
      ]
    },
    {
      "cell_type": "markdown",
      "metadata": {
        "id": "344c1290-5191-4a2a-9f3c-d714ae671362"
      },
      "source": [
        "- Look at the contents of the first 5 Form 13s"
      ]
    },
    {
      "cell_type": "code",
      "execution_count": 139,
      "metadata": {
        "height": 30,
        "id": "b09890e0-6e7b-445c-84dc-c988ec473fae",
        "colab": {
          "base_uri": "https://localhost:8080/",
          "height": 0
        },
        "outputId": "3cdad3a8-4c95-40c8-d50c-3edca636a109"
      },
      "outputs": [
        {
          "output_type": "execute_result",
          "data": {
            "text/plain": [
              "[{'source': 'https://sec.gov/Archives/edgar/data/1000275/0001140361-23-039575.txt',\n",
              "  'managerCik': '1000275',\n",
              "  'managerAddress': 'ROYAL BANK PLAZA, 200 BAY STREET, TORONTO, A6, M5J2J5',\n",
              "  'managerName': 'Royal Bank of Canada',\n",
              "  'reportCalendarOrQuarter': '2023-06-30',\n",
              "  'cusip6': '64110D',\n",
              "  'cusip': '64110D104',\n",
              "  'companyName': 'NETAPP INC',\n",
              "  'value': '64395000000.0',\n",
              "  'shares': '842850'},\n",
              " {'source': 'https://sec.gov/Archives/edgar/data/1002784/0001387131-23-009542.txt',\n",
              "  'managerCik': '1002784',\n",
              "  'managerAddress': '1875 Lawrence Street, Suite 300, Denver, CO, 80202-1805',\n",
              "  'managerName': 'SHELTON CAPITAL MANAGEMENT',\n",
              "  'reportCalendarOrQuarter': '2023-06-30',\n",
              "  'cusip6': '64110D',\n",
              "  'cusip': '64110D104',\n",
              "  'companyName': 'NETAPP INC',\n",
              "  'value': '2989085000.0',\n",
              "  'shares': '39124'},\n",
              " {'source': 'https://sec.gov/Archives/edgar/data/1007280/0001007280-23-000008.txt',\n",
              "  'managerCik': '1007280',\n",
              "  'managerAddress': '277 E TOWN ST, COLUMBUS, OH, 43215',\n",
              "  'managerName': 'PUBLIC EMPLOYEES RETIREMENT SYSTEM OF OHIO',\n",
              "  'reportCalendarOrQuarter': '2023-06-30',\n",
              "  'cusip6': '64110D',\n",
              "  'cusip': '64110D104',\n",
              "  'companyName': 'Netapp Inc',\n",
              "  'value': '8170000.0',\n",
              "  'shares': '106941'},\n",
              " {'source': 'https://sec.gov/Archives/edgar/data/1007399/0001007399-23-000004.txt',\n",
              "  'managerCik': '1007399',\n",
              "  'managerAddress': '150 WEST MAIN STREET, SUITE 1700, NORFOLK, VA, 23510',\n",
              "  'managerName': 'WILBANKS SMITH & THOMAS ASSET MANAGEMENT LLC',\n",
              "  'reportCalendarOrQuarter': '2023-06-30',\n",
              "  'cusip6': '64110D',\n",
              "  'cusip': '64110D104',\n",
              "  'companyName': 'NETAPP INC',\n",
              "  'value': '505539000.0',\n",
              "  'shares': '6617'},\n",
              " {'source': 'https://sec.gov/Archives/edgar/data/1008894/0001172661-23-003025.txt',\n",
              "  'managerCik': '1008894',\n",
              "  'managerAddress': '250 Park Avenue South, Suite 250, Winter Park, FL, 32789',\n",
              "  'managerName': 'DEPRINCE RACE & ZOLLO INC',\n",
              "  'reportCalendarOrQuarter': '2023-06-30',\n",
              "  'cusip6': '64110D',\n",
              "  'cusip': '64110D104',\n",
              "  'companyName': 'NETAPP INC',\n",
              "  'value': '24492389000.0',\n",
              "  'shares': '320581'}]"
            ]
          },
          "metadata": {},
          "execution_count": 139
        }
      ],
      "source": [
        "all_form13s[0:5]"
      ]
    },
    {
      "cell_type": "code",
      "execution_count": 140,
      "metadata": {
        "height": 30,
        "id": "8b443488-4815-4ed2-9927-132e3a625bfe",
        "colab": {
          "base_uri": "https://localhost:8080/",
          "height": 0
        },
        "outputId": "7a3c96c0-4dab-44b3-eaf5-7e00f6f1ecad"
      },
      "outputs": [
        {
          "output_type": "execute_result",
          "data": {
            "text/plain": [
              "561"
            ]
          },
          "metadata": {},
          "execution_count": 140
        }
      ],
      "source": [
        "len(all_form13s)"
      ]
    },
    {
      "cell_type": "markdown",
      "metadata": {
        "id": "dd216140-a6ef-4226-b73a-040fde03dc84"
      },
      "source": [
        "### Create company nodes in the graph\n",
        "- Use the companies identified in the Form 13s to create `Company` nodes\n",
        "- For now, there is only one company - NetApp"
      ]
    },
    {
      "cell_type": "code",
      "execution_count": 141,
      "metadata": {
        "height": 268,
        "id": "4e63a8f2-acbd-4ce1-b433-83cdbe0375bf",
        "colab": {
          "base_uri": "https://localhost:8080/",
          "height": 0
        },
        "outputId": "d5517caf-b50b-4119-d426-8beb815a26e9"
      },
      "outputs": [
        {
          "output_type": "execute_result",
          "data": {
            "text/plain": [
              "[]"
            ]
          },
          "metadata": {},
          "execution_count": 141
        }
      ],
      "source": [
        "# work with just the first form fow now\n",
        "first_form13 = all_form13s[0]\n",
        "\n",
        "cypher = \"\"\"\n",
        "MERGE (com:Company {cusip6: $cusip6})\n",
        "  ON CREATE\n",
        "    SET com.companyName = $companyName,\n",
        "        com.cusip = $cusip\n",
        "\"\"\"\n",
        "\n",
        "kg.query(cypher, params={\n",
        "    'cusip6':first_form13['cusip6'],\n",
        "    'companyName':first_form13['companyName'],\n",
        "    'cusip':first_form13['cusip']\n",
        "})"
      ]
    },
    {
      "cell_type": "code",
      "execution_count": 142,
      "metadata": {
        "height": 115,
        "id": "f48e6d64-b920-4738-8f4c-ce632dad923d",
        "colab": {
          "base_uri": "https://localhost:8080/",
          "height": 0
        },
        "outputId": "dd739a5d-d2e3-4604-8332-33f45714400b"
      },
      "outputs": [
        {
          "output_type": "execute_result",
          "data": {
            "text/plain": [
              "[{'com': {'cusip': '64110D104',\n",
              "   'companyName': 'NETAPP INC',\n",
              "   'cusip6': '64110D'}}]"
            ]
          },
          "metadata": {},
          "execution_count": 142
        }
      ],
      "source": [
        "cypher = \"\"\"\n",
        "MATCH (com:Company)\n",
        "RETURN com LIMIT 1\n",
        "\"\"\"\n",
        "\n",
        "kg.query(cypher)"
      ]
    },
    {
      "cell_type": "markdown",
      "metadata": {
        "id": "f472c370-8e7d-4970-ab18-dbfdf5d9a5d7"
      },
      "source": [
        "- Update the company name to match Form 10-K"
      ]
    },
    {
      "cell_type": "code",
      "execution_count": 143,
      "metadata": {
        "height": 132,
        "id": "de2b3422-6b82-4adc-8e18-1c3d195472b1",
        "colab": {
          "base_uri": "https://localhost:8080/",
          "height": 0
        },
        "outputId": "0b9e0613-a1e4-44e0-e03d-f734ca02529d"
      },
      "outputs": [
        {
          "output_type": "execute_result",
          "data": {
            "text/plain": [
              "[]"
            ]
          },
          "metadata": {},
          "execution_count": 143
        }
      ],
      "source": [
        "cypher = \"\"\"\n",
        "  MATCH (com:Company), (form:Form)\n",
        "    WHERE com.cusip6 = form.cusip6\n",
        "  RETURN com.companyName, form.names\n",
        "\"\"\"\n",
        "\n",
        "kg.query(cypher)"
      ]
    },
    {
      "cell_type": "code",
      "execution_count": 144,
      "metadata": {
        "height": 132,
        "id": "64422771-f6c4-4010-9691-eb42dc91df78",
        "colab": {
          "base_uri": "https://localhost:8080/",
          "height": 0
        },
        "outputId": "f481c01c-24c0-4bdc-893c-1357bc5c3fc4"
      },
      "outputs": [
        {
          "output_type": "execute_result",
          "data": {
            "text/plain": [
              "[]"
            ]
          },
          "metadata": {},
          "execution_count": 144
        }
      ],
      "source": [
        "cypher = \"\"\"\n",
        "  MATCH (com:Company), (form:Form)\n",
        "    WHERE com.cusip6 = form.cusip6\n",
        "  SET com.names = form.names\n",
        "\"\"\"\n",
        "\n",
        "kg.query(cypher)"
      ]
    },
    {
      "cell_type": "markdown",
      "metadata": {
        "id": "b7c24776-4951-423e-a6d6-054c4ea701d5"
      },
      "source": [
        "- Create a `FILED` relationship between the company and the Form-10K node"
      ]
    },
    {
      "cell_type": "code",
      "execution_count": 145,
      "metadata": {
        "height": 115,
        "id": "1b24cc9f-3b33-4e9d-aef3-c7fc9d79c10f",
        "colab": {
          "base_uri": "https://localhost:8080/",
          "height": 0
        },
        "outputId": "007db537-474e-4a03-a3a4-e0f3b8ace3f1"
      },
      "outputs": [
        {
          "output_type": "execute_result",
          "data": {
            "text/plain": [
              "[]"
            ]
          },
          "metadata": {},
          "execution_count": 145
        }
      ],
      "source": [
        "kg.query(\"\"\"\n",
        "  MATCH (com:Company), (form:Form)\n",
        "    WHERE com.cusip6 = form.cusip6\n",
        "  MERGE (com)-[:FILED]->(form)\n",
        "\"\"\")\n"
      ]
    },
    {
      "cell_type": "markdown",
      "metadata": {
        "id": "748c204e-fce1-402e-a5ce-6e48dda8d011"
      },
      "source": [
        "### Create manager nodes\n",
        "- Create a `manager` node for companies that have filed a Form 13 to report their investment in NetApp\n",
        "- Start with the single manager who filed the first Form 13 in the list"
      ]
    },
    {
      "cell_type": "code",
      "execution_count": 146,
      "metadata": {
        "height": 149,
        "id": "bd76c0f5-4ed6-43c3-8cc7-39ae1daa7f6e",
        "colab": {
          "base_uri": "https://localhost:8080/",
          "height": 0
        },
        "outputId": "e831f38f-e565-4887-9b02-13a1a2df68a1"
      },
      "outputs": [
        {
          "output_type": "execute_result",
          "data": {
            "text/plain": [
              "[]"
            ]
          },
          "metadata": {},
          "execution_count": 146
        }
      ],
      "source": [
        "cypher = \"\"\"\n",
        "  MERGE (mgr:Manager {managerCik: $managerParam.managerCik})\n",
        "    ON CREATE\n",
        "        SET mgr.managerName = $managerParam.managerName,\n",
        "            mgr.managerAddress = $managerParam.managerAddress\n",
        "\"\"\"\n",
        "\n",
        "kg.query(cypher, params={'managerParam': first_form13})"
      ]
    },
    {
      "cell_type": "code",
      "execution_count": 147,
      "metadata": {
        "height": 81,
        "id": "b88849f6-5965-48ca-9067-9882bcd5f816",
        "colab": {
          "base_uri": "https://localhost:8080/",
          "height": 0
        },
        "outputId": "2bb7a24b-e34c-4265-ea43-0b84efac0453"
      },
      "outputs": [
        {
          "output_type": "execute_result",
          "data": {
            "text/plain": [
              "[{'mgr': {'managerCik': '1000275',\n",
              "   'managerAddress': 'ROYAL BANK PLAZA, 200 BAY STREET, TORONTO, A6, M5J2J5',\n",
              "   'managerName': 'Royal Bank of Canada'}}]"
            ]
          },
          "metadata": {},
          "execution_count": 147
        }
      ],
      "source": [
        "kg.query(\"\"\"\n",
        "  MATCH (mgr:Manager)\n",
        "  RETURN mgr LIMIT 1\n",
        "\"\"\")"
      ]
    },
    {
      "cell_type": "markdown",
      "metadata": {
        "id": "fc86bd60-be9f-455f-9cea-c3fbd018d212"
      },
      "source": [
        "- Create a uniquness constraint to avoid duplicate managers"
      ]
    },
    {
      "cell_type": "code",
      "execution_count": 148,
      "metadata": {
        "height": 115,
        "id": "b39079fc-d49d-490d-ae33-189e3a56142e",
        "colab": {
          "base_uri": "https://localhost:8080/",
          "height": 0
        },
        "outputId": "9eee04a2-e3f1-4234-a849-3d37aafcc7a5"
      },
      "outputs": [
        {
          "output_type": "execute_result",
          "data": {
            "text/plain": [
              "[]"
            ]
          },
          "metadata": {},
          "execution_count": 148
        }
      ],
      "source": [
        "kg.query(\"\"\"\n",
        "CREATE CONSTRAINT unique_manager\n",
        "  IF NOT EXISTS\n",
        "  FOR (n:Manager)\n",
        "  REQUIRE n.managerCik IS UNIQUE\n",
        "\"\"\")"
      ]
    },
    {
      "cell_type": "markdown",
      "metadata": {
        "id": "39fd7e0d-d09f-46bb-b2c4-f952d68636c6"
      },
      "source": [
        "- Create a fulltext index of manager names to enable text search"
      ]
    },
    {
      "cell_type": "code",
      "execution_count": 149,
      "metadata": {
        "height": 132,
        "id": "8e5db369-9a6d-4cae-af40-5a4efee47f01",
        "colab": {
          "base_uri": "https://localhost:8080/",
          "height": 0
        },
        "outputId": "2ab16c84-7f07-4139-b5a3-83102a014ad3"
      },
      "outputs": [
        {
          "output_type": "execute_result",
          "data": {
            "text/plain": [
              "[]"
            ]
          },
          "metadata": {},
          "execution_count": 149
        }
      ],
      "source": [
        "kg.query(\"\"\"\n",
        "CREATE FULLTEXT INDEX fullTextManagerNames\n",
        "  IF NOT EXISTS\n",
        "  FOR (mgr:Manager)\n",
        "  ON EACH [mgr.managerName]\n",
        "\"\"\")\n"
      ]
    },
    {
      "cell_type": "code",
      "execution_count": 150,
      "metadata": {
        "height": 98,
        "id": "dd04b473-2ded-4efe-8b13-ba229c9d046f",
        "colab": {
          "base_uri": "https://localhost:8080/",
          "height": 0
        },
        "outputId": "cba53692-6630-4ef3-a6d7-6efc7b97aafb"
      },
      "outputs": [
        {
          "output_type": "execute_result",
          "data": {
            "text/plain": [
              "[{'node.managerName': 'Royal Bank of Canada', 'score': 0.2615291476249695}]"
            ]
          },
          "metadata": {},
          "execution_count": 150
        }
      ],
      "source": [
        "kg.query(\"\"\"\n",
        "  CALL db.index.fulltext.queryNodes(\"fullTextManagerNames\",\n",
        "      \"royal bank\") YIELD node, score\n",
        "  RETURN node.managerName, score\n",
        "\"\"\")"
      ]
    },
    {
      "cell_type": "markdown",
      "metadata": {
        "id": "df47dbc2-4929-4cda-8671-cbd727472bb3"
      },
      "source": [
        "- Create nodes for all companies that filed a Form 13"
      ]
    },
    {
      "cell_type": "code",
      "execution_count": 151,
      "metadata": {
        "height": 166,
        "id": "909eb642-92a9-4da4-8092-f3d0858243a0"
      },
      "outputs": [],
      "source": [
        "cypher = \"\"\"\n",
        "  MERGE (mgr:Manager {managerCik: $managerParam.managerCik})\n",
        "    ON CREATE\n",
        "        SET mgr.managerName = $managerParam.managerName,\n",
        "            mgr.managerAddress = $managerParam.managerAddress\n",
        "\"\"\"\n",
        "# loop through all Form 13s\n",
        "for form13 in all_form13s:\n",
        "  kg.query(cypher, params={'managerParam': form13 })"
      ]
    },
    {
      "cell_type": "code",
      "execution_count": 152,
      "metadata": {
        "height": 81,
        "id": "39b64c10-1baf-4f67-92a6-986a5040c010",
        "colab": {
          "base_uri": "https://localhost:8080/"
        },
        "outputId": "56be341b-6f98-4a54-a529-9cb29f6c5787"
      },
      "outputs": [
        {
          "output_type": "execute_result",
          "data": {
            "text/plain": [
              "[{'count(mgr)': 561}]"
            ]
          },
          "metadata": {},
          "execution_count": 152
        }
      ],
      "source": [
        "kg.query(\"\"\"\n",
        "    MATCH (mgr:Manager)\n",
        "    RETURN count(mgr)\n",
        "\"\"\")"
      ]
    },
    {
      "cell_type": "markdown",
      "metadata": {
        "id": "2a4d1b69-a78c-4bfe-9a71-23b889d3ad76"
      },
      "source": [
        "### Create relationships between managers and companies\n",
        "- Match companies with managers based on data in the Form 13\n",
        "- Create an `OWNS_STOCK_IN` relationship between the manager and the company\n",
        "- Start with the single manager who filed the first Form 13 in the list"
      ]
    },
    {
      "cell_type": "code",
      "execution_count": 153,
      "metadata": {
        "height": 166,
        "id": "fc00d1a0-62f8-4e8a-8422-b6b054537b33",
        "colab": {
          "base_uri": "https://localhost:8080/"
        },
        "outputId": "88ddd85e-bc15-4284-b7a0-2aa62858bf26"
      },
      "outputs": [
        {
          "output_type": "execute_result",
          "data": {
            "text/plain": [
              "[{'mgr.managerName': 'Royal Bank of Canada',\n",
              "  'com.companyName': 'NETAPP INC',\n",
              "  'investment': {'shares': '842850',\n",
              "   'source': 'https://sec.gov/Archives/edgar/data/1000275/0001140361-23-039575.txt',\n",
              "   'managerName': 'Royal Bank of Canada',\n",
              "   'managerAddress': 'ROYAL BANK PLAZA, 200 BAY STREET, TORONTO, A6, M5J2J5',\n",
              "   'value': '64395000000.0',\n",
              "   'cusip6': '64110D',\n",
              "   'cusip': '64110D104',\n",
              "   'reportCalendarOrQuarter': '2023-06-30',\n",
              "   'companyName': 'NETAPP INC',\n",
              "   'managerCik': '1000275'}}]"
            ]
          },
          "metadata": {},
          "execution_count": 153
        }
      ],
      "source": [
        "cypher = \"\"\"\n",
        "  MATCH (mgr:Manager {managerCik: $investmentParam.managerCik}),\n",
        "        (com:Company {cusip6: $investmentParam.cusip6})\n",
        "  RETURN mgr.managerName, com.companyName, $investmentParam as investment\n",
        "\"\"\"\n",
        "\n",
        "kg.query(cypher, params={\n",
        "    'investmentParam': first_form13\n",
        "})"
      ]
    },
    {
      "cell_type": "code",
      "execution_count": 154,
      "metadata": {
        "height": 234,
        "id": "9de36066-caa3-43e1-9bf8-3cfda9a1a9eb",
        "colab": {
          "base_uri": "https://localhost:8080/"
        },
        "outputId": "b6bc2287-b375-45a5-abce-10ec5b241b79"
      },
      "outputs": [
        {
          "output_type": "execute_result",
          "data": {
            "text/plain": [
              "[{'mgr.managerName': 'Royal Bank of Canada',\n",
              "  'owns.reportCalendarOrQuarter': '2023-06-30',\n",
              "  'com.companyName': 'NETAPP INC'}]"
            ]
          },
          "metadata": {},
          "execution_count": 154
        }
      ],
      "source": [
        "cypher = \"\"\"\n",
        "MATCH (mgr:Manager {managerCik: $ownsParam.managerCik}),\n",
        "        (com:Company {cusip6: $ownsParam.cusip6})\n",
        "MERGE (mgr)-[owns:OWNS_STOCK_IN {\n",
        "    reportCalendarOrQuarter: $ownsParam.reportCalendarOrQuarter\n",
        "}]->(com)\n",
        "ON CREATE\n",
        "    SET owns.value  = toFloat($ownsParam.value),\n",
        "        owns.shares = toInteger($ownsParam.shares)\n",
        "RETURN mgr.managerName, owns.reportCalendarOrQuarter, com.companyName\n",
        "\"\"\"\n",
        "\n",
        "kg.query(cypher, params={ 'ownsParam': first_form13 })"
      ]
    },
    {
      "cell_type": "code",
      "execution_count": 155,
      "metadata": {
        "height": 115,
        "id": "b6eca492-60ae-49b8-910e-fc462e0945fa",
        "colab": {
          "base_uri": "https://localhost:8080/"
        },
        "outputId": "db98fe84-1234-401b-cb4a-653ffe2a12f4"
      },
      "outputs": [
        {
          "output_type": "execute_result",
          "data": {
            "text/plain": [
              "[{'owns': {'shares': 842850, 'value': 64395000000.0}}]"
            ]
          },
          "metadata": {},
          "execution_count": 155
        }
      ],
      "source": [
        "kg.query(\"\"\"\n",
        "MATCH (mgr:Manager {managerCik: $ownsParam.managerCik})\n",
        "-[owns:OWNS_STOCK_IN]->\n",
        "        (com:Company {cusip6: $ownsParam.cusip6})\n",
        "RETURN owns { .shares, .value }\n",
        "\"\"\", params={ 'ownsParam': first_form13 })"
      ]
    },
    {
      "cell_type": "markdown",
      "metadata": {
        "id": "228516cd-9098-4ac5-89ed-868d2cb1d2ef"
      },
      "source": [
        "- Create relationships between all of the managers who filed Form 13s and the company"
      ]
    },
    {
      "cell_type": "code",
      "execution_count": 156,
      "metadata": {
        "height": 251,
        "id": "e54d0d1d-ddfe-410e-a1e2-9c652b248706"
      },
      "outputs": [],
      "source": [
        "cypher = \"\"\"\n",
        "MATCH (mgr:Manager {managerCik: $ownsParam.managerCik}),\n",
        "        (com:Company {cusip6: $ownsParam.cusip6})\n",
        "MERGE (mgr)-[owns:OWNS_STOCK_IN {\n",
        "    reportCalendarOrQuarter: $ownsParam.reportCalendarOrQuarter\n",
        "    }]->(com)\n",
        "  ON CREATE\n",
        "    SET owns.value  = toFloat($ownsParam.value),\n",
        "        owns.shares = toInteger($ownsParam.shares)\n",
        "\"\"\"\n",
        "\n",
        "#loop through all Form 13s\n",
        "for form13 in all_form13s:\n",
        "  kg.query(cypher, params={'ownsParam': form13 })"
      ]
    },
    {
      "cell_type": "code",
      "execution_count": 157,
      "metadata": {
        "height": 115,
        "id": "fcacbf4a-a588-46a8-8265-bbcd25b4312b",
        "colab": {
          "base_uri": "https://localhost:8080/"
        },
        "outputId": "0baf3219-cc40-48c4-bcff-feb98e9437b6"
      },
      "outputs": [
        {
          "output_type": "execute_result",
          "data": {
            "text/plain": [
              "[{'investments': 561}]"
            ]
          },
          "metadata": {},
          "execution_count": 157
        }
      ],
      "source": [
        "cypher = \"\"\"\n",
        "  MATCH (:Manager)-[owns:OWNS_STOCK_IN]->(:Company)\n",
        "  RETURN count(owns) as investments\n",
        "\"\"\"\n",
        "\n",
        "kg.query(cypher)"
      ]
    },
    {
      "cell_type": "code",
      "execution_count": 158,
      "metadata": {
        "height": 47,
        "id": "3db81fbe-f0c1-47cb-a8f3-7bb13e7db01d",
        "colab": {
          "base_uri": "https://localhost:8080/"
        },
        "outputId": "89d40898-de8b-4ba5-de09-c72bdac9e180"
      },
      "outputs": [
        {
          "output_type": "stream",
          "name": "stdout",
          "text": [
            "Node properties: Person {name: STRING, born: INTEGER} Movie\n",
            "{tagline: STRING, title: STRING, released: INTEGER,\n",
            "taglineEmbedding: LIST} Chunk {text: STRING, f10kItem:\n",
            "STRING, chunkSeqId: INTEGER, textEmbedding: LIST, cik:\n",
            "STRING, source: STRING, formId: STRING, cusip6: STRING,\n",
            "chunkId: STRING, names: STRING} Form {cik: STRING, source:\n",
            "STRING, formId: STRING, names: STRING, cusip6: STRING}\n",
            "Company {cusip: STRING, cusip6: STRING, companyName: STRING}\n",
            "Manager {managerName: STRING, managerCik: STRING,\n",
            "managerAddress: STRING} Relationship properties: ACTED_IN\n",
            "{roles: LIST} REVIEWED {summary: STRING, rating: INTEGER}\n",
            "SECTION {f10kItem: STRING} OWNS_STOCK_IN {shares: INTEGER,\n",
            "reportCalendarOrQuarter: STRING, value: FLOAT} The\n",
            "relationships: (:Person)-[:ACTED_IN]->(:Movie)\n",
            "(:Person)-[:DIRECTED]->(:Movie)\n",
            "(:Person)-[:PRODUCED]->(:Movie) (:Person)-[:WROTE]->(:Movie)\n",
            "(:Person)-[:FOLLOWS]->(:Person)\n",
            "(:Person)-[:REVIEWED]->(:Movie)\n",
            "(:Person)-[:WORKS_WITH]->(:Person)\n",
            "(:Chunk)-[:PART_OF]->(:Form) (:Form)-[:SECTION]->(:Chunk)\n",
            "(:Manager)-[:OWNS_STOCK_IN]->(:Company)\n"
          ]
        }
      ],
      "source": [
        "kg.refresh_schema()\n",
        "print(textwrap.fill(kg.schema, 60))"
      ]
    },
    {
      "cell_type": "markdown",
      "metadata": {
        "id": "80aab435-67f1-4d8f-a578-a099f25def94"
      },
      "source": [
        "### Determine the number of investors\n",
        "- Start by finding a form 10-K chunk, and save to use in subsequent queries"
      ]
    },
    {
      "cell_type": "code",
      "execution_count": 159,
      "metadata": {
        "height": 132,
        "id": "ac455645-f98c-4e91-ad8f-7ea555781613",
        "colab": {
          "base_uri": "https://localhost:8080/"
        },
        "outputId": "de3e6763-ee16-4e93-c3ee-58248fa578ff"
      },
      "outputs": [
        {
          "output_type": "stream",
          "name": "stdout",
          "text": [
            "[{'chunkId': 'grant_notice_extracted-Executive Name-chunk0000'}]\n"
          ]
        }
      ],
      "source": [
        "cypher = \"\"\"\n",
        "    MATCH (chunk:Chunk)\n",
        "    RETURN chunk.chunkId as chunkId LIMIT 1\n",
        "    \"\"\"\n",
        "\n",
        "chunk_rows = kg.query(cypher)\n",
        "print(chunk_rows)"
      ]
    },
    {
      "cell_type": "code",
      "execution_count": 160,
      "metadata": {
        "height": 47,
        "id": "d748b6e4-80c4-45d1-9afb-34381331f605",
        "colab": {
          "base_uri": "https://localhost:8080/"
        },
        "outputId": "c680c233-f798-460e-e629-6f7162510a48"
      },
      "outputs": [
        {
          "output_type": "stream",
          "name": "stdout",
          "text": [
            "{'chunkId': 'grant_notice_extracted-Executive Name-chunk0000'}\n"
          ]
        }
      ],
      "source": [
        "chunk_first_row = chunk_rows[0]\n",
        "print(chunk_first_row)"
      ]
    },
    {
      "cell_type": "code",
      "execution_count": 161,
      "metadata": {
        "height": 47,
        "id": "09aeb04f-98ac-4939-9ad4-4caa85ef97af",
        "colab": {
          "base_uri": "https://localhost:8080/",
          "height": 35
        },
        "outputId": "17acdef6-27e6-432b-b1ed-e8442ea3e892"
      },
      "outputs": [
        {
          "output_type": "execute_result",
          "data": {
            "text/plain": [
              "'grant_notice_extracted-Executive Name-chunk0000'"
            ],
            "application/vnd.google.colaboratory.intrinsic+json": {
              "type": "string"
            }
          },
          "metadata": {},
          "execution_count": 161
        }
      ],
      "source": [
        "ref_chunk_id = chunk_first_row['chunkId']\n",
        "ref_chunk_id"
      ]
    },
    {
      "cell_type": "markdown",
      "metadata": {
        "id": "776dbdac-23c8-4a39-954e-4eed8f2525a4"
      },
      "source": [
        "- Build up path from Form 10-K chunk to companies and managers"
      ]
    },
    {
      "cell_type": "code",
      "execution_count": 162,
      "metadata": {
        "height": 115,
        "id": "d40f129d-750d-4f7f-be88-eb45281c534b",
        "colab": {
          "base_uri": "https://localhost:8080/"
        },
        "outputId": "1bb7d91b-e45b-49c3-8a66-87a8a152c6ea"
      },
      "outputs": [
        {
          "output_type": "execute_result",
          "data": {
            "text/plain": [
              "[{'f.source': 'SEC filing'}]"
            ]
          },
          "metadata": {},
          "execution_count": 162
        }
      ],
      "source": [
        "cypher = \"\"\"\n",
        "    MATCH (:Chunk {chunkId: $chunkIdParam})-[:PART_OF]->(f:Form)\n",
        "    RETURN f.source\n",
        "    \"\"\"\n",
        "\n",
        "kg.query(cypher, params={'chunkIdParam': ref_chunk_id})"
      ]
    },
    {
      "cell_type": "code",
      "execution_count": 163,
      "metadata": {
        "height": 132,
        "id": "342246fa-715f-4078-90db-200d33232046",
        "colab": {
          "base_uri": "https://localhost:8080/"
        },
        "outputId": "e1da3381-f847-4396-ab92-872c84bf8a6c"
      },
      "outputs": [
        {
          "output_type": "execute_result",
          "data": {
            "text/plain": [
              "[]"
            ]
          },
          "metadata": {},
          "execution_count": 163
        }
      ],
      "source": [
        "cypher = \"\"\"\n",
        "MATCH (:Chunk {chunkId: $chunkIdParam})-[:PART_OF]->(f:Form),\n",
        "    (com:Company)-[:FILED]->(f)\n",
        "RETURN com.companyName as name\n",
        "\"\"\"\n",
        "\n",
        "kg.query(cypher, params={'chunkIdParam': ref_chunk_id})"
      ]
    },
    {
      "cell_type": "code",
      "execution_count": 164,
      "metadata": {
        "height": 217,
        "id": "8e2905fc-0d74-43e0-87c7-62d181b1703d",
        "colab": {
          "base_uri": "https://localhost:8080/"
        },
        "outputId": "c3d5252e-2855-436c-c4f7-6e6dde1f487c"
      },
      "outputs": [
        {
          "output_type": "execute_result",
          "data": {
            "text/plain": [
              "[]"
            ]
          },
          "metadata": {},
          "execution_count": 164
        }
      ],
      "source": [
        "cypher = \"\"\"\n",
        "MATCH (:Chunk {chunkId: $chunkIdParam})-[:PART_OF]->(f:Form),\n",
        "        (com:Company)-[:FILED]->(f),\n",
        "        (mgr:Manager)-[:OWNS_STOCK_IN]->(com)\n",
        "RETURN com.companyName,\n",
        "        count(mgr.managerName) as numberOfinvestors\n",
        "LIMIT 1\n",
        "\"\"\"\n",
        "\n",
        "kg.query(cypher, params={\n",
        "    'chunkIdParam': ref_chunk_id\n",
        "})"
      ]
    },
    {
      "cell_type": "markdown",
      "metadata": {
        "id": "6414d691-ac43-4405-bb34-9d9a00ca7517"
      },
      "source": [
        "### Use queries to build additional context for LLM\n",
        "- Create sentences that indicate how much stock a manager has invested in a company"
      ]
    },
    {
      "cell_type": "code",
      "execution_count": 165,
      "metadata": {
        "height": 234,
        "id": "37b91f15-2ea2-42f3-8847-04b9d7b07c07",
        "colab": {
          "base_uri": "https://localhost:8080/"
        },
        "outputId": "2030d4a0-d31f-437d-bc74-09f914bae800"
      },
      "outputs": [
        {
          "output_type": "execute_result",
          "data": {
            "text/plain": [
              "[]"
            ]
          },
          "metadata": {},
          "execution_count": 165
        }
      ],
      "source": [
        "cypher = \"\"\"\n",
        "    MATCH (:Chunk {chunkId: $chunkIdParam})-[:PART_OF]->(f:Form),\n",
        "        (com:Company)-[:FILED]->(f),\n",
        "        (mgr:Manager)-[owns:OWNS_STOCK_IN]->(com)\n",
        "    RETURN mgr.managerName + \" owns \" + owns.shares +\n",
        "        \" shares of \" + com.companyName +\n",
        "        \" at a value of $\" +\n",
        "        apoc.number.format(toInteger(owns.value)) AS text\n",
        "    LIMIT 10\n",
        "    \"\"\"\n",
        "kg.query(cypher, params={\n",
        "    'chunkIdParam': ref_chunk_id\n",
        "})"
      ]
    },
    {
      "cell_type": "code",
      "execution_count": null,
      "metadata": {
        "height": 81,
        "id": "6b097f06-8189-4a4a-ae62-05be79416433"
      },
      "outputs": [],
      "source": [
        "results = kg.query(cypher, params={\n",
        "    'chunkIdParam': ref_chunk_id\n",
        "})\n",
        "print(textwrap.fill(results[0]['text'], 60))"
      ]
    },
    {
      "cell_type": "markdown",
      "metadata": {
        "id": "9d53fdf0-45e1-4b9b-aea0-20207226083d"
      },
      "source": [
        "- Create a plain Question Answer chain\n",
        "- Similarity search only, no augmentation by Cypher Query"
      ]
    },
    {
      "cell_type": "code",
      "execution_count": 168,
      "metadata": {
        "height": 336,
        "id": "91118de7-4e4a-43a8-894b-02bb3373f489"
      },
      "outputs": [],
      "source": [
        "vector_store = Neo4jVector.from_existing_graph(\n",
        "    embedding=OpenAIEmbeddings(),\n",
        "    url=NEO4J_URI,\n",
        "    username=NEO4J_USERNAME,\n",
        "    password=NEO4J_PASSWORD,\n",
        "    index_name=VECTOR_INDEX_NAME,\n",
        "    node_label=VECTOR_NODE_LABEL,\n",
        "    text_node_properties=[VECTOR_SOURCE_PROPERTY],\n",
        "    embedding_node_property=VECTOR_EMBEDDING_PROPERTY,\n",
        ")\n",
        "# Create a retriever from the vector store\n",
        "retriever = vector_store.as_retriever()\n",
        "\n",
        "# Create a chatbot Question & Answer chain from the retriever\n",
        "plain_chain = RetrievalQAWithSourcesChain.from_chain_type(\n",
        "    ChatOpenAI(temperature=0),\n",
        "    chain_type=\"stuff\",\n",
        "    retriever=retriever\n",
        ")"
      ]
    },
    {
      "cell_type": "markdown",
      "metadata": {
        "id": "1e45bc34-b611-46bc-8da1-8d0df506dbd4"
      },
      "source": [
        "- Create a second QA chain\n",
        "- Augment similarity search using sentences found by the investment query above"
      ]
    },
    {
      "cell_type": "code",
      "execution_count": 169,
      "metadata": {
        "height": 353,
        "id": "17067dee-df9e-4c9c-b2c8-b566aba4ccaf"
      },
      "outputs": [],
      "source": [
        "investment_retrieval_query = \"\"\"\n",
        "MATCH (node)-[:PART_OF]->(f:Form),\n",
        "    (f)<-[:FILED]-(com:Company),\n",
        "    (com)<-[owns:OWNS_STOCK_IN]-(mgr:Manager)\n",
        "WITH node, score, mgr, owns, com\n",
        "    ORDER BY owns.shares DESC LIMIT 10\n",
        "WITH collect (\n",
        "    mgr.managerName +\n",
        "    \" owns \" + owns.shares +\n",
        "    \" shares in \" + com.companyName +\n",
        "    \" at a value of $\" +\n",
        "    apoc.number.format(toInteger(owns.value)) + \".\"\n",
        ") AS investment_statements, node, score\n",
        "RETURN apoc.text.join(investment_statements, \"\\n\") +\n",
        "    \"\\n\" + node.text AS text,\n",
        "    score,\n",
        "    {\n",
        "      source: node.source\n",
        "    } as metadata\n",
        "\"\"\""
      ]
    },
    {
      "cell_type": "code",
      "execution_count": 170,
      "metadata": {
        "height": 353,
        "id": "fc9217cc-8014-43d6-97b2-63b4305e30bb"
      },
      "outputs": [],
      "source": [
        "vector_store_with_investment = Neo4jVector.from_existing_index(\n",
        "    OpenAIEmbeddings(),\n",
        "    url=NEO4J_URI,\n",
        "    username=NEO4J_USERNAME,\n",
        "    password=NEO4J_PASSWORD,\n",
        "    database=\"neo4j\",\n",
        "    index_name=VECTOR_INDEX_NAME,\n",
        "    text_node_property=VECTOR_SOURCE_PROPERTY,\n",
        "    retrieval_query=investment_retrieval_query,\n",
        ")\n",
        "\n",
        "# Create a retriever from the vector store\n",
        "retriever_with_investments = vector_store_with_investment.as_retriever()\n",
        "\n",
        "# Create a chatbot Question & Answer chain from the retriever\n",
        "investment_chain = RetrievalQAWithSourcesChain.from_chain_type(\n",
        "    ChatOpenAI(temperature=0),\n",
        "    chain_type=\"stuff\",\n",
        "    retriever=retriever_with_investments\n",
        ")"
      ]
    },
    {
      "cell_type": "markdown",
      "metadata": {
        "id": "5f76e2e5-f3ea-4add-85b1-1cabc92819ef"
      },
      "source": [
        "- Compare the outputs!"
      ]
    },
    {
      "cell_type": "code",
      "execution_count": 171,
      "metadata": {
        "height": 30,
        "id": "671a54ec-f7e8-4072-b275-414e5d3c1e6e"
      },
      "outputs": [],
      "source": [
        "question = \"In a single sentence, tell me about Netapp.\""
      ]
    },
    {
      "cell_type": "code",
      "execution_count": 172,
      "metadata": {
        "height": 81,
        "id": "5d441aba-971d-4d71-9add-6e2321b40d2a",
        "colab": {
          "base_uri": "https://localhost:8080/"
        },
        "outputId": "210560cf-3372-47fa-e83a-ad317744400d"
      },
      "outputs": [
        {
          "output_type": "execute_result",
          "data": {
            "text/plain": [
              "{'answer': 'NetApp is a global cloud-led, data-centric software company that provides customers with the freedom to manage applications and data across hybrid multicloud environments. \\n',\n",
              " 'sources': 'https://www.sec.gov/Archives/edgar/data/1002047/000095017023027948/0000950170-23-027948-index.htm'}"
            ]
          },
          "metadata": {},
          "execution_count": 172
        }
      ],
      "source": [
        "plain_chain(\n",
        "    {\"question\": question},\n",
        "    return_only_outputs=True,\n",
        ")"
      ]
    },
    {
      "cell_type": "code",
      "execution_count": 173,
      "metadata": {
        "height": 81,
        "id": "72816577-b60e-4368-9c8f-7ba54866d79b",
        "colab": {
          "base_uri": "https://localhost:8080/"
        },
        "outputId": "cd106201-5c17-40c2-e2ba-92fb45c1e632"
      },
      "outputs": [
        {
          "output_type": "execute_result",
          "data": {
            "text/plain": [
              "{'answer': \"I don't know.\\n\", 'sources': ''}"
            ]
          },
          "metadata": {},
          "execution_count": 173
        }
      ],
      "source": [
        "investment_chain(\n",
        "    {\"question\": question},\n",
        "    return_only_outputs=True,\n",
        ")"
      ]
    },
    {
      "cell_type": "markdown",
      "metadata": {
        "id": "a29ea42c-9aef-44aa-b1e2-37edce12aad2"
      },
      "source": [
        "- The LLM didn't make use of the investor information since the question didn't ask about investors\n",
        "- Change the question and ask again"
      ]
    },
    {
      "cell_type": "code",
      "execution_count": 174,
      "metadata": {
        "height": 30,
        "id": "106dfca9-869d-4f55-8d23-1090c496bf92"
      },
      "outputs": [],
      "source": [
        "question = \"In a single sentence, tell me about Netapp investors.\""
      ]
    },
    {
      "cell_type": "code",
      "execution_count": 175,
      "metadata": {
        "height": 81,
        "id": "b5e286f5-b6ec-44a7-8f55-4f35771fbfaa",
        "colab": {
          "base_uri": "https://localhost:8080/"
        },
        "outputId": "87a9cdf5-09c3-4775-b33a-4dc5fef47009"
      },
      "outputs": [
        {
          "output_type": "execute_result",
          "data": {
            "text/plain": [
              "{'answer': 'Netapp investors are a diversified group that includes global enterprises, local businesses, and government installations who look to NetApp and its ecosystem of partners to help maximize the business value of their IT and cloud investments.\\n',\n",
              " 'sources': 'https://www.sec.gov/Archives/edgar/data/1002047/000095017023027948/0000950170-23-027948-index.htm'}"
            ]
          },
          "metadata": {},
          "execution_count": 175
        }
      ],
      "source": [
        "plain_chain(\n",
        "    {\"question\": question},\n",
        "    return_only_outputs=True,\n",
        ")"
      ]
    },
    {
      "cell_type": "code",
      "execution_count": 176,
      "metadata": {
        "height": 81,
        "id": "b50849ac-d68a-410c-afda-3613dd195a19",
        "colab": {
          "base_uri": "https://localhost:8080/"
        },
        "outputId": "a55a62af-79b5-42ac-a340-a83f907466e0"
      },
      "outputs": [
        {
          "output_type": "execute_result",
          "data": {
            "text/plain": [
              "{'answer': \"I don't know. \\n\", 'sources': ''}"
            ]
          },
          "metadata": {},
          "execution_count": 176
        }
      ],
      "source": [
        "investment_chain(\n",
        "    {\"question\": question},\n",
        "    return_only_outputs=True,\n",
        ")"
      ]
    },
    {
      "cell_type": "markdown",
      "metadata": {
        "id": "f02b3fdc-f679-42ea-b90a-9792766ea04a"
      },
      "source": [
        "### Try for yourself\n",
        "\n",
        "- Try changing the query above to retrieve other information\n",
        "- Try asking different questions\n",
        "- Note, if you change the Cypher query, you'll need to reset the retriever and QA chain"
      ]
    },
    {
      "cell_type": "markdown",
      "metadata": {
        "id": "accc805b-b661-441c-b1f8-6dd0a933a762"
      },
      "source": [
        "# Chatting with the SEC Knowledge Graph"
      ]
    },
    {
      "cell_type": "markdown",
      "metadata": {
        "id": "d5c5869a-656e-4eae-8d12-594cbf5c970d"
      },
      "source": [
        "<p style=\"background-color:#fd4a6180; padding:15px; margin-left:20px\"> <b>Note:</b> This notebook takes about 30 seconds to be ready to use. Please wait until the \"Kernel starting, please wait...\" message clears from the top of the notebook before running any cells. You may start the video while you wait.</p>"
      ]
    },
    {
      "cell_type": "markdown",
      "metadata": {
        "id": "2773ac88-78f8-4062-b468-a47e4d382652"
      },
      "source": [
        "### Import packages and set up Neo4j"
      ]
    },
    {
      "cell_type": "code",
      "execution_count": 177,
      "metadata": {
        "height": 302,
        "id": "efbb9a0a-59f4-4bf9-8186-4af17ae951dc"
      },
      "outputs": [],
      "source": [
        "from dotenv import load_dotenv\n",
        "import os\n",
        "\n",
        "import textwrap\n",
        "\n",
        "# Langchain\n",
        "from langchain_community.graphs import Neo4jGraph\n",
        "from langchain_community.vectorstores import Neo4jVector\n",
        "from langchain_openai import OpenAIEmbeddings\n",
        "from langchain.chains import RetrievalQAWithSourcesChain\n",
        "from langchain.prompts.prompt import PromptTemplate\n",
        "from langchain.chains import GraphCypherQAChain\n",
        "from langchain_openai import ChatOpenAI\n",
        "\n",
        "# Warning control\n",
        "import warnings\n",
        "warnings.filterwarnings(\"ignore\")"
      ]
    },
    {
      "cell_type": "code",
      "execution_count": 179,
      "metadata": {
        "height": 319,
        "id": "0ff1dead-df1d-4e59-a3c1-42056a4ba091"
      },
      "outputs": [],
      "source": [
        "from dotenv import load_dotenv\n",
        "import os\n",
        "\n",
        "# Load from environment\n",
        "load_dotenv('.env', override=True)\n",
        "NEO4J_URI = os.getenv('NEO4J_URI')\n",
        "NEO4J_USERNAME = os.getenv('NEO4J_USERNAME')\n",
        "NEO4J_PASSWORD = os.getenv('NEO4J_PASSWORD')\n",
        "NEO4J_DATABASE = os.getenv('NEO4J_DATABASE') or 'neo4j'\n",
        "OPENAI_API_KEY = os.getenv('OPENAI_API_KEY')\n",
        "\n",
        "# Global constants\n",
        "VECTOR_INDEX_NAME = 'form_10k_chunks'\n",
        "VECTOR_NODE_LABEL = 'Chunk'\n",
        "VECTOR_SOURCE_PROPERTY = 'text'\n",
        "VECTOR_EMBEDDING_PROPERTY = 'textEmbedding'\n"
      ]
    },
    {
      "cell_type": "code",
      "execution_count": 180,
      "metadata": {
        "height": 64,
        "id": "4cf9637c-76f9-4d52-894b-4f01233055d5"
      },
      "outputs": [],
      "source": [
        "kg = Neo4jGraph(\n",
        "    url=NEO4J_URI, username=NEO4J_USERNAME, password=NEO4J_PASSWORD, database=NEO4J_DATABASE\n",
        ")"
      ]
    },
    {
      "cell_type": "markdown",
      "metadata": {
        "id": "b783aaff-4042-4254-ad79-b87886dc6541"
      },
      "source": [
        "### Explore the updated SEC documents graph\n",
        "In this lesson, you'll be working with an updated graph that also includes the address information discussed in the video\n",
        "- Some outputs below may differ slightly from the video\n",
        "- Start by checking the schema of the graph"
      ]
    },
    {
      "cell_type": "code",
      "execution_count": 181,
      "metadata": {
        "height": 47,
        "id": "48dfcba0-9d4c-49c3-87b8-9b9fb4b96c67",
        "colab": {
          "base_uri": "https://localhost:8080/"
        },
        "outputId": "88d27586-23d9-4f47-b768-5e7c3997ff8b"
      },
      "outputs": [
        {
          "output_type": "stream",
          "name": "stdout",
          "text": [
            "Node properties: Person {name: STRING, born: INTEGER} Movie\n",
            "{tagline: STRING, title: STRING, released: INTEGER,\n",
            "taglineEmbedding: LIST} Chunk {text: STRING, f10kItem:\n",
            "STRING, chunkSeqId: INTEGER, textEmbedding: LIST, cik:\n",
            "STRING, source: STRING, formId: STRING, cusip6: STRING,\n",
            "chunkId: STRING, names: STRING} Form {cik: STRING, source:\n",
            "STRING, formId: STRING, names: STRING, cusip6: STRING}\n",
            "Company {cusip: STRING, cusip6: STRING, companyName: STRING}\n",
            "Manager {managerName: STRING, managerCik: STRING,\n",
            "managerAddress: STRING} Relationship properties: ACTED_IN\n",
            "{roles: LIST} REVIEWED {summary: STRING, rating: INTEGER}\n",
            "SECTION {f10kItem: STRING} OWNS_STOCK_IN {shares: INTEGER,\n",
            "reportCalendarOrQuarter: STRING, value: FLOAT} The\n",
            "relationships: (:Person)-[:ACTED_IN]->(:Movie)\n",
            "(:Person)-[:DIRECTED]->(:Movie)\n",
            "(:Person)-[:PRODUCED]->(:Movie) (:Person)-[:WROTE]->(:Movie)\n",
            "(:Person)-[:FOLLOWS]->(:Person)\n",
            "(:Person)-[:REVIEWED]->(:Movie)\n",
            "(:Person)-[:WORKS_WITH]->(:Person)\n",
            "(:Chunk)-[:PART_OF]->(:Form) (:Form)-[:SECTION]->(:Chunk)\n",
            "(:Manager)-[:OWNS_STOCK_IN]->(:Company)\n"
          ]
        }
      ],
      "source": [
        "kg.refresh_schema()\n",
        "print(textwrap.fill(kg.schema, 60))"
      ]
    },
    {
      "cell_type": "markdown",
      "metadata": {
        "id": "7121c96c-a5dc-4d91-b45f-e5aa53a4b4d7"
      },
      "source": [
        "- Check the address of a random Manager\n",
        "- Note: the company returned by the following query may differ from the one in the video"
      ]
    },
    {
      "cell_type": "code",
      "execution_count": 182,
      "metadata": {
        "height": 98,
        "id": "6c50f182-f654-4684-b8e7-8cd6f1db1668",
        "colab": {
          "base_uri": "https://localhost:8080/"
        },
        "outputId": "d450b734-9270-4c62-f3c6-adbc4d42805c"
      },
      "outputs": [
        {
          "output_type": "execute_result",
          "data": {
            "text/plain": [
              "[]"
            ]
          },
          "metadata": {},
          "execution_count": 182
        }
      ],
      "source": [
        "kg.query(\"\"\"\n",
        "MATCH (mgr:Manager)-[:LOCATED_AT]->(addr:Address)\n",
        "RETURN mgr, addr\n",
        "LIMIT 1\n",
        "\"\"\")"
      ]
    },
    {
      "cell_type": "markdown",
      "metadata": {
        "id": "36877ab6-7d35-4da0-9934-a45b8f76a770"
      },
      "source": [
        "- Full text search for a manager named Royal Bank"
      ]
    },
    {
      "cell_type": "code",
      "execution_count": 183,
      "metadata": {
        "height": 115,
        "id": "bd26162c-10f8-4cfe-bc47-a63b1f169fd2",
        "colab": {
          "base_uri": "https://localhost:8080/"
        },
        "outputId": "06955e9d-715e-4773-bdda-b80c9230fc57"
      },
      "outputs": [
        {
          "output_type": "execute_result",
          "data": {
            "text/plain": [
              "[{'node.managerName': 'Royal Bank of Canada', 'score': 3.7019896507263184}]"
            ]
          },
          "metadata": {},
          "execution_count": 183
        }
      ],
      "source": [
        "kg.query(\"\"\"\n",
        "  CALL db.index.fulltext.queryNodes(\n",
        "         \"fullTextManagerNames\",\n",
        "         \"royal bank\") YIELD node, score\n",
        "  RETURN node.managerName, score LIMIT 1\n",
        "\"\"\")"
      ]
    },
    {
      "cell_type": "markdown",
      "metadata": {
        "id": "616a7e3a-fd38-4168-9591-102718687635"
      },
      "source": [
        "- Find location of Royal Bank"
      ]
    },
    {
      "cell_type": "code",
      "execution_count": 184,
      "metadata": {
        "height": 166,
        "id": "fea0438a-e0bd-4a5a-8e74-7b7a923718b5",
        "colab": {
          "base_uri": "https://localhost:8080/"
        },
        "outputId": "84b3b346-6b05-41ff-a03d-7d5aa56eefc2"
      },
      "outputs": [
        {
          "output_type": "execute_result",
          "data": {
            "text/plain": [
              "[]"
            ]
          },
          "metadata": {},
          "execution_count": 184
        }
      ],
      "source": [
        "kg.query(\"\"\"\n",
        "CALL db.index.fulltext.queryNodes(\n",
        "         \"fullTextManagerNames\",\n",
        "         \"royal bank\"\n",
        "  ) YIELD node, score\n",
        "WITH node as mgr LIMIT 1\n",
        "MATCH (mgr:Manager)-[:LOCATED_AT]->(addr:Address)\n",
        "RETURN mgr.managerName, addr\n",
        "\"\"\")"
      ]
    },
    {
      "cell_type": "markdown",
      "metadata": {
        "id": "5a2d0f56-0131-4e07-b2c1-e2ecb0075aa5"
      },
      "source": [
        "- Determine which state has the most investment firms"
      ]
    },
    {
      "cell_type": "code",
      "execution_count": 185,
      "metadata": {
        "height": 115,
        "id": "b0840ff4-c451-4e40-a4fc-18642d452afb",
        "colab": {
          "base_uri": "https://localhost:8080/"
        },
        "outputId": "3c682f4f-c3c9-4f11-c2d2-8efa2d361727"
      },
      "outputs": [
        {
          "output_type": "execute_result",
          "data": {
            "text/plain": [
              "[]"
            ]
          },
          "metadata": {},
          "execution_count": 185
        }
      ],
      "source": [
        "kg.query(\"\"\"\n",
        "  MATCH p=(:Manager)-[:LOCATED_AT]->(address:Address)\n",
        "  RETURN address.state as state, count(address.state) as numManagers\n",
        "    ORDER BY numManagers DESC\n",
        "    LIMIT 10\n",
        "\"\"\")"
      ]
    },
    {
      "cell_type": "markdown",
      "metadata": {
        "id": "79c150e6-76bb-416f-aa39-393ac250ce5f"
      },
      "source": [
        "- Determine which state has the most companies"
      ]
    },
    {
      "cell_type": "code",
      "execution_count": 186,
      "metadata": {
        "height": 98,
        "id": "8696d17b-7f0d-4f67-b3e8-34c8dc04cb3e",
        "colab": {
          "base_uri": "https://localhost:8080/"
        },
        "outputId": "72d61465-ebd1-42d7-a7df-e574f8fab060"
      },
      "outputs": [
        {
          "output_type": "execute_result",
          "data": {
            "text/plain": [
              "[]"
            ]
          },
          "metadata": {},
          "execution_count": 186
        }
      ],
      "source": [
        "kg.query(\"\"\"\n",
        "  MATCH p=(:Company)-[:LOCATED_AT]->(address:Address)\n",
        "  RETURN address.state as state, count(address.state) as numCompanies\n",
        "    ORDER BY numCompanies DESC\n",
        "\"\"\")"
      ]
    },
    {
      "cell_type": "markdown",
      "metadata": {
        "id": "f700c3f8-b0b1-42b2-a292-41b92784d027"
      },
      "source": [
        "- What are the cities in California with the most investment firms?"
      ]
    },
    {
      "cell_type": "code",
      "execution_count": 187,
      "metadata": {
        "height": 132,
        "id": "8343409c-8e93-4463-9499-94d0c27aa73e",
        "colab": {
          "base_uri": "https://localhost:8080/"
        },
        "outputId": "8e6e1e40-f275-4e6f-b9fb-f5768b51a83e"
      },
      "outputs": [
        {
          "output_type": "execute_result",
          "data": {
            "text/plain": [
              "[]"
            ]
          },
          "metadata": {},
          "execution_count": 187
        }
      ],
      "source": [
        "kg.query(\"\"\"\n",
        "  MATCH p=(:Manager)-[:LOCATED_AT]->(address:Address)\n",
        "         WHERE address.state = 'California'\n",
        "  RETURN address.city as city, count(address.city) as numManagers\n",
        "    ORDER BY numManagers DESC\n",
        "    LIMIT 10\n",
        "\"\"\")"
      ]
    },
    {
      "cell_type": "markdown",
      "metadata": {
        "id": "9cbd5777-7663-4941-98d2-8649e4e4d410"
      },
      "source": [
        "- Which city in California has the most companies listed?"
      ]
    },
    {
      "cell_type": "code",
      "execution_count": 188,
      "metadata": {
        "height": 115,
        "id": "1a978b52-a0e2-4ace-8002-b4e92fc6f7a5",
        "colab": {
          "base_uri": "https://localhost:8080/"
        },
        "outputId": "bcc9ae2b-5df8-4222-ba19-367651ed749b"
      },
      "outputs": [
        {
          "output_type": "execute_result",
          "data": {
            "text/plain": [
              "[]"
            ]
          },
          "metadata": {},
          "execution_count": 188
        }
      ],
      "source": [
        "kg.query(\"\"\"\n",
        "  MATCH p=(:Company)-[:LOCATED_AT]->(address:Address)\n",
        "         WHERE address.state = 'California'\n",
        "  RETURN address.city as city, count(address.city) as numCompanies\n",
        "    ORDER BY numCompanies DESC\n",
        "\"\"\")"
      ]
    },
    {
      "cell_type": "markdown",
      "metadata": {
        "id": "e377e9ea-824e-4a98-a6ae-fdcd8f8f740d"
      },
      "source": [
        "- What are top investment firms in San Francisco?"
      ]
    },
    {
      "cell_type": "code",
      "execution_count": 189,
      "metadata": {
        "height": 149,
        "id": "bf979e5f-2e46-46f2-a0a0-4cfb011b3640",
        "colab": {
          "base_uri": "https://localhost:8080/"
        },
        "outputId": "3e9510dd-8f55-4ceb-a167-a7cf164a207d"
      },
      "outputs": [
        {
          "output_type": "execute_result",
          "data": {
            "text/plain": [
              "[]"
            ]
          },
          "metadata": {},
          "execution_count": 189
        }
      ],
      "source": [
        "kg.query(\"\"\"\n",
        "  MATCH p=(mgr:Manager)-[:LOCATED_AT]->(address:Address),\n",
        "         (mgr)-[owns:OWNS_STOCK_IN]->(:Company)\n",
        "         WHERE address.city = \"San Francisco\"\n",
        "  RETURN mgr.managerName, sum(owns.value) as totalInvestmentValue\n",
        "    ORDER BY totalInvestmentValue DESC\n",
        "    LIMIT 10\n",
        "\"\"\")"
      ]
    },
    {
      "cell_type": "markdown",
      "metadata": {
        "id": "d723b3a2-25db-497c-ac23-b4ffb0afc657"
      },
      "source": [
        "- What companies are located in Santa Clara?"
      ]
    },
    {
      "cell_type": "code",
      "execution_count": 190,
      "metadata": {
        "height": 98,
        "id": "6b32ef15-05c6-43fb-a34a-536dfdfd8c07",
        "colab": {
          "base_uri": "https://localhost:8080/"
        },
        "outputId": "b6b29429-65f5-4a83-e706-96630d3e3eee"
      },
      "outputs": [
        {
          "output_type": "execute_result",
          "data": {
            "text/plain": [
              "[]"
            ]
          },
          "metadata": {},
          "execution_count": 190
        }
      ],
      "source": [
        "kg.query(\"\"\"\n",
        "  MATCH (com:Company)-[:LOCATED_AT]->(address:Address)\n",
        "         WHERE address.city = \"Santa Clara\"\n",
        "  RETURN com.companyName\n",
        "\"\"\")"
      ]
    },
    {
      "cell_type": "markdown",
      "metadata": {
        "id": "ab8a1379-d7c3-46a7-b730-13e1cc913027"
      },
      "source": [
        "- What companies are near Santa Clara?"
      ]
    },
    {
      "cell_type": "code",
      "execution_count": 191,
      "metadata": {
        "height": 132,
        "id": "61d92aea-e612-411c-8935-4087ce4a7247",
        "colab": {
          "base_uri": "https://localhost:8080/"
        },
        "outputId": "6ec4a43f-0d1d-487e-bc6c-a8364af1654c"
      },
      "outputs": [
        {
          "output_type": "execute_result",
          "data": {
            "text/plain": [
              "[]"
            ]
          },
          "metadata": {},
          "execution_count": 191
        }
      ],
      "source": [
        "kg.query(\"\"\"\n",
        "  MATCH (sc:Address)\n",
        "    WHERE sc.city = \"Santa Clara\"\n",
        "  MATCH (com:Company)-[:LOCATED_AT]->(comAddr:Address)\n",
        "    WHERE point.distance(sc.location, comAddr.location) < 10000\n",
        "  RETURN com.companyName, com.companyAddress\n",
        "\"\"\")"
      ]
    },
    {
      "cell_type": "markdown",
      "metadata": {
        "id": "6222a9da-43de-4e95-882a-9de81c06c604"
      },
      "source": [
        "- What investment firms are near Santa Clara?\n",
        "- Try updating the distance in the query to expand the search radius"
      ]
    },
    {
      "cell_type": "code",
      "execution_count": 192,
      "metadata": {
        "height": 149,
        "id": "39f9dcb2-710c-429e-bdc6-5090a2ccb464",
        "colab": {
          "base_uri": "https://localhost:8080/"
        },
        "outputId": "e87db9b8-5470-4e5d-bf79-02ee04e1d6ea"
      },
      "outputs": [
        {
          "output_type": "execute_result",
          "data": {
            "text/plain": [
              "[]"
            ]
          },
          "metadata": {},
          "execution_count": 192
        }
      ],
      "source": [
        "kg.query(\"\"\"\n",
        "  MATCH (address:Address)\n",
        "    WHERE address.city = \"Santa Clara\"\n",
        "  MATCH (mgr:Manager)-[:LOCATED_AT]->(managerAddress:Address)\n",
        "    WHERE point.distance(address.location,\n",
        "        managerAddress.location) < 10000\n",
        "  RETURN mgr.managerName, mgr.managerAddress\n",
        "\"\"\")"
      ]
    },
    {
      "cell_type": "markdown",
      "metadata": {
        "id": "ae96ce5f-81fd-4465-9ad1-309154de3fe2"
      },
      "source": [
        "- Which investment firms are near Palo Alto Networks?\n",
        "- Note that full-text search is able to handle typos!"
      ]
    },
    {
      "cell_type": "code",
      "execution_count": null,
      "metadata": {
        "height": 302,
        "id": "9f82d4ea-c8fc-4508-969a-163480469f12"
      },
      "outputs": [],
      "source": [
        "# Which investment firms are near Palo Aalto Networks?\n",
        "kg.query(\"\"\"\n",
        "  CALL db.index.fulltext.queryNodes(\n",
        "         \"fullTextCompanyNames\",\n",
        "         \"Palo Alto Networks\"\n",
        "         ) YIELD node, score\n",
        "  WITH node as com\n",
        "  MATCH (com)-[:LOCATED_AT]->(comAddress:Address),\n",
        "    (mgr:Manager)-[:LOCATED_AT]->(mgrAddress:Address)\n",
        "    WHERE point.distance(comAddress.location,\n",
        "        mgrAddress.location) < 10000\n",
        "  RETURN mgr,\n",
        "    toInteger(point.distance(comAddress.location,\n",
        "        mgrAddress.location) / 1000) as distanceKm\n",
        "    ORDER BY distanceKm ASC\n",
        "    LIMIT 10\n",
        "\"\"\")"
      ]
    },
    {
      "cell_type": "markdown",
      "metadata": {
        "id": "24b6e2de-90e4-4341-b68f-c4ccc9d9d8a2"
      },
      "source": [
        "### Writing Cypher with an LLM"
      ]
    },
    {
      "cell_type": "markdown",
      "metadata": {
        "id": "da712612-b789-4c6f-a473-bc7f9b5d32fe"
      },
      "source": [
        "In this section, you'll use few-shot learning to teach an LLM to write Cypher\n",
        "- You'll use the OpenAI's GPT 3.5 model\n",
        "- You'll also use a new Neo4j integration within LangChain called **GraphCypherQAChain**"
      ]
    },
    {
      "cell_type": "code",
      "execution_count": 194,
      "metadata": {
        "height": 370,
        "id": "7bc2a60a-0da2-473c-ae3c-1684689da2fa"
      },
      "outputs": [],
      "source": [
        "CYPHER_GENERATION_TEMPLATE = \"\"\"Task:Generate Cypher statement to\n",
        "query a graph database.\n",
        "Instructions:\n",
        "Use only the provided relationship types and properties in the\n",
        "schema. Do not use any other relationship types or properties that\n",
        "are not provided.\n",
        "Schema:\n",
        "{schema}\n",
        "Note: Do not include any explanations or apologies in your responses.\n",
        "Do not respond to any questions that might ask anything else than\n",
        "for you to construct a Cypher statement.\n",
        "Do not include any text except the generated Cypher statement.\n",
        "Examples: Here are a few examples of generated Cypher\n",
        "statements for particular questions:\n",
        "\n",
        "# What investment firms are in San Francisco?\n",
        "MATCH (mgr:Manager)-[:LOCATED_AT]->(mgrAddress:Address)\n",
        "    WHERE mgrAddress.city = 'San Francisco'\n",
        "RETURN mgr.managerName\n",
        "The question is:\n",
        "{question}\"\"\""
      ]
    },
    {
      "cell_type": "code",
      "execution_count": 195,
      "metadata": {
        "height": 81,
        "id": "acb00bd4-a983-4a27-a176-4fa71c60c359"
      },
      "outputs": [],
      "source": [
        "CYPHER_GENERATION_PROMPT = PromptTemplate(\n",
        "    input_variables=[\"schema\", \"question\"],\n",
        "    template=CYPHER_GENERATION_TEMPLATE\n",
        ")"
      ]
    },
    {
      "cell_type": "code",
      "execution_count": null,
      "metadata": {
        "height": 115,
        "id": "a8988b57-5cdd-4e33-8b95-9a2579273723"
      },
      "outputs": [],
      "source": [
        "cypherChain = GraphCypherQAChain.from_llm(\n",
        "    ChatOpenAI(temperature=0),\n",
        "    graph=kg,\n",
        "    verbose=True,\n",
        "    cypher_prompt=CYPHER_GENERATION_PROMPT,\n",
        ")"
      ]
    },
    {
      "cell_type": "code",
      "execution_count": 197,
      "metadata": {
        "height": 64,
        "id": "fca1d1b0-e192-43a9-9a00-4d81f388df7c"
      },
      "outputs": [],
      "source": [
        "def prettyCypherChain(question: str) -> str:\n",
        "    response = cypherChain.run(question)\n",
        "    print(textwrap.fill(response, 60))"
      ]
    },
    {
      "cell_type": "code",
      "execution_count": null,
      "metadata": {
        "height": 30,
        "id": "849556db-797f-4227-ab8d-d95f81c60004"
      },
      "outputs": [],
      "source": [
        "prettyCypherChain(\"What investment firms are in San Francisco?\")"
      ]
    },
    {
      "cell_type": "code",
      "execution_count": null,
      "metadata": {
        "height": 30,
        "id": "37118b33-2166-49f9-8683-e04f395f13f4"
      },
      "outputs": [],
      "source": [
        "prettyCypherChain(\"What investment firms are in Menlo Park?\")"
      ]
    },
    {
      "cell_type": "code",
      "execution_count": null,
      "metadata": {
        "height": 30,
        "id": "017af6f6-0025-477e-8d99-ec9fa5add56d"
      },
      "outputs": [],
      "source": [
        "prettyCypherChain(\"What companies are in Santa Clara?\")"
      ]
    },
    {
      "cell_type": "code",
      "execution_count": null,
      "metadata": {
        "height": 30,
        "id": "53e20b99-8cb6-44ce-b801-a46a7ce0c751"
      },
      "outputs": [],
      "source": [
        "prettyCypherChain(\"What investment firms are near Santa Clara?\")"
      ]
    },
    {
      "cell_type": "markdown",
      "metadata": {
        "id": "4a957783-d88a-446b-a63f-ac8d7cc2e8a6"
      },
      "source": [
        "### Expand the prompt to teach the LLM new Cypher patterns"
      ]
    },
    {
      "cell_type": "code",
      "execution_count": null,
      "metadata": {
        "height": 455,
        "id": "3b4b75a5-814f-4734-95e6-20f6afa083b7"
      },
      "outputs": [],
      "source": [
        "CYPHER_GENERATION_TEMPLATE = \"\"\"Task:Generate Cypher statement to query a graph database.\n",
        "Instructions:\n",
        "Use only the provided relationship types and properties in the schema.\n",
        "Do not use any other relationship types or properties that are not provided.\n",
        "Schema:\n",
        "{schema}\n",
        "Note: Do not include any explanations or apologies in your responses.\n",
        "Do not respond to any questions that might ask anything else than for you to construct a Cypher statement.\n",
        "Do not include any text except the generated Cypher statement.\n",
        "Examples: Here are a few examples of generated Cypher statements for particular questions:\n",
        "\n",
        "# What investment firms are in San Francisco?\n",
        "MATCH (mgr:Manager)-[:LOCATED_AT]->(mgrAddress:Address)\n",
        "    WHERE mgrAddress.city = 'San Francisco'\n",
        "RETURN mgr.managerName\n",
        "\n",
        "# What investment firms are near Santa Clara?\n",
        "  MATCH (address:Address)\n",
        "    WHERE address.city = \"Santa Clara\"\n",
        "  MATCH (mgr:Manager)-[:LOCATED_AT]->(managerAddress:Address)\n",
        "    WHERE point.distance(address.location,\n",
        "        managerAddress.location) < 10000\n",
        "  RETURN mgr.managerName, mgr.managerAddress\n",
        "\n",
        "The question is:\n",
        "{question}\"\"\""
      ]
    },
    {
      "cell_type": "markdown",
      "metadata": {
        "id": "c97f80a7-62c8-4e52-84d2-1ef45e66dd05"
      },
      "source": [
        "- Update Cypher generation prompt with new template, and re-initialize the Cypher chain to use the new prompt\n",
        "- Rerun this code anytime you make a change to the Cypher generation template!"
      ]
    },
    {
      "cell_type": "code",
      "execution_count": null,
      "metadata": {
        "height": 200,
        "id": "c989e525-bff0-4b02-b5a4-4d00f178d83f"
      },
      "outputs": [],
      "source": [
        "CYPHER_GENERATION_PROMPT = PromptTemplate(\n",
        "    input_variables=[\"schema\", \"question\"],\n",
        "    template=CYPHER_GENERATION_TEMPLATE\n",
        ")\n",
        "\n",
        "cypherChain = GraphCypherQAChain.from_llm(\n",
        "    ChatOpenAI(temperature=0),\n",
        "    graph=kg,\n",
        "    verbose=True,\n",
        "    cypher_prompt=CYPHER_GENERATION_PROMPT,\n",
        ")"
      ]
    },
    {
      "cell_type": "code",
      "execution_count": null,
      "metadata": {
        "height": 30,
        "id": "df0bc4de-ae68-459b-b8ef-a4d1e4684e6b"
      },
      "outputs": [],
      "source": [
        "prettyCypherChain(\"What investment firms are near Santa Clara?\")"
      ]
    },
    {
      "cell_type": "markdown",
      "metadata": {
        "id": "3001e746-1920-43fe-a205-6bc00974d3b8"
      },
      "source": [
        "### Expand the query to retrieve information from the Form 10K chunks"
      ]
    },
    {
      "cell_type": "code",
      "execution_count": null,
      "metadata": {
        "height": 642,
        "id": "7e1fd6ce-a947-4ca4-98e1-9eff85f54140"
      },
      "outputs": [],
      "source": [
        "CYPHER_GENERATION_TEMPLATE = \"\"\"Task:Generate Cypher statement to query a graph database.\n",
        "Instructions:\n",
        "Use only the provided relationship types and properties in the schema.\n",
        "Do not use any other relationship types or properties that are not provided.\n",
        "Schema:\n",
        "{schema}\n",
        "Note: Do not include any explanations or apologies in your responses.\n",
        "Do not respond to any questions that might ask anything else than for you to construct a Cypher statement.\n",
        "Do not include any text except the generated Cypher statement.\n",
        "Examples: Here are a few examples of generated Cypher statements for particular questions:\n",
        "\n",
        "# What investment firms are in San Francisco?\n",
        "MATCH (mgr:Manager)-[:LOCATED_AT]->(mgrAddress:Address)\n",
        "    WHERE mgrAddress.city = 'San Francisco'\n",
        "RETURN mgr.managerName\n",
        "\n",
        "# What investment firms are near Santa Clara?\n",
        "  MATCH (address:Address)\n",
        "    WHERE address.city = \"Santa Clara\"\n",
        "  MATCH (mgr:Manager)-[:LOCATED_AT]->(managerAddress:Address)\n",
        "    WHERE point.distance(address.location,\n",
        "        managerAddress.location) < 10000\n",
        "  RETURN mgr.managerName, mgr.managerAddress\n",
        "\n",
        "# What does Palo Alto Networks do?\n",
        "  CALL db.index.fulltext.queryNodes(\n",
        "         \"fullTextCompanyNames\",\n",
        "         \"Palo Alto Networks\"\n",
        "         ) YIELD node, score\n",
        "  WITH node as com\n",
        "  MATCH (com)-[:FILED]->(f:Form),\n",
        "    (f)-[s:SECTION]->(c:Chunk)\n",
        "  WHERE s.f10kItem = \"item1\"\n",
        "RETURN c.text\n",
        "\n",
        "The question is:\n",
        "{question}\"\"\""
      ]
    },
    {
      "cell_type": "code",
      "execution_count": null,
      "metadata": {
        "height": 217,
        "id": "940ae18c-e29d-4970-b3e9-641e0bbcb9eb"
      },
      "outputs": [],
      "source": [
        "CYPHER_GENERATION_PROMPT = PromptTemplate(\n",
        "    input_variables=[\"schema\", \"question\"],\n",
        "    template=CYPHER_GENERATION_TEMPLATE\n",
        ")\n",
        "\n",
        "cypherChain = GraphCypherQAChain.from_llm(\n",
        "    ChatOpenAI(temperature=0),\n",
        "    graph=kg,\n",
        "    verbose=True,\n",
        "    cypher_prompt=CYPHER_GENERATION_PROMPT,\n",
        ")\n"
      ]
    },
    {
      "cell_type": "code",
      "execution_count": null,
      "metadata": {
        "height": 30,
        "id": "dcd29b47-f7d3-4b8a-8d6b-b3cdf31ad9fd"
      },
      "outputs": [],
      "source": [
        "prettyCypherChain(\"What does Palo Alto Networks do?\")"
      ]
    },
    {
      "cell_type": "markdown",
      "metadata": {
        "id": "8efee0c7-731a-4655-b425-ae6d3cdd838e"
      },
      "source": [
        "### Try for yourself!\n",
        "\n",
        "- Update the Cypher generation prompt below to ask different questions of the graph\n",
        "- You can run the \"check schema\" cell to be reminded of the graph structure\n",
        "- Use any of the examples in this notebook, or in previous lessons, to get started\n",
        "- Remember to update the prompt template and restart the GraphCypherQAChain each time you make updates!"
      ]
    },
    {
      "cell_type": "code",
      "execution_count": null,
      "metadata": {
        "height": 64,
        "id": "be1d5c18-a480-471e-bd3c-81cc0b6e5f1f"
      },
      "outputs": [],
      "source": [
        "# Check the graph schema\n",
        "kg.refresh_schema()\n",
        "print(textwrap.fill(kg.schema, 60))"
      ]
    },
    {
      "cell_type": "code",
      "execution_count": null,
      "metadata": {
        "height": 642,
        "id": "745f3ec8-fabf-4f66-92d1-73632ab77bef"
      },
      "outputs": [],
      "source": [
        "CYPHER_GENERATION_TEMPLATE = \"\"\"Task:Generate Cypher statement to query a graph database.\n",
        "Instructions:\n",
        "Use only the provided relationship types and properties in the schema.\n",
        "Do not use any other relationship types or properties that are not provided.\n",
        "Schema:\n",
        "{schema}\n",
        "Note: Do not include any explanations or apologies in your responses.\n",
        "Do not respond to any questions that might ask anything else than for you to construct a Cypher statement.\n",
        "Do not include any text except the generated Cypher statement.\n",
        "Examples: Here are a few examples of generated Cypher statements for particular questions:\n",
        "\n",
        "# What investment firms are in San Francisco?\n",
        "MATCH (mgr:Manager)-[:LOCATED_AT]->(mgrAddress:Address)\n",
        "    WHERE mgrAddress.city = 'San Francisco'\n",
        "RETURN mgr.managerName\n",
        "\n",
        "# What investment firms are near Santa Clara?\n",
        "  MATCH (address:Address)\n",
        "    WHERE address.city = \"Santa Clara\"\n",
        "  MATCH (mgr:Manager)-[:LOCATED_AT]->(managerAddress:Address)\n",
        "    WHERE point.distance(address.location,\n",
        "        managerAddress.location) < 10000\n",
        "  RETURN mgr.managerName, mgr.managerAddress\n",
        "\n",
        "# What does Palo Alto Networks do?\n",
        "  CALL db.index.fulltext.queryNodes(\n",
        "         \"fullTextCompanyNames\",\n",
        "         \"Palo Alto Networks\"\n",
        "         ) YIELD node, score\n",
        "  WITH node as com\n",
        "  MATCH (com)-[:FILED]->(f:Form),\n",
        "    (f)-[s:SECTION]->(c:Chunk)\n",
        "  WHERE s.f10kItem = \"item1\"\n",
        "RETURN c.text\n",
        "\n",
        "The question is:\n",
        "{question}\"\"\""
      ]
    },
    {
      "cell_type": "code",
      "execution_count": null,
      "metadata": {
        "height": 217,
        "id": "f3cff2ef-cd92-47f5-a2d3-40f13288cdcf"
      },
      "outputs": [],
      "source": [
        "# Update the prompt and reset the QA chain\n",
        "CYPHER_GENERATION_PROMPT = PromptTemplate(\n",
        "    input_variables=[\"schema\", \"question\"],\n",
        "    template=CYPHER_GENERATION_TEMPLATE\n",
        ")\n",
        "\n",
        "cypherChain = GraphCypherQAChain.from_llm(\n",
        "    ChatOpenAI(temperature=0),\n",
        "    graph=kg,\n",
        "    verbose=True,\n",
        "    cypher_prompt=CYPHER_GENERATION_PROMPT,\n",
        ")"
      ]
    },
    {
      "cell_type": "code",
      "execution_count": null,
      "metadata": {
        "height": 30,
        "id": "367efdd3-ce87-45a5-a1db-e9016f80760e"
      },
      "outputs": [],
      "source": [
        "prettyCypherChain(\"<<REPLACE WITH YOUR QUESTION>>\")"
      ]
    }
  ]
}